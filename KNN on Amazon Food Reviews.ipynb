{
 "cells": [
  {
   "cell_type": "markdown",
   "metadata": {},
   "source": [
    "# Amazon Fine Food Reviews Analysis\n",
    "\n",
    "\n",
    "Data Source: https://www.kaggle.com/snap/amazon-fine-food-reviews <br>\n",
    "\n",
    "EDA: https://nycdatascience.com/blog/student-works/amazon-fine-foods-visualization/\n",
    "\n",
    "\n",
    "The Amazon Fine Food Reviews dataset consists of reviews of fine foods from Amazon.<br>\n",
    "\n",
    "Number of reviews: 568,454<br>\n",
    "Number of users: 256,059<br>\n",
    "Number of products: 74,258<br>\n",
    "Timespan: Oct 1999 - Oct 2012<br>\n",
    "Number of Attributes/Columns in data: 10 \n",
    "\n",
    "Attribute Information:\n",
    "\n",
    "1. Id\n",
    "2. ProductId - unique identifier for the product\n",
    "3. UserId - unqiue identifier for the user\n",
    "4. ProfileName\n",
    "5. HelpfulnessNumerator - number of users who found the review helpful\n",
    "6. HelpfulnessDenominator - number of users who indicated whether they found the review helpful or not\n",
    "7. Score - rating between 1 and 5\n",
    "8. Time - timestamp for the review\n",
    "9. Summary - brief summary of the review\n",
    "10. Text - text of the review\n",
    "\n",
    "\n",
    "#### Objective:\n",
    "Given a review, determine whether the review is positive (rating of 4 or 5) or negative (rating of 1 or 2).\n",
    "\n",
    "<br>\n",
    "[Q] How to determine if a review is positive or negative?<br>\n",
    "<br> \n",
    "[Ans] We could use Score/Rating. A rating of 4 or 5 can be cosnidered as a positive review. A rating of 1 or 2 can be considered as negative one. A review of rating 3 is considered nuetral and such reviews are ignored from our analysis. This is an approximate and proxy way of determining the polarity (positivity/negativity) of a review.\n",
    "\n",
    "\n"
   ]
  },
  {
   "cell_type": "markdown",
   "metadata": {},
   "source": [
    "# [1]. Reading Data"
   ]
  },
  {
   "cell_type": "markdown",
   "metadata": {},
   "source": [
    "## [1.1] Loading the data\n",
    "\n",
    "The dataset is available in two forms\n",
    "1. .csv file\n",
    "2. SQLite Database\n",
    "\n",
    "In order to load the data, We have used the SQLITE dataset as it is easier to query the data and visualise the data efficiently.\n",
    "<br> \n",
    "\n",
    "Here as we only want to get the global sentiment of the recommendations (positive or negative), we will purposefully ignore all Scores equal to 3. If the score is above 3, then the recommendation wil be set to \"positive\". Otherwise, it will be set to \"negative\"."
   ]
  },
  {
   "cell_type": "code",
   "execution_count": 1,
   "metadata": {},
   "outputs": [
    {
     "name": "stderr",
     "output_type": "stream",
     "text": [
      "C:\\Users\\vajrapra\\AppData\\Local\\Continuum\\anaconda3\\lib\\site-packages\\gensim\\utils.py:1197: UserWarning: detected Windows; aliasing chunkize to chunkize_serial\n",
      "  warnings.warn(\"detected Windows; aliasing chunkize to chunkize_serial\")\n"
     ]
    }
   ],
   "source": [
    "%matplotlib inline\n",
    "import warnings\n",
    "warnings.filterwarnings(\"ignore\")\n",
    "\n",
    "\n",
    "import sqlite3\n",
    "import pandas as pd\n",
    "import numpy as np\n",
    "import nltk\n",
    "import string\n",
    "import matplotlib.pyplot as plt\n",
    "import seaborn as sns\n",
    "from sklearn.feature_extraction.text import TfidfTransformer\n",
    "from sklearn.feature_extraction.text import TfidfVectorizer\n",
    "\n",
    "from sklearn.feature_extraction.text import CountVectorizer\n",
    "from sklearn.metrics import confusion_matrix\n",
    "from sklearn import metrics\n",
    "from sklearn.metrics import roc_curve, auc, roc_auc_score\n",
    "from nltk.stem.porter import PorterStemmer\n",
    "\n",
    "import re\n",
    "# Tutorial about Python regular expressions: https://pymotw.com/2/re/\n",
    "import string\n",
    "from nltk.corpus import stopwords\n",
    "from nltk.stem import PorterStemmer\n",
    "from nltk.stem.wordnet import WordNetLemmatizer\n",
    "\n",
    "from gensim.models import Word2Vec\n",
    "from gensim.models import KeyedVectors\n",
    "import pickle\n",
    "\n",
    "from tqdm import tqdm\n",
    "import os\n",
    "from sklearn.neighbors import KNeighborsClassifier\n",
    "from sklearn.neighbors import KDTree\n",
    "from sklearn.preprocessing import StandardScaler\n",
    "from sklearn.model_selection import train_test_split\n",
    "from numpy import array\n",
    "import itertools\n",
    "from prettytable import PrettyTable # for printing data in tabular format"
   ]
  },
  {
   "cell_type": "code",
   "execution_count": null,
   "metadata": {},
   "outputs": [
    {
     "name": "stdout",
     "output_type": "stream",
     "text": [
      "Number of data points in our data (525814, 10)\n"
     ]
    },
    {
     "data": {
      "text/html": [
       "<div>\n",
       "<style scoped>\n",
       "    .dataframe tbody tr th:only-of-type {\n",
       "        vertical-align: middle;\n",
       "    }\n",
       "\n",
       "    .dataframe tbody tr th {\n",
       "        vertical-align: top;\n",
       "    }\n",
       "\n",
       "    .dataframe thead th {\n",
       "        text-align: right;\n",
       "    }\n",
       "</style>\n",
       "<table border=\"1\" class=\"dataframe\">\n",
       "  <thead>\n",
       "    <tr style=\"text-align: right;\">\n",
       "      <th></th>\n",
       "      <th>Id</th>\n",
       "      <th>ProductId</th>\n",
       "      <th>UserId</th>\n",
       "      <th>ProfileName</th>\n",
       "      <th>HelpfulnessNumerator</th>\n",
       "      <th>HelpfulnessDenominator</th>\n",
       "      <th>Score</th>\n",
       "      <th>Time</th>\n",
       "      <th>Summary</th>\n",
       "      <th>Text</th>\n",
       "    </tr>\n",
       "  </thead>\n",
       "  <tbody>\n",
       "    <tr>\n",
       "      <th>0</th>\n",
       "      <td>1</td>\n",
       "      <td>B001E4KFG0</td>\n",
       "      <td>A3SGXH7AUHU8GW</td>\n",
       "      <td>delmartian</td>\n",
       "      <td>1</td>\n",
       "      <td>1</td>\n",
       "      <td>1</td>\n",
       "      <td>1303862400</td>\n",
       "      <td>Good Quality Dog Food</td>\n",
       "      <td>I have bought several of the Vitality canned d...</td>\n",
       "    </tr>\n",
       "    <tr>\n",
       "      <th>1</th>\n",
       "      <td>2</td>\n",
       "      <td>B00813GRG4</td>\n",
       "      <td>A1D87F6ZCVE5NK</td>\n",
       "      <td>dll pa</td>\n",
       "      <td>0</td>\n",
       "      <td>0</td>\n",
       "      <td>0</td>\n",
       "      <td>1346976000</td>\n",
       "      <td>Not as Advertised</td>\n",
       "      <td>Product arrived labeled as Jumbo Salted Peanut...</td>\n",
       "    </tr>\n",
       "    <tr>\n",
       "      <th>2</th>\n",
       "      <td>3</td>\n",
       "      <td>B000LQOCH0</td>\n",
       "      <td>ABXLMWJIXXAIN</td>\n",
       "      <td>Natalia Corres \"Natalia Corres\"</td>\n",
       "      <td>1</td>\n",
       "      <td>1</td>\n",
       "      <td>1</td>\n",
       "      <td>1219017600</td>\n",
       "      <td>\"Delight\" says it all</td>\n",
       "      <td>This is a confection that has been around a fe...</td>\n",
       "    </tr>\n",
       "  </tbody>\n",
       "</table>\n",
       "</div>"
      ],
      "text/plain": [
       "   Id   ProductId          UserId                      ProfileName  \\\n",
       "0   1  B001E4KFG0  A3SGXH7AUHU8GW                       delmartian   \n",
       "1   2  B00813GRG4  A1D87F6ZCVE5NK                           dll pa   \n",
       "2   3  B000LQOCH0   ABXLMWJIXXAIN  Natalia Corres \"Natalia Corres\"   \n",
       "\n",
       "   HelpfulnessNumerator  HelpfulnessDenominator  Score        Time  \\\n",
       "0                     1                       1      1  1303862400   \n",
       "1                     0                       0      0  1346976000   \n",
       "2                     1                       1      1  1219017600   \n",
       "\n",
       "                 Summary                                               Text  \n",
       "0  Good Quality Dog Food  I have bought several of the Vitality canned d...  \n",
       "1      Not as Advertised  Product arrived labeled as Jumbo Salted Peanut...  \n",
       "2  \"Delight\" says it all  This is a confection that has been around a fe...  "
      ]
     },
     "execution_count": 2,
     "metadata": {},
     "output_type": "execute_result"
    }
   ],
   "source": [
    "# using SQLite Table to read data.\n",
    "con = sqlite3.connect('database.sqlite') \n",
    "\n",
    "# filtering only positive and negative reviews i.e. \n",
    "# not taking into consideration those reviews with Score=3\n",
    "# SELECT * FROM Reviews WHERE Score != 3 LIMIT 500000, will give top 500000 data points\n",
    "# you can change the number to any other number based on your computing power\n",
    "\n",
    "# filtered_data = pd.read_sql_query(\"\"\" SELECT * FROM Reviews WHERE Score != 3 LIMIT 500000\"\"\", con) \n",
    "# for KNN assignment you can take 20k data points\n",
    "\n",
    "filtered_data = pd.read_sql_query(\"\"\" SELECT * FROM Reviews WHERE Score != 3\"\"\", con) \n",
    "\n",
    "# Give reviews with Score>3 a positive rating(1), and reviews with a score<3 a negative rating(0).\n",
    "def partition(x):\n",
    "    if x < 3:\n",
    "        return 0\n",
    "    return 1\n",
    "\n",
    "#changing reviews with score less than 3 to be positive and vice-versa\n",
    "actualScore = filtered_data['Score']\n",
    "positiveNegative = actualScore.map(partition) \n",
    "filtered_data['Score'] = positiveNegative\n",
    "print(\"Number of data points in our data\", filtered_data.shape)\n",
    "filtered_data.head(3)"
   ]
  },
  {
   "cell_type": "code",
   "execution_count": null,
   "metadata": {},
   "outputs": [],
   "source": [
    "display = pd.read_sql_query(\"\"\"\n",
    "SELECT UserId, ProductId, ProfileName, Time, Score, Text, COUNT(*)\n",
    "FROM Reviews\n",
    "GROUP BY UserId\n",
    "HAVING COUNT(*)>1\n",
    "\"\"\", con)"
   ]
  },
  {
   "cell_type": "code",
   "execution_count": null,
   "metadata": {
    "scrolled": true
   },
   "outputs": [],
   "source": [
    "print(display.shape)\n",
    "display.head()"
   ]
  },
  {
   "cell_type": "code",
   "execution_count": null,
   "metadata": {},
   "outputs": [],
   "source": [
    "display[display['UserId']=='AZY10LLTJ71NX']"
   ]
  },
  {
   "cell_type": "code",
   "execution_count": null,
   "metadata": {},
   "outputs": [],
   "source": [
    "display['COUNT(*)'].sum()"
   ]
  },
  {
   "cell_type": "markdown",
   "metadata": {},
   "source": [
    "#  [2] Exploratory Data Analysis"
   ]
  },
  {
   "cell_type": "markdown",
   "metadata": {},
   "source": [
    "## [2.1] Data Cleaning: Deduplication\n",
    "\n",
    "It is observed (as shown in the table below) that the reviews data had many duplicate entries. Hence it was necessary to remove duplicates in order to get unbiased results for the analysis of the data.  Following is an example:"
   ]
  },
  {
   "cell_type": "code",
   "execution_count": null,
   "metadata": {
    "scrolled": false
   },
   "outputs": [],
   "source": [
    "display= pd.read_sql_query(\"\"\"\n",
    "SELECT *\n",
    "FROM Reviews\n",
    "WHERE Score != 3 AND UserId=\"AR5J8UI46CURR\"\n",
    "ORDER BY ProductID\n",
    "\"\"\", con)\n",
    "display.head()"
   ]
  },
  {
   "cell_type": "markdown",
   "metadata": {},
   "source": [
    "As it can be seen above that same user has multiple reviews with same values for HelpfulnessNumerator, HelpfulnessDenominator, Score, Time, Summary and Text and on doing analysis it was found that <br>\n",
    "<br> \n",
    "ProductId=B000HDOPZG was Loacker Quadratini Vanilla Wafer Cookies, 8.82-Ounce Packages (Pack of 8)<br>\n",
    "<br> \n",
    "ProductId=B000HDL1RQ was Loacker Quadratini Lemon Wafer Cookies, 8.82-Ounce Packages (Pack of 8) and so on<br>\n",
    "\n",
    "It was inferred after analysis that reviews with same parameters other than ProductId belonged to the same product just having different flavour or quantity. Hence in order to reduce redundancy it was decided to eliminate the rows having same parameters.<br>\n",
    "\n",
    "The method used for the same was that we first sort the data according to ProductId and then just keep the first similar product review and delelte the others. for eg. in the above just the review for ProductId=B000HDL1RQ remains. This method ensures that there is only one representative for each product and deduplication without sorting would lead to possibility of different representatives still existing for the same product."
   ]
  },
  {
   "cell_type": "code",
   "execution_count": null,
   "metadata": {},
   "outputs": [],
   "source": [
    "#Sorting data according to ProductId in ascending order\n",
    "sorted_data=filtered_data.sort_values('ProductId', axis=0, ascending=True, inplace=False, kind='quicksort', na_position='last')"
   ]
  },
  {
   "cell_type": "code",
   "execution_count": null,
   "metadata": {},
   "outputs": [],
   "source": [
    "#Deduplication of entries\n",
    "final=sorted_data.drop_duplicates(subset={\"UserId\",\"ProfileName\",\"Time\",\"Text\"}, keep='first', inplace=False)\n",
    "final.shape"
   ]
  },
  {
   "cell_type": "code",
   "execution_count": null,
   "metadata": {},
   "outputs": [],
   "source": [
    "#Checking to see how much % of data still remains\n",
    "(final['Id'].size*1.0)/(filtered_data['Id'].size*1.0)*100"
   ]
  },
  {
   "cell_type": "markdown",
   "metadata": {},
   "source": [
    "<b>Observation:-</b> It was also seen that in two rows given below the value of HelpfulnessNumerator is greater than HelpfulnessDenominator which is not practically possible hence these two rows too are removed from calcualtions"
   ]
  },
  {
   "cell_type": "code",
   "execution_count": null,
   "metadata": {},
   "outputs": [],
   "source": [
    "display= pd.read_sql_query(\"\"\"\n",
    "SELECT *\n",
    "FROM Reviews\n",
    "WHERE Score != 3 AND Id=44737 OR Id=64422\n",
    "ORDER BY ProductID\n",
    "\"\"\", con)\n",
    "\n",
    "display.head()"
   ]
  },
  {
   "cell_type": "code",
   "execution_count": null,
   "metadata": {},
   "outputs": [],
   "source": [
    "final=final[final.HelpfulnessNumerator<=final.HelpfulnessDenominator]"
   ]
  },
  {
   "cell_type": "code",
   "execution_count": null,
   "metadata": {},
   "outputs": [],
   "source": [
    "#Before starting the next phase of preprocessing lets see the number of entries left\n",
    "print(final.shape)\n",
    "\n",
    "#How many positive and negative reviews are present in our dataset?\n",
    "final['Score'].value_counts()"
   ]
  },
  {
   "cell_type": "markdown",
   "metadata": {},
   "source": [
    "#### Balancing the data set"
   ]
  },
  {
   "cell_type": "code",
   "execution_count": 16,
   "metadata": {},
   "outputs": [
    {
     "name": "stdout",
     "output_type": "stream",
     "text": [
      "1    10000\n",
      "0    10000\n",
      "Name: Score, dtype: int64\n"
     ]
    }
   ],
   "source": [
    "neg_df = final[final['Score']==0].sample(axis = 0, n=10000)\n",
    "pos_df = final[final['Score']==1].sample(axis = 0, n=10000)\n",
    "final = pd.concat([neg_df,pos_df])\n",
    "final.shape\n",
    "print(final['Score'].value_counts())"
   ]
  },
  {
   "cell_type": "markdown",
   "metadata": {},
   "source": [
    "#  [3] Preprocessing"
   ]
  },
  {
   "cell_type": "markdown",
   "metadata": {},
   "source": [
    "## [3.1].  Preprocessing Review Text\n",
    "\n",
    "Now that we have finished deduplication our data requires some preprocessing before we go on further with analysis and making the prediction model.\n",
    "\n",
    "Hence in the Preprocessing phase we do the following in the order below:-\n",
    "\n",
    "1. Begin by removing the html tags\n",
    "2. Remove any punctuations or limited set of special characters like , or . or # etc.\n",
    "3. Check if the word is made up of english letters and is not alpha-numeric\n",
    "4. Check to see if the length of the word is greater than 2 (as it was researched that there is no adjective in 2-letters)\n",
    "5. Convert the word to lowercase\n",
    "6. Remove Stopwords\n",
    "7. Finally Snowball Stemming the word (it was obsereved to be better than Porter Stemming)<br>\n",
    "\n",
    "After which we collect the words used to describe positive and negative reviews"
   ]
  },
  {
   "cell_type": "code",
   "execution_count": 17,
   "metadata": {},
   "outputs": [
    {
     "name": "stdout",
     "output_type": "stream",
     "text": [
      "This is the grossest vile green puree of what looks like a babies rear has been near.... except for the chunks of cottage cheese???  Is that what that stuff was that was more like tofu, also in a nasty green puree... stay away...far, far away!<br /><br />Tell you what if you want to see for yourself, as I have 5 of the 6 packages left.  Send me a SASE and i'll gladly poop it to you ... no problem...\n",
      "==================================================\n",
      "My 10-month daughter does like eating these rick rusks, so we ordered some.<br />We are very angry after we received them and found all of them will be expired on this Aug. And these products can not be returned.<br />We do not know why they do not show us the expire date of their products?\n",
      "==================================================\n",
      "I am glad I got the chance to use this tea in my Keurig but my advice is to go back to make it the old-fashioned way, it delivers a huge difference in taste using K-cups. You might like it but never me\n",
      "==================================================\n",
      "I was disappointed with the flavor of these. I really love the taste of nutritional yeast (I'm a vegan) but the only discernable flavor of these doodles was salt. I don't know why nutritional yeast is listed as one of the ingredients and the flavor non-existent. I think it may have been a marketing ploy to entice \"health nuts\" and vegans to buy them. It's too bad since nutritional yeast is so full of nutrients and flavor. If you are a vegan, don't waste your money!! Go makes some popcorn and sprinkle some nutrional yeast over it.... it's much less expensive and healthier than these lousy things, I mean \"Tings\".\n",
      "==================================================\n"
     ]
    }
   ],
   "source": [
    "# printing some random reviews\n",
    "sent_0 = final['Text'].values[0]\n",
    "print(sent_0)\n",
    "print(\"=\"*50)\n",
    "\n",
    "sent_1000 = final['Text'].values[1000]\n",
    "print(sent_1000)\n",
    "print(\"=\"*50)\n",
    "\n",
    "sent_1500 = final['Text'].values[1500]\n",
    "print(sent_1500)\n",
    "print(\"=\"*50)\n",
    "\n",
    "sent_4900 = final['Text'].values[4900]\n",
    "print(sent_4900)\n",
    "print(\"=\"*50)"
   ]
  },
  {
   "cell_type": "code",
   "execution_count": 18,
   "metadata": {},
   "outputs": [
    {
     "name": "stdout",
     "output_type": "stream",
     "text": [
      "This is the grossest vile green puree of what looks like a babies rear has been near.... except for the chunks of cottage cheese???  Is that what that stuff was that was more like tofu, also in a nasty green puree... stay away...far, far away!<br /><br />Tell you what if you want to see for yourself, as I have 5 of the 6 packages left.  Send me a SASE and i'll gladly poop it to you ... no problem...\n"
     ]
    }
   ],
   "source": [
    "# remove urls from text python: https://stackoverflow.com/a/40823105/4084039\n",
    "sent_0 = re.sub(r\"http\\S+\", \"\", sent_0)\n",
    "sent_1000 = re.sub(r\"http\\S+\", \"\", sent_1000)\n",
    "sent_150 = re.sub(r\"http\\S+\", \"\", sent_1500)\n",
    "sent_4900 = re.sub(r\"http\\S+\", \"\", sent_4900)\n",
    "\n",
    "print(sent_0)"
   ]
  },
  {
   "cell_type": "code",
   "execution_count": 19,
   "metadata": {},
   "outputs": [
    {
     "name": "stdout",
     "output_type": "stream",
     "text": [
      "This is the grossest vile green puree of what looks like a babies rear has been near.... except for the chunks of cottage cheese???  Is that what that stuff was that was more like tofu, also in a nasty green puree... stay away...far, far away!Tell you what if you want to see for yourself, as I have 5 of the 6 packages left.  Send me a SASE and i'll gladly poop it to you ... no problem...\n",
      "==================================================\n",
      "My 10-month daughter does like eating these rick rusks, so we ordered some.We are very angry after we received them and found all of them will be expired on this Aug. And these products can not be returned.We do not know why they do not show us the expire date of their products?\n",
      "==================================================\n",
      "I am glad I got the chance to use this tea in my Keurig but my advice is to go back to make it the old-fashioned way, it delivers a huge difference in taste using K-cups. You might like it but never me\n",
      "==================================================\n",
      "I was disappointed with the flavor of these. I really love the taste of nutritional yeast (I'm a vegan) but the only discernable flavor of these doodles was salt. I don't know why nutritional yeast is listed as one of the ingredients and the flavor non-existent. I think it may have been a marketing ploy to entice \"health nuts\" and vegans to buy them. It's too bad since nutritional yeast is so full of nutrients and flavor. If you are a vegan, don't waste your money!! Go makes some popcorn and sprinkle some nutrional yeast over it.... it's much less expensive and healthier than these lousy things, I mean \"Tings\".\n"
     ]
    }
   ],
   "source": [
    "# https://stackoverflow.com/questions/16206380/python-beautifulsoup-how-to-remove-all-tags-from-an-element\n",
    "from bs4 import BeautifulSoup\n",
    "\n",
    "soup = BeautifulSoup(sent_0, 'lxml')\n",
    "text = soup.get_text()\n",
    "print(text)\n",
    "print(\"=\"*50)\n",
    "\n",
    "soup = BeautifulSoup(sent_1000, 'lxml')\n",
    "text = soup.get_text()\n",
    "print(text)\n",
    "print(\"=\"*50)\n",
    "\n",
    "soup = BeautifulSoup(sent_1500, 'lxml')\n",
    "text = soup.get_text()\n",
    "print(text)\n",
    "print(\"=\"*50)\n",
    "\n",
    "soup = BeautifulSoup(sent_4900, 'lxml')\n",
    "text = soup.get_text()\n",
    "print(text)"
   ]
  },
  {
   "cell_type": "code",
   "execution_count": 20,
   "metadata": {},
   "outputs": [],
   "source": [
    "# https://stackoverflow.com/a/47091490/4084039\n",
    "import re\n",
    "\n",
    "def decontracted(phrase):\n",
    "    # specific\n",
    "    phrase = re.sub(r\"won't\", \"will not\", phrase)\n",
    "    phrase = re.sub(r\"can\\'t\", \"can not\", phrase)\n",
    "\n",
    "    # general\n",
    "    phrase = re.sub(r\"n\\'t\", \" not\", phrase)\n",
    "    phrase = re.sub(r\"\\'re\", \" are\", phrase)\n",
    "    phrase = re.sub(r\"\\'s\", \" is\", phrase)\n",
    "    phrase = re.sub(r\"\\'d\", \" would\", phrase)\n",
    "    phrase = re.sub(r\"\\'ll\", \" will\", phrase)\n",
    "    phrase = re.sub(r\"\\'t\", \" not\", phrase)\n",
    "    phrase = re.sub(r\"\\'ve\", \" have\", phrase)\n",
    "    phrase = re.sub(r\"\\'m\", \" am\", phrase)\n",
    "    return phrase"
   ]
  },
  {
   "cell_type": "code",
   "execution_count": 21,
   "metadata": {},
   "outputs": [
    {
     "name": "stdout",
     "output_type": "stream",
     "text": [
      "I was disappointed with the flavor of these. I really love the taste of nutritional yeast (I am a vegan) but the only discernable flavor of these doodles was salt. I do not know why nutritional yeast is listed as one of the ingredients and the flavor non-existent. I think it may have been a marketing ploy to entice \"health nuts\" and vegans to buy them. It is too bad since nutritional yeast is so full of nutrients and flavor. If you are a vegan, do not waste your money!! Go makes some popcorn and sprinkle some nutrional yeast over it.... it is much less expensive and healthier than these lousy things, I mean \"Tings\".\n",
      "==================================================\n"
     ]
    }
   ],
   "source": [
    "sent_4900 = decontracted(sent_4900)\n",
    "print(sent_4900)\n",
    "print(\"=\"*50)"
   ]
  },
  {
   "cell_type": "code",
   "execution_count": 22,
   "metadata": {},
   "outputs": [
    {
     "name": "stdout",
     "output_type": "stream",
     "text": [
      "This is the grossest vile green puree of what looks like a babies rear has been near.... except for the chunks of cottage cheese???  Is that what that stuff was that was more like tofu, also in a nasty green puree... stay away...far, far away!<br /><br />Tell you what if you want to see for yourself, as I have  of the  packages left.  Send me a SASE and i'll gladly poop it to you ... no problem...\n"
     ]
    }
   ],
   "source": [
    "#remove words with numbers python: https://stackoverflow.com/a/18082370/4084039\n",
    "sent_0 = re.sub(\"\\S*\\d\\S*\", \"\", sent_0).strip()\n",
    "print(sent_0)"
   ]
  },
  {
   "cell_type": "code",
   "execution_count": 23,
   "metadata": {},
   "outputs": [
    {
     "name": "stdout",
     "output_type": "stream",
     "text": [
      "I am glad I got the chance to use this tea in my Keurig but my advice is to go back to make it the old fashioned way it delivers a huge difference in taste using K cups You might like it but never me\n"
     ]
    }
   ],
   "source": [
    "#remove spacial character: https://stackoverflow.com/a/5843547/4084039\n",
    "sent_1500 = re.sub('[^A-Za-z0-9]+', ' ', sent_1500)\n",
    "print(sent_1500)"
   ]
  },
  {
   "cell_type": "code",
   "execution_count": 24,
   "metadata": {},
   "outputs": [],
   "source": [
    "# https://gist.github.com/sebleier/554280\n",
    "# we are removing the words from the stop words list: 'no', 'nor', 'not'\n",
    "# <br /><br /> ==> after the above steps, we are getting \"br br\"\n",
    "# we are including them into stop words list\n",
    "# instead of <br /> if we have <br/> these tags would have revmoved in the 1st step\n",
    "\n",
    "stopwords= set(['br', 'the', 'i', 'me', 'my', 'myself', 'we', 'our', 'ours', 'ourselves', 'you', \"you're\", \"you've\",\\\n",
    "            \"you'll\", \"you'd\", 'your', 'yours', 'yourself', 'yourselves', 'he', 'him', 'his', 'himself', \\\n",
    "            'she', \"she's\", 'her', 'hers', 'herself', 'it', \"it's\", 'its', 'itself', 'they', 'them', 'their',\\\n",
    "            'theirs', 'themselves', 'what', 'which', 'who', 'whom', 'this', 'that', \"that'll\", 'these', 'those', \\\n",
    "            'am', 'is', 'are', 'was', 'were', 'be', 'been', 'being', 'have', 'has', 'had', 'having', 'do', 'does', \\\n",
    "            'did', 'doing', 'a', 'an', 'the', 'and', 'but', 'if', 'or', 'because', 'as', 'until', 'while', 'of', \\\n",
    "            'at', 'by', 'for', 'with', 'about', 'against', 'between', 'into', 'through', 'during', 'before', 'after',\\\n",
    "            'above', 'below', 'to', 'from', 'up', 'down', 'in', 'out', 'on', 'off', 'over', 'under', 'again', 'further',\\\n",
    "            'then', 'once', 'here', 'there', 'when', 'where', 'why', 'how', 'all', 'any', 'both', 'each', 'few', 'more',\\\n",
    "            'most', 'other', 'some', 'such', 'only', 'own', 'same', 'so', 'than', 'too', 'very', \\\n",
    "            's', 't', 'can', 'will', 'just', 'don', \"don't\", 'should', \"should've\", 'now', 'd', 'll', 'm', 'o', 're', \\\n",
    "            've', 'y', 'ain', 'aren', \"aren't\", 'couldn', \"couldn't\", 'didn', \"didn't\", 'doesn', \"doesn't\", 'hadn',\\\n",
    "            \"hadn't\", 'hasn', \"hasn't\", 'haven', \"haven't\", 'isn', \"isn't\", 'ma', 'mightn', \"mightn't\", 'mustn',\\\n",
    "            \"mustn't\", 'needn', \"needn't\", 'shan', \"shan't\", 'shouldn', \"shouldn't\", 'wasn', \"wasn't\", 'weren', \"weren't\", \\\n",
    "            'won', \"won't\", 'wouldn', \"wouldn't\"])"
   ]
  },
  {
   "cell_type": "code",
   "execution_count": 25,
   "metadata": {},
   "outputs": [
    {
     "name": "stderr",
     "output_type": "stream",
     "text": [
      "100%|██████████████████████████████████| 20000/20000 [00:09<00:00, 2180.66it/s]\n"
     ]
    }
   ],
   "source": [
    "# Combining all the above stundents \n",
    "from tqdm import tqdm\n",
    "preprocessed_reviews = []\n",
    "# tqdm is for printing the status bar\n",
    "for sentance in tqdm(final['Text'].values):\n",
    "    sentance = re.sub(r\"http\\S+\", \"\", sentance)\n",
    "    sentance = BeautifulSoup(sentance, 'lxml').get_text()\n",
    "    sentance = decontracted(sentance)\n",
    "    sentance = re.sub(\"\\S*\\d\\S*\", \"\", sentance).strip()\n",
    "    sentance = re.sub('[^A-Za-z]+', ' ', sentance)\n",
    "    # https://gist.github.com/sebleier/554280\n",
    "    sentance = ' '.join(e.lower() for e in sentance.split() if e.lower() not in stopwords)\n",
    "    preprocessed_reviews.append(sentance.strip())"
   ]
  },
  {
   "cell_type": "code",
   "execution_count": 26,
   "metadata": {},
   "outputs": [
    {
     "data": {
      "text/plain": [
       "'glad got chance use tea keurig advice go back make old fashioned way delivers huge difference taste using k cups might like never'"
      ]
     },
     "execution_count": 26,
     "metadata": {},
     "output_type": "execute_result"
    }
   ],
   "source": [
    "preprocessed_reviews[1500]"
   ]
  },
  {
   "cell_type": "code",
   "execution_count": 27,
   "metadata": {},
   "outputs": [],
   "source": [
    "preprocessed_reviews = list(array(preprocessed_reviews))"
   ]
  },
  {
   "cell_type": "code",
   "execution_count": 28,
   "metadata": {},
   "outputs": [
    {
     "data": {
      "text/plain": [
       "pandas.core.series.Series"
      ]
     },
     "execution_count": 28,
     "metadata": {},
     "output_type": "execute_result"
    }
   ],
   "source": [
    "score = final['Score']\n",
    "score.reset_index(inplace = True, drop = True)\n",
    "type(score)"
   ]
  },
  {
   "cell_type": "code",
   "execution_count": 29,
   "metadata": {},
   "outputs": [],
   "source": [
    "reviews_tr, reviews_ts, score_tr, score_ts = \\\n",
    "train_test_split(preprocessed_reviews, score, test_size=0.40, random_state=42)"
   ]
  },
  {
   "cell_type": "code",
   "execution_count": 30,
   "metadata": {},
   "outputs": [],
   "source": [
    "ind_tr = score_tr.index.tolist()\n",
    "ind_ts = score_ts.index.tolist()"
   ]
  },
  {
   "cell_type": "code",
   "execution_count": 31,
   "metadata": {},
   "outputs": [
    {
     "name": "stdout",
     "output_type": "stream",
     "text": [
      "data points in train data set is: 12000\n",
      "data points in test data set is: 8000\n"
     ]
    }
   ],
   "source": [
    "# splitting into test and train data set in 40:60 ratio\n",
    "print(\"data points in train data set is:\",len(reviews_tr))\n",
    "print(\"data points in test data set is:\",len(reviews_ts))"
   ]
  },
  {
   "cell_type": "code",
   "execution_count": 32,
   "metadata": {},
   "outputs": [
    {
     "data": {
      "text/plain": [
       "1    6026\n",
       "0    5974\n",
       "Name: Score, dtype: int64"
      ]
     },
     "execution_count": 32,
     "metadata": {},
     "output_type": "execute_result"
    }
   ],
   "source": [
    "score_tr.value_counts()"
   ]
  },
  {
   "cell_type": "code",
   "execution_count": 33,
   "metadata": {},
   "outputs": [
    {
     "data": {
      "text/plain": [
       "0    4026\n",
       "1    3974\n",
       "Name: Score, dtype: int64"
      ]
     },
     "execution_count": 33,
     "metadata": {},
     "output_type": "execute_result"
    }
   ],
   "source": [
    "score_ts.value_counts()"
   ]
  },
  {
   "cell_type": "markdown",
   "metadata": {},
   "source": [
    "# [4] Featurization"
   ]
  },
  {
   "cell_type": "markdown",
   "metadata": {},
   "source": [
    "## [4.3] Word2Vec"
   ]
  },
  {
   "cell_type": "code",
   "execution_count": 34,
   "metadata": {},
   "outputs": [],
   "source": [
    "# Train your own Word2Vec model using your own text corpus\n",
    "i=0\n",
    "list_of_sentance=[]\n",
    "for sentance in reviews_tr:\n",
    "    list_of_sentance.append(sentance.split())"
   ]
  },
  {
   "cell_type": "code",
   "execution_count": 35,
   "metadata": {
    "scrolled": true
   },
   "outputs": [
    {
     "name": "stdout",
     "output_type": "stream",
     "text": [
      "[('good', 0.8312082290649414), ('excellent', 0.7909795045852661), ('makes', 0.7025638818740845), ('decent', 0.6888296604156494), ('especially', 0.6871694326400757), ('reasonable', 0.6795275211334229), ('quick', 0.6750308275222778), ('wonderful', 0.6653773784637451), ('beat', 0.6621816754341125), ('looking', 0.6586034297943115)]\n",
      "==================================================\n",
      "[('ever', 0.919545590877533), ('licorice', 0.8819770812988281), ('far', 0.8718487024307251), ('ive', 0.870471715927124), ('macchiato', 0.8687818646430969), ('combinations', 0.8681186437606812), ('preferences', 0.8625591397285461), ('expert', 0.856567919254303), ('hazelnut', 0.8564282655715942), ('enjoyed', 0.8560640811920166)]\n"
     ]
    }
   ],
   "source": [
    "# Using Google News Word2Vectors\n",
    "\n",
    "# in this project we are using a pretrained model by google\n",
    "# its 3.3G file, once you load this into your memory \n",
    "# it occupies ~9Gb, so please do this step only if you have >12G of ram\n",
    "# we will provide a pickle file wich contains a dict , \n",
    "# and it contains all our courpus words as keys and  model[word] as values\n",
    "# To use this code-snippet, download \"GoogleNews-vectors-negative300.bin\" \n",
    "# from https://drive.google.com/file/d/0B7XkCwpI5KDYNlNUTTlSS21pQmM/edit\n",
    "# it's 1.9GB in size.\n",
    "\n",
    "\n",
    "# http://kavita-ganesan.com/gensim-word2vec-tutorial-starter-code/#.W17SRFAzZPY\n",
    "# you can comment this whole cell\n",
    "# or change these varible according to your need\n",
    "\n",
    "is_your_ram_gt_16g=False\n",
    "want_to_use_google_w2v = False\n",
    "want_to_train_w2v = True\n",
    "\n",
    "if want_to_train_w2v:\n",
    "    # min_count = 5 considers only words that occured atleast 5 times\n",
    "    w2v_model=Word2Vec(list_of_sentance,min_count=5,size=50, workers=4)\n",
    "    print(w2v_model.wv.most_similar('great'))\n",
    "    print('='*50)\n",
    "    print(w2v_model.wv.most_similar('worst'))\n",
    "    \n",
    "elif want_to_use_google_w2v and is_your_ram_gt_16g:\n",
    "    if os.path.isfile('GoogleNews-vectors-negative300.bin'):\n",
    "        w2v_model=KeyedVectors.load_word2vec_format('GoogleNews-vectors-negative300.bin', binary=True)\n",
    "        print(w2v_model.wv.most_similar('great'))\n",
    "        print(w2v_model.wv.most_similar('worst'))\n",
    "    else:\n",
    "        print(\"you don't have gogole's word2vec file, keep want_to_train_w2v = True, to train your own w2v \")"
   ]
  },
  {
   "cell_type": "code",
   "execution_count": 36,
   "metadata": {},
   "outputs": [
    {
     "name": "stdout",
     "output_type": "stream",
     "text": [
      "number of words that occured minimum 5 times  6990\n",
      "sample words  ['one', 'better', 'peanut', 'butters', 'particularly', 'nice', 'consistent', 'butter', 'smoother', 'regard', 'jif', 'however', 'planters', 'bit', 'saltier', 'since', 'use', 'little', 'salt', 'food', 'preference', 'compared', 'favorite', 'salty', 'think', 'may', 'something', 'people', 'report', 'particular', 'salted', 'peanuts', 'hand', 'tends', 'sweeter', 'thicker', 'simply', 'even', 'less', 'uses', 'molasses', 'sweeteners', 'really', 'like', 'two', 'otherwise', 'worlds', 'apart', 'fresh', 'taste']\n"
     ]
    }
   ],
   "source": [
    "w2v_words = list(w2v_model.wv.vocab)\n",
    "print(\"number of words that occured minimum 5 times \",len(w2v_words))\n",
    "print(\"sample words \", w2v_words[0:50])"
   ]
  },
  {
   "cell_type": "markdown",
   "metadata": {},
   "source": [
    "## [4.3.1] Converting text into vectors using Avg W2V, TFIDF-W2V"
   ]
  },
  {
   "cell_type": "code",
   "execution_count": 37,
   "metadata": {},
   "outputs": [],
   "source": [
    "i=0\n",
    "list_of_sentance=[]\n",
    "for sentance in preprocessed_reviews:\n",
    "    list_of_sentance.append(sentance.split())"
   ]
  },
  {
   "cell_type": "markdown",
   "metadata": {},
   "source": [
    "#### [4.3.1.1] Avg W2v"
   ]
  },
  {
   "cell_type": "code",
   "execution_count": 38,
   "metadata": {},
   "outputs": [
    {
     "name": "stderr",
     "output_type": "stream",
     "text": [
      "100%|███████████████████████████████████| 20000/20000 [00:31<00:00, 637.60it/s]\n"
     ]
    },
    {
     "name": "stdout",
     "output_type": "stream",
     "text": [
      "20000\n",
      "50\n"
     ]
    }
   ],
   "source": [
    "# average Word2Vec\n",
    "# compute average word2vec for each review.\n",
    "sent_vectors = []; # the avg-w2v for each sentence/review is stored in this list\n",
    "for sent in tqdm(list_of_sentance): # for each review/sentence\n",
    "    sent_vec = np.zeros(50) # as word vectors are of zero length 50, you might need to change this to 300 if you use google's w2v\n",
    "    cnt_words =0; # num of words with a valid vector in the sentence/review\n",
    "    for word in sent: # for each word in a review/sentence\n",
    "        if word in w2v_words:\n",
    "            vec = w2v_model.wv[word]\n",
    "            sent_vec += vec\n",
    "            cnt_words += 1\n",
    "    if cnt_words != 0:\n",
    "        sent_vec /= cnt_words\n",
    "    sent_vectors.append(sent_vec)\n",
    "print(len(sent_vectors))\n",
    "print(len(sent_vectors[0]))"
   ]
  },
  {
   "cell_type": "code",
   "execution_count": 39,
   "metadata": {},
   "outputs": [],
   "source": [
    "tr_avgW2V = list(array(sent_vectors)[ind_tr])\n",
    "ts_avgW2V = list(array(sent_vectors)[ind_ts])"
   ]
  },
  {
   "cell_type": "markdown",
   "metadata": {},
   "source": [
    "#### [4.3.1.2] TFIDF weighted W2v"
   ]
  },
  {
   "cell_type": "code",
   "execution_count": 40,
   "metadata": {},
   "outputs": [],
   "source": [
    "# S = [\"abc def pqr\", \"def def def abc\", \"pqr pqr def\"]\n",
    "model = TfidfVectorizer()\n",
    "model.fit(reviews_tr)\n",
    "tf_idf_matrix = model.transform(preprocessed_reviews)\n",
    "# we are converting a dictionary with word as a key, and the idf as a value\n",
    "dictionary = dict(zip(model.get_feature_names(), list(model.idf_)))"
   ]
  },
  {
   "cell_type": "code",
   "execution_count": 41,
   "metadata": {
    "scrolled": true
   },
   "outputs": [
    {
     "name": "stderr",
     "output_type": "stream",
     "text": [
      "100%|████████████████████████████████████| 20000/20000 [03:32<00:00, 94.05it/s]\n"
     ]
    }
   ],
   "source": [
    "# TF-IDF weighted Word2Vec\n",
    "tfidf_feat = model.get_feature_names() # tfidf words/col-names\n",
    "# final_tf_idf is the sparse matrix with row= sentence, col=word and cell_val = tfidf\n",
    "\n",
    "tfidf_sent_vectors = []; # the tfidf-w2v for each sentence/review is stored in this list\n",
    "row=0;\n",
    "for sent in tqdm(list_of_sentance): # for each review/sentence \n",
    "    sent_vec = np.zeros(50) # as word vectors are of zero length\n",
    "    weight_sum =0; # num of words with a valid vector in the sentence/review\n",
    "    for word in sent: # for each word in a review/sentence\n",
    "        if word in w2v_words and word in tfidf_feat:\n",
    "            vec = w2v_model.wv[word]\n",
    "#             tf_idf = tf_idf_matrix[row, tfidf_feat.index(word)]\n",
    "            # to reduce the computation we are \n",
    "            # dictionary[word] = idf value of word in whole courpus\n",
    "            # sent.count(word) = tf valeus of word in this review\n",
    "            tf_idf = dictionary[word]*(sent.count(word)/len(sent))\n",
    "            sent_vec += (vec * tf_idf)\n",
    "            weight_sum += tf_idf\n",
    "    if weight_sum != 0:\n",
    "        sent_vec /= weight_sum\n",
    "    tfidf_sent_vectors.append(sent_vec)\n",
    "    row += 1"
   ]
  },
  {
   "cell_type": "code",
   "execution_count": 42,
   "metadata": {},
   "outputs": [],
   "source": [
    "tr_tfidfW2V = list(array(tfidf_sent_vectors)[ind_tr])\n",
    "ts_tfidfW2V = list(array(tfidf_sent_vectors)[ind_ts])"
   ]
  },
  {
   "cell_type": "markdown",
   "metadata": {},
   "source": [
    "# [5] Assignment 3: KNN"
   ]
  },
  {
   "cell_type": "markdown",
   "metadata": {},
   "source": [
    "<ol>\n",
    "    <li><strong>Apply Knn(brute force version) on these feature sets</strong>\n",
    "        <ul>\n",
    "            <li><font color='red'>SET 1:</font>Review text, preprocessed one converted into vectors using (BOW)</li>\n",
    "            <li><font color='red'>SET 2:</font>Review text, preprocessed one converted into vectors using (TFIDF)</li>\n",
    "            <li><font color='red'>SET 3:</font>Review text, preprocessed one converted into vectors using (AVG W2v)</li>\n",
    "            <li><font color='red'>SET 4:</font>Review text, preprocessed one converted into vectors using (TFIDF W2v)</li>\n",
    "        </ul>\n",
    "    </li>\n",
    "    <br>\n",
    "    <li><strong>Apply Knn(kd tree version) on these feature sets</strong>\n",
    "        <br><font color='red'>NOTE: </font>sklearn implementation of kd-tree accepts only dense matrices, you need to convert the sparse matrices of CountVectorizer/TfidfVectorizer into dense matices. You can convert sparse matrices to dense using .toarray() attribute. For more information please visit this <a href='https://docs.scipy.org/doc/scipy-0.18.1/reference/generated/scipy.sparse.csr_matrix.toarray.html'>link</a>\n",
    "        <ul>\n",
    "            <li><font color='red'>SET 5:</font>Review text, preprocessed one converted into vectors using (BOW) but with restriction on maximum features generated.\n",
    "            <pre>\n",
    "            count_vect = CountVectorizer(min_df=10, max_features=500) \n",
    "            count_vect.fit(preprocessed_reviews)\n",
    "            </pre>\n",
    "            </li>\n",
    "            <li><font color='red'>SET 6:</font>Review text, preprocessed one converted into vectors using (TFIDF) but with restriction on maximum features generated.\n",
    "            <pre>\n",
    "                tf_idf_vect = TfidfVectorizer(min_df=10, max_features=500)\n",
    "                tf_idf_vect.fit(preprocessed_reviews)\n",
    "            </pre>\n",
    "            </li>\n",
    "            <li><font color='red'>SET 3:</font>Review text, preprocessed one converted into vectors using (AVG W2v)</li>\n",
    "            <li><font color='red'>SET 4:</font>Review text, preprocessed one converted into vectors using (TFIDF W2v)</li>\n",
    "        </ul>\n",
    "    </li>\n",
    "    <br>\n",
    "    <li><strong>The hyper paramter tuning(find best K)</strong>\n",
    "        <ul>\n",
    "    <li>Find the best hyper parameter which will give the maximum <a href='https://www.appliedaicourse.com/course/applied-ai-course-online/lessons/receiver-operating-characteristic-curve-roc-curve-and-auc-1/'>AUC</a> value</li>\n",
    "    <li>Find the best hyper paramter using k-fold cross validation or simple cross validation data</li>\n",
    "    <li>Use gridsearch cv or randomsearch cv or you can also write your own for loops to do this task of hyperparameter tuning</li>\n",
    "        </ul>\n",
    "    </li>\n",
    "    <br>\n",
    "    <li>\n",
    "    <strong>Representation of results</strong>\n",
    "        <ul>\n",
    "    <li>You need to plot the performance of model both on train data and cross validation data for each hyper parameter, like shown in the figure\n",
    "    <img src='train_cv_auc.JPG' width=300px></li>\n",
    "    <li>Once after you found the best hyper parameter, you need to train your model with it, and find the AUC on test data and plot the ROC curve on both train and test.\n",
    "    <img src='train_test_auc.JPG' width=300px></li>\n",
    "    <li>Along with plotting ROC curve, you need to print the <a href='https://www.appliedaicourse.com/course/applied-ai-course-online/lessons/confusion-matrix-tpr-fpr-fnr-tnr-1/'>confusion matrix</a> with predicted and original labels of test data points\n",
    "    <img src='confusion_matrix.png' width=300px></li>\n",
    "        </ul>\n",
    "    </li>\n",
    "    <br>\n",
    "    <li><strong>Conclusion</strong>\n",
    "        <ul>\n",
    "    <li>You need to summarize the results at the end of the notebook, summarize it in the table format. To print out a table please refer to this prettytable library<a href='http://zetcode.com/python/prettytable/'> link</a> \n",
    "        <img src='summary.JPG' width=400px>\n",
    "    </li>\n",
    "        </ul>\n",
    "</ol>"
   ]
  },
  {
   "cell_type": "markdown",
   "metadata": {},
   "source": [
    "<h4><font color='red'>Note: Data Leakage</font></h4>\n",
    "\n",
    "1. There will be an issue of data-leakage if you vectorize the entire data and then split it into train/cv/test.\n",
    "2. To avoid the issue of data-leakag, make sure to split your data first and then vectorize it. \n",
    "3. While vectorizing your data, apply the method fit_transform() on you train data, and apply the method transform() on cv/test data.\n",
    "4. For more details please go through this <a href='https://soundcloud.com/applied-ai-course/leakage-bow-and-tfidf'>link.</a>"
   ]
  },
  {
   "cell_type": "code",
   "execution_count": 54,
   "metadata": {},
   "outputs": [],
   "source": [
    "def plot_confusion_matrix(cm, classes,\n",
    "                          cmap=plt.cm.Blues):\n",
    "    \n",
    "    title = 'Confusion matrix, without normalization'\n",
    "    plt.figure(figsize=(20, 4))\n",
    "    plt.subplot(1,2,1)\n",
    "    plt.ylabel('True label')\n",
    "    plt.xlabel('Predicted label')\n",
    "    \n",
    "    plt.imshow(cm, interpolation='nearest', cmap=cmap)\n",
    "    plt.title(title)\n",
    "    plt.colorbar()\n",
    "    tick_marks = np.arange(len(classes))\n",
    "    plt.xticks(tick_marks, classes, rotation=0)\n",
    "    plt.yticks(tick_marks, classes)\n",
    "    fmt = 'd'\n",
    "    thresh = cm.max() / 2.\n",
    "    for i, j in itertools.product(range(cm.shape[0]), range(cm.shape[1])):\n",
    "        plt.text(j, i, format(cm[i, j], fmt),\n",
    "                 horizontalalignment=\"center\",\n",
    "                 color=\"white\" if cm[i, j] > thresh else \"black\")\n",
    "     \n",
    "    title = \"Normalized confusion matrix\"\n",
    "    plt.subplot(1,2,2)\n",
    "    plt.ylabel('True label')\n",
    "    plt.xlabel('Predicted label')\n",
    "    cm = cm.astype('float') / cm.sum(axis=1)[:, np.newaxis]\n",
    "    plt.imshow(cm, interpolation='nearest', cmap=cmap)\n",
    "    plt.title(title)\n",
    "    plt.colorbar()\n",
    "    tick_marks = np.arange(len(classes))\n",
    "    plt.xticks(tick_marks, classes, rotation=0)\n",
    "    plt.yticks(tick_marks, classes)\n",
    "    fmt = '.2f'\n",
    "    thresh = cm.max() / 2.\n",
    "    for i, j in itertools.product(range(cm.shape[0]), range(cm.shape[1])):\n",
    "        plt.text(j, i, format(cm[i, j], fmt),\n",
    "                 horizontalalignment=\"center\",\n",
    "                 color=\"white\" if cm[i, j] > thresh else \"black\")\n",
    "    \n",
    "    plt.tight_layout()   "
   ]
  },
  {
   "cell_type": "markdown",
   "metadata": {},
   "source": [
    "## [5.1] Applying KNN brute force"
   ]
  },
  {
   "cell_type": "markdown",
   "metadata": {},
   "source": [
    "### [5.1.1] Applying KNN brute force on BOW,<font color='red'> SET 1</font>"
   ]
  },
  {
   "cell_type": "markdown",
   "metadata": {},
   "source": [
    "### BAG OF WORDS"
   ]
  },
  {
   "cell_type": "markdown",
   "metadata": {},
   "source": [
    "Since the #data points taken for training are small, we need to make sure the #columns/features are lower than the #rows. Else, there will be issues of curse of dimensionality. Hence, filtering the words having document frequency less than 3 also, removing all the high document frequency words one occuring more than 80% of the documents. Since, they are so common in all the documents, they don't add much variance to the data, hence, removing the low variance words."
   ]
  },
  {
   "cell_type": "code",
   "execution_count": 41,
   "metadata": {},
   "outputs": [
    {
     "name": "stdout",
     "output_type": "stream",
     "text": [
      "some feature names  ['abdominal', 'ability', 'able', 'absolute', 'absolutely', 'absorb', 'absorbed', 'absurd', 'abundance', 'abundant']\n",
      "==================================================\n",
      "train data:\n",
      "the type of count vectorizer  <class 'scipy.sparse.csr.csr_matrix'>\n",
      "the shape of out text BOW vectorizer  (12000, 6530)\n",
      "the number of unique words  6530\n",
      "==================================================\n",
      "test data:\n",
      "the shape of out text BOW vectorizer  (8000, 6530)\n"
     ]
    }
   ],
   "source": [
    "#BoW\n",
    "count_vect = CountVectorizer(min_df = 5, max_df = 0.8, binary = False) #in scikit-learn\n",
    "count_vect.fit(reviews_tr)\n",
    "print(\"some feature names \", count_vect.get_feature_names()[:10])\n",
    "print('='*50)\n",
    "\n",
    "print(\"train data:\")\n",
    "tr_count = count_vect.transform(reviews_tr)\n",
    "print(\"the type of count vectorizer \",type(tr_count))\n",
    "print(\"the shape of out text BOW vectorizer \",tr_count.get_shape())\n",
    "print(\"the number of unique words \", tr_count.get_shape()[1])\n",
    "print('='*50)\n",
    "\n",
    "print(\"test data:\")\n",
    "ts_count = count_vect.transform(reviews_ts)\n",
    "print(\"the shape of out text BOW vectorizer \",ts_count.get_shape())\n"
   ]
  },
  {
   "cell_type": "code",
   "execution_count": 42,
   "metadata": {},
   "outputs": [
    {
     "data": {
      "text/plain": [
       "1    0.502167\n",
       "0    0.497833\n",
       "Name: Score, dtype: float64"
      ]
     },
     "execution_count": 42,
     "metadata": {},
     "output_type": "execute_result"
    }
   ],
   "source": [
    "score_tr.value_counts()/score_tr.shape"
   ]
  },
  {
   "cell_type": "markdown",
   "metadata": {},
   "source": [
    "##### Standardising the data"
   ]
  },
  {
   "cell_type": "markdown",
   "metadata": {},
   "source": [
    "The BOW features that we are using isnt binary. Since KNN is a distance based method, we need to standardize the data before applying KNN. Since, BOW features is of type sparse matrix, standardization can make the matrix dense, hence, we need to make sure we standardize with paramater 'with_mean = False'. In this case standardization doesnt result in dense matrix, since we are just making the standard error 1 without changing the data mean to 0."
   ]
  },
  {
   "cell_type": "code",
   "execution_count": 43,
   "metadata": {},
   "outputs": [
    {
     "name": "stderr",
     "output_type": "stream",
     "text": [
      "C:\\Users\\vajrapra\\AppData\\Local\\Continuum\\anaconda3\\lib\\site-packages\\sklearn\\utils\\validation.py:595: DataConversionWarning: Data with input dtype int64 was converted to float64 by StandardScaler.\n",
      "  warnings.warn(msg, DataConversionWarning)\n",
      "C:\\Users\\vajrapra\\AppData\\Local\\Continuum\\anaconda3\\lib\\site-packages\\sklearn\\utils\\validation.py:595: DataConversionWarning: Data with input dtype int64 was converted to float64 by StandardScaler.\n",
      "  warnings.warn(msg, DataConversionWarning)\n",
      "C:\\Users\\vajrapra\\AppData\\Local\\Continuum\\anaconda3\\lib\\site-packages\\sklearn\\utils\\validation.py:595: DataConversionWarning: Data with input dtype int64 was converted to float64 by StandardScaler.\n",
      "  warnings.warn(msg, DataConversionWarning)\n"
     ]
    }
   ],
   "source": [
    "scaler = StandardScaler(with_mean=False)\n",
    "scaler.fit(tr_count)\n",
    "tr_std_count = scaler.transform(tr_count)\n",
    "ts_std_count = scaler.transform(ts_count)"
   ]
  },
  {
   "cell_type": "markdown",
   "metadata": {},
   "source": [
    "There are many distance metrics that can be used to get the neighborhood points from a point. Euclidian, Manhattan, Minkowski etc. We are using Euclidian distance which is nothing but Minkowski with p = 2 "
   ]
  },
  {
   "cell_type": "code",
   "execution_count": 44,
   "metadata": {
    "scrolled": true
   },
   "outputs": [
    {
     "name": "stdout",
     "output_type": "stream",
     "text": [
      "Test AUC with k = 5 is 0.63\n",
      "Test AUC with k = 9 is 0.62\n",
      "Test AUC with k = 13 is 0.62\n",
      "Test AUC with k = 17 is 0.62\n",
      "Test AUC with k = 21 is 0.64\n",
      "Test AUC with k = 25 is 0.65\n",
      "Test AUC with k = 29 is 0.68\n",
      "Test AUC with k = 33 is 0.7\n",
      "Test AUC with k = 37 is 0.71\n",
      "Test AUC with k = 41 is 0.72\n",
      "Test AUC with k = 45 is 0.73\n",
      "Test AUC with k = 49 is 0.73\n",
      "Test AUC with k = 53 is 0.74\n",
      "Test AUC with k = 57 is 0.75\n",
      "Test AUC with k = 61 is 0.76\n",
      "Test AUC with k = 65 is 0.76\n",
      "Test AUC with k = 69 is 0.75\n",
      "Test AUC with k = 73 is 0.76\n",
      "Test AUC with k = 77 is 0.76\n",
      "Test AUC with k = 81 is 0.77\n",
      "Test AUC with k = 85 is 0.77\n",
      "Test AUC with k = 89 is 0.77\n",
      "Test AUC with k = 93 is 0.77\n",
      "Test AUC with k = 97 is 0.78\n",
      "Test AUC with k = 101 is 0.78\n",
      "Test AUC with k = 105 is 0.78\n",
      "Test AUC with k = 109 is 0.78\n",
      "Test AUC with k = 113 is 0.79\n",
      "Test AUC with k = 117 is 0.79\n",
      "Test AUC with k = 121 is 0.8\n",
      "Test AUC with k = 125 is 0.8\n",
      "Test AUC with k = 129 is 0.8\n",
      "Test AUC with k = 133 is 0.8\n",
      "Test AUC with k = 137 is 0.8\n",
      "Test AUC with k = 141 is 0.8\n",
      "Test AUC with k = 145 is 0.8\n",
      "Test AUC with k = 149 is 0.8\n"
     ]
    }
   ],
   "source": [
    "tr_score = []\n",
    "cv_score = []\n",
    "K = []\n",
    "for k in range(5,150,4):\n",
    "    KNN = KNeighborsClassifier(n_neighbors=k,weights= 'distance', metric= 'minkowski',algorithm = 'brute',p=2)\n",
    "    KNN_model = KNN.fit(tr_std_count,score_tr)\n",
    "    K.append(k)\n",
    "    tr_pred = KNN_model.predict_proba(tr_std_count)[:,1]\n",
    "    ts_pred = KNN_model.predict_proba(ts_std_count)[:,1]\n",
    "    tr_score.append(roc_auc_score(score_tr, tr_pred))\n",
    "    cv_score.append(roc_auc_score(score_ts, ts_pred))\n",
    "    print('Test AUC with k = %d is %.2g' % (k, roc_auc_score(score_ts, ts_pred)))"
   ]
  },
  {
   "cell_type": "code",
   "execution_count": 50,
   "metadata": {},
   "outputs": [
    {
     "data": {
      "image/png": "[encoded data removed]",
      "text/plain": [
       "<Figure size 432x288 with 1 Axes>"
      ]
     },
     "metadata": {},
     "output_type": "display_data"
    }
   ],
   "source": [
    "# graph comparing AUC's of test and train\n",
    "d = {'K':K,'train':tr_score,'test':cv_score}\n",
    "line_df = pd.DataFrame(data = d)\n",
    "#line_df = pd.melt(line_df, id_vars = 'K', value_vars = ['train','test'], var_name = 'data', value_name = 'AUC')\n",
    "#ax = sns.lineplot(x = \"K\", y = 'AUC', hue = 'data', data = line_df)\n",
    "plt.style.use('seaborn-darkgrid')\n",
    "plt.title('Brute Force KNN with BOW')\n",
    "plt.xlabel('Hyper Parameter (K)')\n",
    "plt.ylabel('AUC')\n",
    "#plt.plot('K','train',linewidth = 1, color = 'skyblue', data = line_df)\n",
    "plt.plot('K','test',linewidth = 1, color = 'olive', data = line_df)\n",
    "plt.legend()\n",
    "plt.show()"
   ]
  },
  {
   "cell_type": "markdown",
   "metadata": {},
   "source": [
    "#### Observations:"
   ]
  },
  {
   "cell_type": "markdown",
   "metadata": {},
   "source": [
    "Best AUC (80%) achieved with Brute Force KNN with BOW featurization is at K = 149"
   ]
  },
  {
   "cell_type": "code",
   "execution_count": null,
   "metadata": {},
   "outputs": [],
   "source": [
    "KNN = KNeighborsClassifier(n_neighbors= 149,weights= 'distance', metric= 'minkowski',algorithm = 'brute',p=2)\n",
    "KNN_BOW = KNN.fit(tr_std_count,score_tr)\n",
    "tr_pred_KNN_BOW = KNN_BOW.predict_proba(tr_std_count)[:,1]\n",
    "ts_pred_KNN_BOW = KNN_BOW.predict_proba(ts_std_count)[:,1]\n",
    "auc_KNN_BOW = roc_auc_score(score_ts,ts_pred_KNN_BOW)"
   ]
  },
  {
   "cell_type": "code",
   "execution_count": 57,
   "metadata": {},
   "outputs": [
    {
     "data": {
      "image/png": "[encoded data removed]",
      "text/plain": [
       "<Figure size 1440x288 with 4 Axes>"
      ]
     },
     "metadata": {},
     "output_type": "display_data"
    }
   ],
   "source": [
    "ts_pred = KNN_BOW.predict(ts_std_count)\n",
    "cm_KNN_BOW = confusion_matrix(score_ts,ts_pred)\n",
    "plot_confusion_matrix(cm_KNN_BOW, ['Negative', 'Positive'])"
   ]
  },
  {
   "cell_type": "markdown",
   "metadata": {},
   "source": [
    "Though the AUC is high, we see the accuracy is too low for the model. Model predicts every data point as positive class."
   ]
  },
  {
   "cell_type": "code",
   "execution_count": 78,
   "metadata": {},
   "outputs": [
    {
     "data": {
      "image/png": "[encoded data removed]",
      "text/plain": [
       "<Figure size 432x288 with 1 Axes>"
      ]
     },
     "metadata": {},
     "output_type": "display_data"
    }
   ],
   "source": [
    "fpr, tpr, threshold = metrics.roc_curve(score_ts, ts_pred_KNN_BOW)\n",
    "plt.plot(fpr,tpr)\n",
    "plt.xlabel(\"False Positive Rate\")\n",
    "plt.ylabel(\"True Positive Rate\")\n",
    "plt.title('ROC Curve')\n",
    "plt.text(0.1,0.9,verticalalignment='center', horizontalalignment='center', s = 'AUC = 0.80', fontsize = 10)\n",
    "plt.show() "
   ]
  },
  {
   "cell_type": "markdown",
   "metadata": {},
   "source": [
    "### [5.1.2] Applying KNN brute force on TFIDF,<font color='red'> SET 2</font>"
   ]
  },
  {
   "cell_type": "markdown",
   "metadata": {},
   "source": [
    "### TF-IDF"
   ]
  },
  {
   "cell_type": "markdown",
   "metadata": {},
   "source": [
    "Since the #data points taken for training are small, we need to make sure the #columns/features are lower than the #rows. Else, there will be issues of curse of dimensionality. Hence, filtering the words having document frequency less than 10 also, removing all the high document frequency words one occuring more than 80% of the documents. Since, they are so common in all the documents, they don't add much variance to the data, hence, removing the low variance words."
   ]
  },
  {
   "cell_type": "code",
   "execution_count": 80,
   "metadata": {},
   "outputs": [
    {
     "name": "stdout",
     "output_type": "stream",
     "text": [
      "some sample features(unique words in the corpus) ['ability', 'able', 'able buy', 'able eat', 'able find', 'able get', 'able make', 'able use', 'absolute', 'absolutely']\n",
      "==================================================\n",
      "train data:\n",
      "the type of count vectorizer  <class 'scipy.sparse.csr.csr_matrix'>\n",
      "the shape of out text TFIDF vectorizer  (12000, 7477)\n",
      "the number of unique words including both unigrams and bigrams  7477\n",
      "==================================================\n",
      "test data:\n",
      "the shape of out text TFIDF vectorizer  (8000, 7477)\n"
     ]
    }
   ],
   "source": [
    "tf_idf_vect = TfidfVectorizer(ngram_range=(1,2), min_df=10, max_df = 0.8)\n",
    "tf_idf_vect.fit(reviews_tr)\n",
    "print(\"some sample features(unique words in the corpus)\",tf_idf_vect.get_feature_names()[0:10])\n",
    "print('='*50)\n",
    "\n",
    "print(\"train data:\")\n",
    "tr_tfidf = tf_idf_vect.transform(reviews_tr)\n",
    "print(\"the type of count vectorizer \",type(tr_tfidf))\n",
    "print(\"the shape of out text TFIDF vectorizer \",tr_tfidf.get_shape())\n",
    "print(\"the number of unique words including both unigrams and bigrams \", tr_tfidf.get_shape()[1])\n",
    "print('='*50)\n",
    "\n",
    "print(\"test data:\")\n",
    "ts_tfidf = tf_idf_vect.transform(reviews_ts)\n",
    "print(\"the shape of out text TFIDF vectorizer \",ts_tfidf.get_shape())"
   ]
  },
  {
   "cell_type": "markdown",
   "metadata": {},
   "source": [
    "TFIDF features also needs to be standardised before applying KNN. We have to follow the similar steps as we did with BOW featurization"
   ]
  },
  {
   "cell_type": "code",
   "execution_count": 81,
   "metadata": {},
   "outputs": [],
   "source": [
    "scaler = StandardScaler(with_mean=False)\n",
    "scaler.fit(tr_tfidf)\n",
    "tr_std_tfidf = scaler.transform(tr_tfidf)\n",
    "ts_std_tfidf = scaler.transform(ts_tfidf)"
   ]
  },
  {
   "cell_type": "code",
   "execution_count": 83,
   "metadata": {},
   "outputs": [
    {
     "name": "stdout",
     "output_type": "stream",
     "text": [
      "Test AUC with k = 5 is 0.51\n",
      "Test AUC with k = 9 is 0.52\n",
      "Test AUC with k = 13 is 0.52\n",
      "Test AUC with k = 17 is 0.51\n",
      "Test AUC with k = 21 is 0.52\n",
      "Test AUC with k = 25 is 0.58\n",
      "Test AUC with k = 29 is 0.63\n",
      "Test AUC with k = 33 is 0.64\n",
      "Test AUC with k = 37 is 0.62\n",
      "Test AUC with k = 41 is 0.66\n",
      "Test AUC with k = 45 is 0.67\n",
      "Test AUC with k = 49 is 0.67\n",
      "Test AUC with k = 53 is 0.69\n",
      "Test AUC with k = 57 is 0.71\n",
      "Test AUC with k = 61 is 0.7\n",
      "Test AUC with k = 65 is 0.7\n",
      "Test AUC with k = 69 is 0.71\n",
      "Test AUC with k = 73 is 0.73\n",
      "Test AUC with k = 77 is 0.73\n",
      "Test AUC with k = 81 is 0.73\n",
      "Test AUC with k = 85 is 0.73\n",
      "Test AUC with k = 89 is 0.73\n",
      "Test AUC with k = 93 is 0.74\n",
      "Test AUC with k = 97 is 0.76\n",
      "Test AUC with k = 101 is 0.76\n",
      "Test AUC with k = 105 is 0.75\n",
      "Test AUC with k = 109 is 0.76\n",
      "Test AUC with k = 113 is 0.77\n",
      "Test AUC with k = 117 is 0.78\n",
      "Test AUC with k = 121 is 0.77\n",
      "Test AUC with k = 125 is 0.77\n",
      "Test AUC with k = 129 is 0.78\n",
      "Test AUC with k = 133 is 0.79\n",
      "Test AUC with k = 137 is 0.79\n",
      "Test AUC with k = 141 is 0.78\n",
      "Test AUC with k = 145 is 0.78\n",
      "Test AUC with k = 149 is 0.78\n"
     ]
    }
   ],
   "source": [
    "# need to build a brute force KNN model with standardised tfidf features and find the best K (using AUC metric)\n",
    "cv_score = []\n",
    "tr_score = [] \n",
    "K = []\n",
    "for k in range(5,150,4):\n",
    "    KNN = KNeighborsClassifier(n_neighbors = k,metric = 'minkowski', p=2, algorithm = 'brute', weights = 'distance')\n",
    "    model = KNN.fit(tr_std_tfidf,score_tr)\n",
    "    K.append(k)\n",
    "    tr_pred = model.predict_proba(tr_std_tfidf)[:,1]\n",
    "    ts_pred = model.predict_proba(ts_std_tfidf)[:,1]\n",
    "    tr_score.append(roc_auc_score(score_tr,tr_pred))\n",
    "    cv_score.append(roc_auc_score(score_ts,ts_pred))\n",
    "    print('Test AUC with k = %d is %.2g' % (k, roc_auc_score(score_ts, ts_pred)))"
   ]
  },
  {
   "cell_type": "code",
   "execution_count": 85,
   "metadata": {},
   "outputs": [
    {
     "data": {
      "image/png": "[encoded data removed]",
      "text/plain": [
       "<Figure size 432x288 with 1 Axes>"
      ]
     },
     "metadata": {},
     "output_type": "display_data"
    }
   ],
   "source": [
    "# graph comparing AUC's of test and train\n",
    "d = {'K':K,'train':tr_score,'test':cv_score}\n",
    "line_df = pd.DataFrame(data = d)\n",
    "plt.style.use('seaborn-darkgrid')\n",
    "plt.title('Brute Force KNN with TFIDF')\n",
    "plt.xlabel('Hyper Parameter (K)')\n",
    "plt.ylabel('AUC')\n",
    "#plt.plot('K','train',linewidth = 1, color = 'skyblue', data = line_df)\n",
    "plt.plot('K','test',linewidth = 1, color = 'olive', data = line_df)\n",
    "plt.legend()\n",
    "plt.show()"
   ]
  },
  {
   "cell_type": "markdown",
   "metadata": {},
   "source": [
    "#### Observations:"
   ]
  },
  {
   "cell_type": "markdown",
   "metadata": {},
   "source": [
    "Brute Force KNN with TFIDF featurization is poor than BOW features and the best AUC (79%) is achieved with K = 133."
   ]
  },
  {
   "cell_type": "code",
   "execution_count": 86,
   "metadata": {},
   "outputs": [],
   "source": [
    "KNN = KNeighborsClassifier(n_neighbors= 133,weights= 'distance', metric= 'minkowski',algorithm = 'brute',p=2)\n",
    "KNN_TFIDF = KNN.fit(tr_std_tfidf,score_tr)\n",
    "tr_pred_KNN_TFIDF = KNN_TFIDF.predict_proba(tr_std_tfidf)[:,1]\n",
    "ts_pred_KNN_TFIDF = KNN_TFIDF.predict_proba(ts_std_tfidf)[:,1]\n",
    "auc_KNN_TFIDF = roc_auc_score(score_ts,ts_pred_KNN_TFIDF)"
   ]
  },
  {
   "cell_type": "code",
   "execution_count": 88,
   "metadata": {
    "scrolled": true
   },
   "outputs": [
    {
     "data": {
      "image/png": "[encoded data removed]",
      "text/plain": [
       "<Figure size 1440x288 with 4 Axes>"
      ]
     },
     "metadata": {},
     "output_type": "display_data"
    }
   ],
   "source": [
    "ts_pred = KNN_TFIDF.predict(ts_std_tfidf)\n",
    "cm_KNN_TFIDF = confusion_matrix(score_ts,ts_pred)\n",
    "plot_confusion_matrix(cm_KNN_TFIDF, ['Negative', 'Positive'])"
   ]
  },
  {
   "cell_type": "markdown",
   "metadata": {},
   "source": [
    "Though the AUC is high, we see the accuracy is too low for the model. Model predicts every data point as positive class."
   ]
  },
  {
   "cell_type": "code",
   "execution_count": 89,
   "metadata": {},
   "outputs": [
    {
     "data": {
      "image/png": "[encoded data removed]",
      "text/plain": [
       "<Figure size 432x288 with 1 Axes>"
      ]
     },
     "metadata": {},
     "output_type": "display_data"
    }
   ],
   "source": [
    "fpr, tpr, threshold = metrics.roc_curve(score_ts, ts_pred_KNN_TFIDF)\n",
    "plt.plot(fpr,tpr)\n",
    "plt.xlabel(\"False Positive Rate\")\n",
    "plt.ylabel(\"True Positive Rate\")\n",
    "plt.title('ROC Curve')\n",
    "plt.text(0.1,0.9,verticalalignment='center', horizontalalignment='center', s = 'AUC = 0.79', fontsize = 10)\n",
    "plt.show() "
   ]
  },
  {
   "cell_type": "markdown",
   "metadata": {},
   "source": [
    "### [5.1.3] Applying KNN brute force on AVG W2V,<font color='red'> SET 3</font>"
   ]
  },
  {
   "cell_type": "code",
   "execution_count": 90,
   "metadata": {},
   "outputs": [],
   "source": [
    "scaler = StandardScaler()\n",
    "scaler.fit(tr_avgW2V)\n",
    "tr_std_avgW2V = scaler.transform(tr_avgW2V)\n",
    "ts_std_avgW2V = scaler.transform(ts_avgW2V)"
   ]
  },
  {
   "cell_type": "code",
   "execution_count": 91,
   "metadata": {},
   "outputs": [
    {
     "name": "stdout",
     "output_type": "stream",
     "text": [
      "Test AUC with k = 5 is 0.79\n",
      "Test AUC with k = 9 is 0.81\n",
      "Test AUC with k = 13 is 0.82\n",
      "Test AUC with k = 17 is 0.83\n",
      "Test AUC with k = 21 is 0.83\n",
      "Test AUC with k = 25 is 0.84\n",
      "Test AUC with k = 29 is 0.84\n",
      "Test AUC with k = 33 is 0.84\n",
      "Test AUC with k = 37 is 0.84\n",
      "Test AUC with k = 41 is 0.84\n",
      "Test AUC with k = 45 is 0.84\n",
      "Test AUC with k = 49 is 0.84\n",
      "Test AUC with k = 53 is 0.84\n",
      "Test AUC with k = 57 is 0.84\n",
      "Test AUC with k = 61 is 0.84\n",
      "Test AUC with k = 65 is 0.84\n",
      "Test AUC with k = 69 is 0.84\n",
      "Test AUC with k = 73 is 0.84\n",
      "Test AUC with k = 77 is 0.84\n",
      "Test AUC with k = 81 is 0.84\n",
      "Test AUC with k = 85 is 0.84\n",
      "Test AUC with k = 89 is 0.84\n",
      "Test AUC with k = 93 is 0.84\n",
      "Test AUC with k = 97 is 0.84\n",
      "Test AUC with k = 101 is 0.84\n",
      "Test AUC with k = 105 is 0.84\n",
      "Test AUC with k = 109 is 0.83\n",
      "Test AUC with k = 113 is 0.83\n",
      "Test AUC with k = 117 is 0.83\n",
      "Test AUC with k = 121 is 0.83\n",
      "Test AUC with k = 125 is 0.83\n",
      "Test AUC with k = 129 is 0.83\n",
      "Test AUC with k = 133 is 0.83\n",
      "Test AUC with k = 137 is 0.83\n",
      "Test AUC with k = 141 is 0.83\n",
      "Test AUC with k = 145 is 0.83\n",
      "Test AUC with k = 149 is 0.83\n"
     ]
    }
   ],
   "source": [
    "cv_score = []\n",
    "tr_score = [] \n",
    "K = []\n",
    "for k in range(5,150,4):\n",
    "    KNN = KNeighborsClassifier(n_neighbors = k,metric = 'minkowski', p=2, algorithm = 'brute', weights = 'distance')\n",
    "    model = KNN.fit(tr_std_avgW2V,score_tr)\n",
    "    K.append(k)\n",
    "    tr_pred = model.predict_proba(tr_std_avgW2V)[:,1]\n",
    "    ts_pred = model.predict_proba(ts_std_avgW2V)[:,1]\n",
    "    tr_score.append(roc_auc_score(score_tr,tr_pred))\n",
    "    cv_score.append(roc_auc_score(score_ts,ts_pred))\n",
    "    print('Test AUC with k = %d is %.2g' % (k, roc_auc_score(score_ts, ts_pred)))"
   ]
  },
  {
   "cell_type": "code",
   "execution_count": 92,
   "metadata": {},
   "outputs": [
    {
     "data": {
      "image/png": "[encoded data removed]",
      "text/plain": [
       "<Figure size 432x288 with 1 Axes>"
      ]
     },
     "metadata": {},
     "output_type": "display_data"
    }
   ],
   "source": [
    "# graph comparing AUC's of test and train\n",
    "d = {'K':K,'train':tr_score,'test':cv_score}\n",
    "line_df = pd.DataFrame(data = d)\n",
    "plt.style.use('seaborn-darkgrid')\n",
    "plt.title('Brute Force KNN with Avg. Word2Vec')\n",
    "plt.xlabel('Hyper Parameter (K)')\n",
    "plt.ylabel('AUC')\n",
    "#plt.plot('K','train',linewidth = 1, color = 'skyblue', data = line_df)\n",
    "plt.plot('K','test',linewidth = 1, color = 'olive', data = line_df)\n",
    "plt.legend()\n",
    "plt.show()"
   ]
  },
  {
   "cell_type": "markdown",
   "metadata": {},
   "source": [
    "####  Observations:"
   ]
  },
  {
   "cell_type": "markdown",
   "metadata": {},
   "source": [
    "Brute Force KNN with AvgW2V featurization is better than BOW features and the best AUC (84%) is achieved with K = 25"
   ]
  },
  {
   "cell_type": "code",
   "execution_count": 94,
   "metadata": {},
   "outputs": [],
   "source": [
    "KNN = KNeighborsClassifier(n_neighbors=25,weights= 'distance', metric= 'minkowski',algorithm = 'brute',p=2)\n",
    "KNN_avgW2V = KNN.fit(tr_std_avgW2V,score_tr)\n",
    "tr_pred_KNN_avgW2V = KNN_avgW2V.predict_proba(tr_std_avgW2V)[:,1]\n",
    "ts_pred_KNN_avgW2V = KNN_avgW2V.predict_proba(ts_std_avgW2V)[:,1]\n",
    "auc_KNN_avgW2V = roc_auc_score(score_ts,ts_pred_KNN_avgW2V)"
   ]
  },
  {
   "cell_type": "code",
   "execution_count": 96,
   "metadata": {
    "scrolled": true
   },
   "outputs": [
    {
     "data": {
      "image/png": "[encoded data removed]",
      "text/plain": [
       "<Figure size 1440x288 with 4 Axes>"
      ]
     },
     "metadata": {},
     "output_type": "display_data"
    }
   ],
   "source": [
    "ts_pred = KNN_avgW2V.predict(ts_std_avgW2V)\n",
    "cm_KNN_avgW2V = confusion_matrix(score_ts,ts_pred)\n",
    "plot_confusion_matrix(cm_KNN_avgW2V, ['Negative', 'Positive'])"
   ]
  },
  {
   "cell_type": "markdown",
   "metadata": {},
   "source": [
    "Accuracy of the model also seems to improve with Average Word2Vec model. Model seems to predict both positive and negative labels."
   ]
  },
  {
   "cell_type": "code",
   "execution_count": 97,
   "metadata": {},
   "outputs": [
    {
     "data": {
      "image/png": "[encoded data removed]",
      "text/plain": [
       "<Figure size 432x288 with 1 Axes>"
      ]
     },
     "metadata": {},
     "output_type": "display_data"
    }
   ],
   "source": [
    "fpr, tpr, threshold = metrics.roc_curve(score_ts, ts_pred_KNN_avgW2V)\n",
    "plt.plot(fpr,tpr)\n",
    "plt.xlabel(\"False Positive Rate\")\n",
    "plt.ylabel(\"True Positive Rate\")\n",
    "plt.title('ROC Curve')\n",
    "plt.text(0.1,0.9,verticalalignment='center', horizontalalignment='center', s = 'AUC = 0.84', fontsize = 10)\n",
    "plt.show() "
   ]
  },
  {
   "cell_type": "markdown",
   "metadata": {},
   "source": [
    "### [5.1.4] Applying KNN brute force on TFIDF W2V,<font color='red'> SET 4</font>"
   ]
  },
  {
   "cell_type": "code",
   "execution_count": 98,
   "metadata": {},
   "outputs": [],
   "source": [
    "scaler = StandardScaler()\n",
    "scaler.fit(tr_tfidfW2V)\n",
    "tr_std_tfidfW2V = scaler.transform(tr_tfidfW2V)\n",
    "ts_std_tfidfW2V = scaler.transform(ts_tfidfW2V)"
   ]
  },
  {
   "cell_type": "code",
   "execution_count": 99,
   "metadata": {},
   "outputs": [
    {
     "name": "stdout",
     "output_type": "stream",
     "text": [
      "Test AUC with k = 5 is 0.76\n",
      "Test AUC with k = 9 is 0.78\n",
      "Test AUC with k = 13 is 0.79\n",
      "Test AUC with k = 17 is 0.8\n",
      "Test AUC with k = 21 is 0.8\n",
      "Test AUC with k = 25 is 0.8\n",
      "Test AUC with k = 29 is 0.8\n",
      "Test AUC with k = 33 is 0.81\n",
      "Test AUC with k = 37 is 0.81\n",
      "Test AUC with k = 41 is 0.81\n",
      "Test AUC with k = 45 is 0.81\n",
      "Test AUC with k = 49 is 0.81\n",
      "Test AUC with k = 53 is 0.81\n",
      "Test AUC with k = 57 is 0.81\n",
      "Test AUC with k = 61 is 0.81\n",
      "Test AUC with k = 65 is 0.81\n",
      "Test AUC with k = 69 is 0.81\n",
      "Test AUC with k = 73 is 0.8\n",
      "Test AUC with k = 77 is 0.8\n",
      "Test AUC with k = 81 is 0.8\n",
      "Test AUC with k = 85 is 0.8\n",
      "Test AUC with k = 89 is 0.8\n",
      "Test AUC with k = 93 is 0.8\n",
      "Test AUC with k = 97 is 0.8\n",
      "Test AUC with k = 101 is 0.8\n",
      "Test AUC with k = 105 is 0.8\n",
      "Test AUC with k = 109 is 0.8\n",
      "Test AUC with k = 113 is 0.8\n",
      "Test AUC with k = 117 is 0.8\n",
      "Test AUC with k = 121 is 0.8\n",
      "Test AUC with k = 125 is 0.8\n",
      "Test AUC with k = 129 is 0.8\n",
      "Test AUC with k = 133 is 0.8\n",
      "Test AUC with k = 137 is 0.8\n",
      "Test AUC with k = 141 is 0.8\n",
      "Test AUC with k = 145 is 0.8\n",
      "Test AUC with k = 149 is 0.8\n"
     ]
    }
   ],
   "source": [
    "cv_score = []\n",
    "tr_score = [] \n",
    "K = [] \n",
    "for k in range(5,150,4):\n",
    "    KNN = KNeighborsClassifier(n_neighbors = k,metric = 'minkowski', p=2, algorithm = 'brute', weights = 'distance')\n",
    "    model = KNN.fit(tr_std_tfidfW2V,score_tr)\n",
    "    K.append(k)\n",
    "    tr_pred = model.predict_proba(tr_std_tfidfW2V)[:,1]\n",
    "    ts_pred = model.predict_proba(ts_std_tfidfW2V)[:,1]\n",
    "    tr_score.append(roc_auc_score(score_tr,tr_pred))\n",
    "    cv_score.append(roc_auc_score(score_ts,ts_pred))\n",
    "    print('Test AUC with k = %d is %.2g' % (k, roc_auc_score(score_ts, ts_pred)))"
   ]
  },
  {
   "cell_type": "code",
   "execution_count": 101,
   "metadata": {},
   "outputs": [
    {
     "data": {
      "image/png": "[encoded data removed]",
      "text/plain": [
       "<Figure size 432x288 with 1 Axes>"
      ]
     },
     "metadata": {},
     "output_type": "display_data"
    }
   ],
   "source": [
    "d = {'K': K, 'train' : tr_score, 'test' : cv_score}\n",
    "line_df = pd.DataFrame(data = d)\n",
    "plt.style.use('seaborn-darkgrid')\n",
    "plt.title('Brute Force KNN with TFIDF Word2Vec')\n",
    "plt.xlabel('Hyper Parameter (K)')\n",
    "plt.ylabel('AUC')\n",
    "#plt.plot('K','train',linewidth = 1, color = 'skyblue', data = line_df)\n",
    "plt.plot('K','test',linewidth = 1, color = 'olive', data = line_df)\n",
    "plt.legend()\n",
    "plt.show()"
   ]
  },
  {
   "cell_type": "markdown",
   "metadata": {},
   "source": [
    "####  Observations:"
   ]
  },
  {
   "cell_type": "markdown",
   "metadata": {},
   "source": [
    "Brute Force KNN with TFIDFW2V featurization is equally good as AvgW2V model and the best AUC (81%) is achieved with K = 33"
   ]
  },
  {
   "cell_type": "code",
   "execution_count": 100,
   "metadata": {},
   "outputs": [],
   "source": [
    "KNN = KNeighborsClassifier(n_neighbors=33,weights= 'distance', metric= 'minkowski',algorithm = 'brute',p=2)\n",
    "KNN_tfidfW2V = KNN.fit(tr_std_tfidfW2V,score_tr)\n",
    "tr_pred_KNN_tfidfW2V = KNN_tfidfW2V.predict_proba(tr_std_tfidfW2V)[:,1]\n",
    "ts_pred_KNN_tfidfW2V = KNN_tfidfW2V.predict_proba(ts_std_tfidfW2V)[:,1]\n",
    "auc_KNN_tfidfW2V = roc_auc_score(score_ts,ts_pred_KNN_tfidfW2V)"
   ]
  },
  {
   "cell_type": "code",
   "execution_count": 102,
   "metadata": {
    "scrolled": true
   },
   "outputs": [
    {
     "data": {
      "image/png": "[encoded data removed]",
      "text/plain": [
       "<Figure size 1440x288 with 4 Axes>"
      ]
     },
     "metadata": {},
     "output_type": "display_data"
    }
   ],
   "source": [
    "ts_pred = KNN_tfidfW2V.predict(ts_std_tfidfW2V)\n",
    "cm_KNN_tfidfw2v = confusion_matrix(score_ts, ts_pred)\n",
    "plot_confusion_matrix(cm_KNN_tfidfw2v,[\"Negative\", \"Positive\"])"
   ]
  },
  {
   "cell_type": "code",
   "execution_count": 104,
   "metadata": {},
   "outputs": [
    {
     "data": {
      "image/png": "[encoded data removed]",
      "text/plain": [
       "<Figure size 432x288 with 1 Axes>"
      ]
     },
     "metadata": {},
     "output_type": "display_data"
    }
   ],
   "source": [
    "fpr, tpr, threshold = roc_curve(score_ts,ts_pred_KNN_tfidfW2V)\n",
    "plt.plot(fpr,tpr)\n",
    "plt.title(\"ROC Curve\")\n",
    "plt.xlabel(\"False Positive Rate\")\n",
    "plt.ylabel(\"True Positive Rate\")\n",
    "plt.text(0.1,0.9,verticalalignment='center', horizontalalignment='center', s = 'AUC = 0.81', fontsize = 10)\n",
    "plt.show()"
   ]
  },
  {
   "cell_type": "markdown",
   "metadata": {},
   "source": [
    "## [5.2] Applying KNN kd-tree"
   ]
  },
  {
   "cell_type": "markdown",
   "metadata": {},
   "source": [
    "Kd-tree is a procedural alternative to KNN suitable when there are fewer dimensions and data points are uniformly distributed. It basically divides the region space in multiple regions with axis parallel hyper planes such that same #points on both the sides."
   ]
  },
  {
   "cell_type": "markdown",
   "metadata": {},
   "source": [
    "### [5.2.1] Applying KNN kd-tree on BOW,<font color='red'> SET 5</font>"
   ]
  },
  {
   "cell_type": "markdown",
   "metadata": {},
   "source": [
    "Kd-tree doesnt work on sparse matrix. We need to convert the data to dense before applying Kd-tree. Also, we need to restict the features/dimensions of the data to 500, since Kd-tree is suitable for fewer dimensions only"
   ]
  },
  {
   "cell_type": "markdown",
   "metadata": {},
   "source": [
    "#### Bag of Words featurization...."
   ]
  },
  {
   "cell_type": "code",
   "execution_count": 105,
   "metadata": {},
   "outputs": [
    {
     "name": "stdout",
     "output_type": "stream",
     "text": [
      "some feature names  ['able', 'absolutely', 'actually', 'add', 'added', 'aftertaste', 'ago', 'almost', 'also', 'although']\n",
      "==================================================\n",
      "train data:\n",
      "the type of count vectorizer  <class 'scipy.sparse.csr.csr_matrix'>\n",
      "the shape of out text BOW vectorizer  (12000, 500)\n",
      "the number of unique words  500\n",
      "==================================================\n",
      "test data:\n",
      "the shape of out text BOW vectorizer  (8000, 500)\n"
     ]
    }
   ],
   "source": [
    "#BoW\n",
    "count_vect = CountVectorizer(min_df = 5, max_df = 0.8, max_features = 500, binary = False) #in scikit-learn\n",
    "count_vect.fit(reviews_tr)\n",
    "print(\"some feature names \", count_vect.get_feature_names()[:10])\n",
    "print('='*50)\n",
    "\n",
    "print(\"train data:\")\n",
    "tr_count = count_vect.transform(reviews_tr)\n",
    "print(\"the type of count vectorizer \",type(tr_count))\n",
    "print(\"the shape of out text BOW vectorizer \",tr_count.get_shape())\n",
    "print(\"the number of unique words \", tr_count.get_shape()[1])\n",
    "print('='*50)\n",
    "\n",
    "print(\"test data:\")\n",
    "ts_count = count_vect.transform(reviews_ts)\n",
    "print(\"the shape of out text BOW vectorizer \",ts_count.get_shape())"
   ]
  },
  {
   "cell_type": "markdown",
   "metadata": {},
   "source": [
    "#### Sparse to dense matrix...."
   ]
  },
  {
   "cell_type": "code",
   "execution_count": 106,
   "metadata": {},
   "outputs": [
    {
     "name": "stdout",
     "output_type": "stream",
     "text": [
      "Type of matrix is  <class 'numpy.matrixlib.defmatrix.matrix'>\n",
      "Shape of train matrix has not changed: (12000, 500)\n",
      "Shape of test matrix has not changed: (8000, 500)\n"
     ]
    }
   ],
   "source": [
    "from scipy.sparse import csr_matrix\n",
    "tr_count_dense = csr_matrix.todense(tr_count)\n",
    "ts_count_dense = csr_matrix.todense(ts_count)\n",
    "print(\"Type of matrix is \", type(tr_count_dense))\n",
    "print(\"Shape of train matrix has not changed:\",tr_count_dense.shape)\n",
    "print(\"Shape of test matrix has not changed:\",ts_count_dense.shape)"
   ]
  },
  {
   "cell_type": "markdown",
   "metadata": {},
   "source": [
    "#### Standardising the data...."
   ]
  },
  {
   "cell_type": "code",
   "execution_count": 107,
   "metadata": {},
   "outputs": [],
   "source": [
    "scaler = StandardScaler(with_mean=True)\n",
    "scaler.fit(tr_count_dense)\n",
    "tr_std_count = scaler.transform(tr_count_dense)\n",
    "ts_std_count = scaler.transform(ts_count_dense)"
   ]
  },
  {
   "cell_type": "code",
   "execution_count": 108,
   "metadata": {
    "scrolled": true
   },
   "outputs": [
    {
     "name": "stdout",
     "output_type": "stream",
     "text": [
      "Test AUC with k = 5 is 0.73\n",
      "Test AUC with k = 9 is 0.75\n",
      "Test AUC with k = 13 is 0.75\n",
      "Test AUC with k = 17 is 0.75\n",
      "Test AUC with k = 21 is 0.75\n",
      "Test AUC with k = 25 is 0.75\n",
      "Test AUC with k = 29 is 0.76\n",
      "Test AUC with k = 33 is 0.76\n",
      "Test AUC with k = 37 is 0.77\n",
      "Test AUC with k = 41 is 0.77\n",
      "Test AUC with k = 45 is 0.77\n",
      "Test AUC with k = 49 is 0.78\n",
      "Test AUC with k = 53 is 0.78\n",
      "Test AUC with k = 57 is 0.79\n",
      "Test AUC with k = 61 is 0.79\n",
      "Test AUC with k = 65 is 0.79\n",
      "Test AUC with k = 69 is 0.79\n",
      "Test AUC with k = 73 is 0.8\n",
      "Test AUC with k = 77 is 0.8\n",
      "Test AUC with k = 81 is 0.8\n",
      "Test AUC with k = 85 is 0.8\n",
      "Test AUC with k = 89 is 0.8\n",
      "Test AUC with k = 93 is 0.81\n",
      "Test AUC with k = 97 is 0.81\n"
     ]
    }
   ],
   "source": [
    "cv_score = []\n",
    "tr_score = [] \n",
    "K = []\n",
    "for k in range(5,100,4):\n",
    "    Kdtree = KNeighborsClassifier(n_neighbors = k,metric = 'minkowski', p=2, algorithm = 'kd_tree', weights = 'distance')\n",
    "    model = Kdtree.fit(tr_std_count,score_tr)\n",
    "    K.append(k)\n",
    "    tr_pred = model.predict_proba(tr_std_count)[:,1]\n",
    "    ts_pred = model.predict_proba(ts_std_count)[:,1]\n",
    "    tr_score.append(roc_auc_score(score_tr,tr_pred))\n",
    "    cv_score.append(roc_auc_score(score_ts,ts_pred))\n",
    "    print('Test AUC with k = %d is %.2g' % (k, roc_auc_score(score_ts, ts_pred)))"
   ]
  },
  {
   "cell_type": "code",
   "execution_count": 111,
   "metadata": {},
   "outputs": [
    {
     "data": {
      "image/png": "[encoded data removed]",
      "text/plain": [
       "<Figure size 432x288 with 1 Axes>"
      ]
     },
     "metadata": {},
     "output_type": "display_data"
    }
   ],
   "source": [
    "d = {'K':K,'train':tr_score,'test':cv_score}\n",
    "line_df = pd.DataFrame(data = d)\n",
    "plt.style.use(\"seaborn-darkgrid\")\n",
    "plt.plot('K','test',data = line_df, color = 'olive', linewidth = 1)\n",
    "plt.xlabel(\"Hyper Parameter\")\n",
    "plt.ylabel(\"AUC\")\n",
    "plt.title('KD-Tree KNN with BOW')\n",
    "plt.legend()\n",
    "plt.show()"
   ]
  },
  {
   "cell_type": "markdown",
   "metadata": {},
   "source": [
    "#### Observations:"
   ]
  },
  {
   "cell_type": "markdown",
   "metadata": {},
   "source": [
    "Kdtree with BOW featurization is better than Brute Force KNN with BOW features and the best AUC (81%) is achieved with K = 93"
   ]
  },
  {
   "cell_type": "code",
   "execution_count": 112,
   "metadata": {},
   "outputs": [],
   "source": [
    "Kdtree = KNeighborsClassifier(n_neighbors = 93 ,metric = 'minkowski', p=2, algorithm = 'kd_tree', weights = 'distance')\n",
    "Kdtree_count = Kdtree.fit(tr_std_count,score_tr)\n",
    "tr_pred_Kdtree_count = Kdtree_count.predict_proba(tr_std_count)[:,1]\n",
    "ts_pred_Kdtree_count = Kdtree_count.predict_proba(ts_std_count)[:,1]\n",
    "auc_Kdtree_count = roc_auc_score(score_ts,ts_pred_Kdtree_count)"
   ]
  },
  {
   "cell_type": "code",
   "execution_count": 113,
   "metadata": {
    "scrolled": true
   },
   "outputs": [
    {
     "data": {
      "image/png": "[encoded data removed]",
      "text/plain": [
       "<Figure size 1440x288 with 4 Axes>"
      ]
     },
     "metadata": {},
     "output_type": "display_data"
    }
   ],
   "source": [
    "ts_pred = Kdtree_count.predict(ts_std_count)\n",
    "cm_KDtree_bow = confusion_matrix(score_ts, ts_pred)\n",
    "plot_confusion_matrix(cm_KDtree_bow,[\"Negative\", \"Positive\"])"
   ]
  },
  {
   "cell_type": "markdown",
   "metadata": {},
   "source": [
    "Accuracy of the model isnt that good but compared to KNN (with BOW), the accuracy is high"
   ]
  },
  {
   "cell_type": "code",
   "execution_count": 115,
   "metadata": {},
   "outputs": [
    {
     "data": {
      "image/png": "[encoded data removed]",
      "text/plain": [
       "<Figure size 432x288 with 1 Axes>"
      ]
     },
     "metadata": {},
     "output_type": "display_data"
    }
   ],
   "source": [
    "fpr, tpr, threshold = metrics.roc_curve(score_ts, ts_pred_Kdtree_count)\n",
    "plt.plot(fpr,tpr)\n",
    "plt.xlabel(\"False Positive Rate\")\n",
    "plt.ylabel(\"True Positive Rate\")\n",
    "plt.title('ROC Curve')\n",
    "plt.text(0.1,0.9,verticalalignment='center', horizontalalignment='center', s = 'AUC = 0.81', fontsize = 10)\n",
    "plt.show() "
   ]
  },
  {
   "cell_type": "markdown",
   "metadata": {},
   "source": [
    "### [5.2.2] Applying KNN kd-tree on TFIDF,<font color='red'> SET 6</font>"
   ]
  },
  {
   "cell_type": "markdown",
   "metadata": {},
   "source": [
    "#### TFIDF featurization...."
   ]
  },
  {
   "cell_type": "code",
   "execution_count": 43,
   "metadata": {},
   "outputs": [
    {
     "name": "stdout",
     "output_type": "stream",
     "text": [
      "some sample features(unique words in the corpus) ['able', 'absolutely', 'actually', 'add', 'added', 'adding', 'aftertaste', 'ago', 'almost', 'also']\n",
      "==================================================\n",
      "train data:\n",
      "the type of count vectorizer  <class 'scipy.sparse.csr.csr_matrix'>\n",
      "the shape of out text TFIDF vectorizer  (12000, 500)\n",
      "the number of unique words including both unigrams and bigrams  500\n",
      "==================================================\n",
      "test data:\n",
      "the shape of out text TFIDF vectorizer  (8000, 500)\n"
     ]
    }
   ],
   "source": [
    "tf_idf_vect = TfidfVectorizer(ngram_range=(1,2), min_df=10, max_df = 0.8, max_features=500)\n",
    "tf_idf_vect.fit(reviews_tr)\n",
    "print(\"some sample features(unique words in the corpus)\",tf_idf_vect.get_feature_names()[0:10])\n",
    "print('='*50)\n",
    "\n",
    "print(\"train data:\")\n",
    "tr_tfidf = tf_idf_vect.transform(reviews_tr)\n",
    "print(\"the type of count vectorizer \",type(tr_tfidf))\n",
    "print(\"the shape of out text TFIDF vectorizer \",tr_tfidf.get_shape())\n",
    "print(\"the number of unique words including both unigrams and bigrams \", tr_tfidf.get_shape()[1])\n",
    "print('='*50)\n",
    "\n",
    "print(\"test data:\")\n",
    "ts_tfidf = tf_idf_vect.transform(reviews_ts)\n",
    "print(\"the shape of out text TFIDF vectorizer \",ts_tfidf.get_shape())"
   ]
  },
  {
   "cell_type": "markdown",
   "metadata": {},
   "source": [
    "#### Sparse to dense matrix...."
   ]
  },
  {
   "cell_type": "code",
   "execution_count": 44,
   "metadata": {},
   "outputs": [
    {
     "name": "stdout",
     "output_type": "stream",
     "text": [
      "Type of matrix is  <class 'numpy.matrixlib.defmatrix.matrix'>\n",
      "Shape of train matrix has not changed: (12000, 500)\n",
      "Shape of test matrix has not changed: (8000, 500)\n"
     ]
    }
   ],
   "source": [
    "from scipy.sparse import csr_matrix\n",
    "tr_tfidf_dense = csr_matrix.todense(tr_tfidf)\n",
    "ts_tfidf_dense = csr_matrix.todense(ts_tfidf)\n",
    "print(\"Type of matrix is \", type(tr_tfidf_dense))\n",
    "print(\"Shape of train matrix has not changed:\",tr_tfidf_dense.shape)\n",
    "print(\"Shape of test matrix has not changed:\",ts_tfidf_dense.shape)"
   ]
  },
  {
   "cell_type": "markdown",
   "metadata": {},
   "source": [
    "#### Standardising the data...."
   ]
  },
  {
   "cell_type": "code",
   "execution_count": 45,
   "metadata": {},
   "outputs": [],
   "source": [
    "scaler = StandardScaler(with_mean=True)\n",
    "scaler.fit(tr_tfidf_dense)\n",
    "tr_std_tfidf = scaler.transform(tr_tfidf_dense)\n",
    "ts_std_tfidf = scaler.transform(ts_tfidf_dense)"
   ]
  },
  {
   "cell_type": "code",
   "execution_count": 46,
   "metadata": {
    "scrolled": true
   },
   "outputs": [
    {
     "name": "stdout",
     "output_type": "stream",
     "text": [
      "Test AUC with k = 5 is 0.59\n",
      "Test AUC with k = 9 is 0.6\n",
      "Test AUC with k = 13 is 0.59\n",
      "Test AUC with k = 17 is 0.62\n",
      "Test AUC with k = 21 is 0.61\n",
      "Test AUC with k = 25 is 0.6\n",
      "Test AUC with k = 29 is 0.61\n",
      "Test AUC with k = 33 is 0.62\n",
      "Test AUC with k = 37 is 0.71\n",
      "Test AUC with k = 41 is 0.75\n",
      "Test AUC with k = 45 is 0.77\n",
      "Test AUC with k = 49 is 0.78\n",
      "Test AUC with k = 53 is 0.79\n",
      "Test AUC with k = 57 is 0.8\n",
      "Test AUC with k = 61 is 0.8\n",
      "Test AUC with k = 65 is 0.8\n",
      "Test AUC with k = 69 is 0.81\n",
      "Test AUC with k = 73 is 0.81\n",
      "Test AUC with k = 77 is 0.81\n",
      "Test AUC with k = 81 is 0.82\n",
      "Test AUC with k = 85 is 0.82\n",
      "Test AUC with k = 89 is 0.82\n",
      "Test AUC with k = 93 is 0.82\n",
      "Test AUC with k = 97 is 0.82\n"
     ]
    }
   ],
   "source": [
    "cv_score = []\n",
    "tr_score = [] \n",
    "K= []\n",
    "for k in range(5,100,4):\n",
    "    Kdtree = KNeighborsClassifier(n_neighbors = k,metric = 'minkowski', p=2, algorithm = 'kd_tree', weights = 'distance')\n",
    "    model = Kdtree.fit(tr_std_tfidf,score_tr)\n",
    "    K.append(k)\n",
    "    tr_pred = model.predict_proba(tr_std_tfidf)[:,1]\n",
    "    ts_pred = model.predict_proba(ts_std_tfidf)[:,1]\n",
    "    tr_score.append(roc_auc_score(score_tr,tr_pred))\n",
    "    cv_score.append(roc_auc_score(score_ts,ts_pred))\n",
    "    print('Test AUC with k = %d is %.2g' % (k, roc_auc_score(score_ts, ts_pred)))"
   ]
  },
  {
   "cell_type": "code",
   "execution_count": 51,
   "metadata": {},
   "outputs": [
    {
     "data": {
      "image/png": "[encoded data removed]",
      "text/plain": [
       "<Figure size 432x288 with 1 Axes>"
      ]
     },
     "metadata": {},
     "output_type": "display_data"
    }
   ],
   "source": [
    "d = {'K':K,'train':tr_score,'test':cv_score}\n",
    "line_df = pd.DataFrame(data = d)\n",
    "plt.style.use('seaborn-darkgrid')\n",
    "plt.title('KD Tree KNN with TFIDF')\n",
    "plt.plot('K','test',data = line_df,linewidth = 1, color = 'olive')\n",
    "plt.xlabel('Hyper Parameter (K)')\n",
    "plt.ylabel('AUC')\n",
    "plt.legend()\n",
    "plt.show()"
   ]
  },
  {
   "cell_type": "markdown",
   "metadata": {},
   "source": [
    "#### Observations:"
   ]
  },
  {
   "cell_type": "markdown",
   "metadata": {},
   "source": [
    "Kdtree with TFIDF featurization is better than Kdtree with BOW features and the best AUC (82%) is achieved with K = 81"
   ]
  },
  {
   "cell_type": "code",
   "execution_count": 52,
   "metadata": {},
   "outputs": [],
   "source": [
    "Kdtree = KNeighborsClassifier(n_neighbors = 81,metric = 'minkowski', p=2, algorithm = 'kd_tree', weights = 'distance')\n",
    "Kdtree_tfidf = Kdtree.fit(tr_std_tfidf,score_tr)\n",
    "tr_pred_Kdtree_tfidf = Kdtree_tfidf.predict_proba(tr_std_tfidf)[:,1]\n",
    "ts_pred_Kdtree_tfidf = Kdtree_tfidf.predict_proba(ts_std_tfidf)[:,1]\n",
    "auc_Kdtree_tfidf = roc_auc_score(score_ts,ts_pred_Kdtree_tfidf)"
   ]
  },
  {
   "cell_type": "code",
   "execution_count": 55,
   "metadata": {},
   "outputs": [
    {
     "data": {
      "image/png": "[encoded data removed]",
      "text/plain": [
       "<Figure size 1440x288 with 4 Axes>"
      ]
     },
     "metadata": {},
     "output_type": "display_data"
    }
   ],
   "source": [
    "ts_pred = Kdtree_tfidf.predict(ts_std_tfidf)\n",
    "cm_Kdtree_tfidf = confusion_matrix(score_ts,ts_pred)\n",
    "plot_confusion_matrix(cm_Kdtree_tfidf,['Negative', 'Positive'])"
   ]
  },
  {
   "cell_type": "code",
   "execution_count": 58,
   "metadata": {},
   "outputs": [
    {
     "data": {
      "image/png": "[encoded data removed]",
      "text/plain": [
       "<Figure size 432x288 with 1 Axes>"
      ]
     },
     "metadata": {},
     "output_type": "display_data"
    }
   ],
   "source": [
    "fpr, tpr, threshold = metrics.roc_curve(score_ts, ts_pred_Kdtree_tfidf)\n",
    "plt.plot(fpr,tpr)\n",
    "plt.xlabel('False Positive Rate')\n",
    "plt.ylabel('True Positive Rate')\n",
    "plt.title('ROC Curve')\n",
    "plt.text(0.9,0.1, verticalalignment = 'center',  horizontalalignment='center', s = 'AUC = 0.82', fontsize = 10)\n",
    "plt.show()"
   ]
  },
  {
   "cell_type": "markdown",
   "metadata": {},
   "source": [
    "### [5.2.3] Applying KNN kd-tree on AVG W2V,<font color='red'> SET 3</font>"
   ]
  },
  {
   "cell_type": "markdown",
   "metadata": {},
   "source": [
    "Word2Vec based features are already dense matrices, hence, there is no need of any conversion. Though we still need to standardise the data."
   ]
  },
  {
   "cell_type": "markdown",
   "metadata": {},
   "source": [
    "#### Standardising the data...."
   ]
  },
  {
   "cell_type": "code",
   "execution_count": 57,
   "metadata": {},
   "outputs": [],
   "source": [
    "scaler = StandardScaler(with_mean=True)\n",
    "scaler.fit(tr_avgW2V)\n",
    "tr_std_avgW2V = scaler.transform(tr_avgW2V)\n",
    "ts_std_avgW2V = scaler.transform(ts_avgW2V)"
   ]
  },
  {
   "cell_type": "code",
   "execution_count": 59,
   "metadata": {
    "scrolled": true
   },
   "outputs": [
    {
     "name": "stdout",
     "output_type": "stream",
     "text": [
      "Test AUC with k = 5 is 0.79\n",
      "Test AUC with k = 9 is 0.82\n",
      "Test AUC with k = 13 is 0.82\n",
      "Test AUC with k = 17 is 0.83\n",
      "Test AUC with k = 21 is 0.83\n",
      "Test AUC with k = 25 is 0.84\n",
      "Test AUC with k = 29 is 0.84\n",
      "Test AUC with k = 33 is 0.84\n",
      "Test AUC with k = 37 is 0.84\n",
      "Test AUC with k = 41 is 0.84\n",
      "Test AUC with k = 45 is 0.84\n",
      "Test AUC with k = 49 is 0.84\n",
      "Test AUC with k = 53 is 0.84\n",
      "Test AUC with k = 57 is 0.84\n",
      "Test AUC with k = 61 is 0.84\n",
      "Test AUC with k = 65 is 0.84\n",
      "Test AUC with k = 69 is 0.84\n",
      "Test AUC with k = 73 is 0.84\n",
      "Test AUC with k = 77 is 0.84\n",
      "Test AUC with k = 81 is 0.84\n",
      "Test AUC with k = 85 is 0.84\n",
      "Test AUC with k = 89 is 0.84\n",
      "Test AUC with k = 93 is 0.84\n",
      "Test AUC with k = 97 is 0.84\n"
     ]
    }
   ],
   "source": [
    "cv_score = []\n",
    "tr_score = [] \n",
    "K = []\n",
    "for k in range(5,100,4):\n",
    "    Kdtree = KNeighborsClassifier(n_neighbors = k,metric = 'minkowski', p=2, algorithm = 'kd_tree', weights = 'distance')\n",
    "    model = Kdtree.fit(tr_std_avgW2V,score_tr)\n",
    "    tr_pred = model.predict_proba(tr_std_avgW2V)[:,1]\n",
    "    ts_pred = model.predict_proba(ts_std_avgW2V)[:,1]\n",
    "    K.append(k)\n",
    "    tr_score.append(roc_auc_score(score_tr,tr_pred))\n",
    "    cv_score.append(roc_auc_score(score_ts,ts_pred))\n",
    "    print('Test AUC with k = %d is %.2g' % (k, roc_auc_score(score_ts, ts_pred)))"
   ]
  },
  {
   "cell_type": "code",
   "execution_count": 67,
   "metadata": {},
   "outputs": [
    {
     "data": {
      "image/png": "[encoded data removed]",
      "text/plain": [
       "<Figure size 432x288 with 1 Axes>"
      ]
     },
     "metadata": {},
     "output_type": "display_data"
    }
   ],
   "source": [
    "d = {'K':K,'train':tr_score,'test':cv_score}\n",
    "line_df = pd.DataFrame(data = d)\n",
    "plt.style.use('seaborn-darkgrid')\n",
    "plt.plot('K','test',data = line_df, color = 'olive', linewidth = 1)\n",
    "plt.xlabel('Hyper Parameter (K)')\n",
    "plt.ylabel('AUC')\n",
    "plt.title('KD Tree KNN with Average Word2Vec')\n",
    "plt.legend()\n",
    "plt.show()"
   ]
  },
  {
   "cell_type": "markdown",
   "metadata": {},
   "source": [
    "#### Observations:"
   ]
  },
  {
   "cell_type": "markdown",
   "metadata": {},
   "source": [
    "Kdtree with AvgW2V featurization is better than Kdtree with TFIDF features and the best AUC (84%) is achieved with K = 25"
   ]
  },
  {
   "cell_type": "code",
   "execution_count": 62,
   "metadata": {},
   "outputs": [],
   "source": [
    "Kdtree = KNeighborsClassifier(n_neighbors = 25,metric = 'minkowski', p=2, algorithm = 'kd_tree', weights = 'distance')\n",
    "Kdtree_avgW2V = Kdtree.fit(tr_std_avgW2V,score_tr)\n",
    "tr_pred_Kdtree_avgW2V = Kdtree_avgW2V.predict_proba(tr_std_avgW2V)[:,1]\n",
    "ts_pred_Kdtree_avgW2V = Kdtree_avgW2V.predict_proba(ts_std_avgW2V)[:,1]\n",
    "auc_Kdtree_avgW2V_ts = roc_auc_score(score_ts,ts_pred_Kdtree_avgW2V)"
   ]
  },
  {
   "cell_type": "code",
   "execution_count": 63,
   "metadata": {},
   "outputs": [
    {
     "data": {
      "image/png": "[encoded data removed]",
      "text/plain": [
       "<Figure size 1440x288 with 4 Axes>"
      ]
     },
     "metadata": {},
     "output_type": "display_data"
    }
   ],
   "source": [
    "ts_pred = Kdtree_avgW2V.predict(ts_std_avgW2V)\n",
    "cm_Kdtree_avgW2V = confusion_matrix(score_ts, ts_pred)\n",
    "plot_confusion_matrix(cm_Kdtree_avgW2V,['Negative','Positive'])"
   ]
  },
  {
   "cell_type": "code",
   "execution_count": 65,
   "metadata": {},
   "outputs": [
    {
     "data": {
      "image/png": "[encoded data removed]",
      "text/plain": [
       "<Figure size 432x288 with 1 Axes>"
      ]
     },
     "metadata": {},
     "output_type": "display_data"
    }
   ],
   "source": [
    "fpr, tpr, threshold = metrics.roc_curve(score_ts, ts_pred_Kdtree_avgW2V)\n",
    "plt.plot(fpr,tpr)\n",
    "plt.title('ROC Curve')\n",
    "plt.xlabel('False Positive Rate')\n",
    "plt.ylabel('True Positive Rate')\n",
    "plt.text(0.9,0.1, verticalalignment = 'center', horizontalalignment = 'center', s = 'AUC = 0.84', fontsize = 10)\n",
    "plt.show()"
   ]
  },
  {
   "cell_type": "markdown",
   "metadata": {},
   "source": [
    "### [5.2.4] Applying KNN kd-tree on TFIDF W2V,<font color='red'> SET 4</font>"
   ]
  },
  {
   "cell_type": "markdown",
   "metadata": {},
   "source": [
    "Standardising the data........"
   ]
  },
  {
   "cell_type": "code",
   "execution_count": 68,
   "metadata": {},
   "outputs": [],
   "source": [
    "scaler = StandardScaler(with_mean=True)\n",
    "scaler.fit(tr_tfidfW2V)\n",
    "tr_std_tfidfW2V = scaler.transform(tr_tfidfW2V)\n",
    "ts_std_tfidfW2V = scaler.transform(ts_tfidfW2V)"
   ]
  },
  {
   "cell_type": "code",
   "execution_count": 71,
   "metadata": {},
   "outputs": [
    {
     "name": "stdout",
     "output_type": "stream",
     "text": [
      "Test AUC with k = 5 is 0.77\n",
      "Test AUC with k = 9 is 0.78\n",
      "Test AUC with k = 13 is 0.79\n",
      "Test AUC with k = 17 is 0.8\n",
      "Test AUC with k = 21 is 0.8\n",
      "Test AUC with k = 25 is 0.81\n",
      "Test AUC with k = 29 is 0.81\n",
      "Test AUC with k = 33 is 0.81\n",
      "Test AUC with k = 37 is 0.81\n",
      "Test AUC with k = 41 is 0.81\n",
      "Test AUC with k = 45 is 0.81\n",
      "Test AUC with k = 49 is 0.81\n",
      "Test AUC with k = 53 is 0.81\n",
      "Test AUC with k = 57 is 0.81\n",
      "Test AUC with k = 61 is 0.81\n",
      "Test AUC with k = 65 is 0.81\n",
      "Test AUC with k = 69 is 0.81\n",
      "Test AUC with k = 73 is 0.81\n",
      "Test AUC with k = 77 is 0.81\n",
      "Test AUC with k = 81 is 0.81\n",
      "Test AUC with k = 85 is 0.81\n",
      "Test AUC with k = 89 is 0.81\n",
      "Test AUC with k = 93 is 0.81\n",
      "Test AUC with k = 97 is 0.81\n"
     ]
    }
   ],
   "source": [
    "cv_score = []\n",
    "tr_score = []\n",
    "K = []\n",
    "for k in range(5,100,4):\n",
    "    Kdtree = KNeighborsClassifier(metric = 'minkowski', p = 2, n_neighbors = k, weights= 'distance', algorithm = 'kd_tree')\n",
    "    model = Kdtree.fit(tr_std_tfidfW2V,score_tr)\n",
    "    tr_pred = model.predict_proba(tr_std_tfidfW2V)[:,1]\n",
    "    ts_pred = model.predict_proba(ts_std_tfidfW2V)[:,1]\n",
    "    K.append(k)\n",
    "    tr_score.append(roc_auc_score(score_tr,tr_pred))\n",
    "    cv_score.append(roc_auc_score(score_ts,ts_pred))\n",
    "    print('Test AUC with k = %d is %.2g' % (k,roc_auc_score(score_ts,ts_pred)))"
   ]
  },
  {
   "cell_type": "code",
   "execution_count": 74,
   "metadata": {},
   "outputs": [
    {
     "data": {
      "image/png": "[encoded data removed]",
      "text/plain": [
       "<Figure size 432x288 with 1 Axes>"
      ]
     },
     "metadata": {},
     "output_type": "display_data"
    }
   ],
   "source": [
    "d = {'K':K,'train':tr_score,'test':cv_score}\n",
    "line_df = pd.DataFrame(data = d)\n",
    "plt.style.use('seaborn-darkgrid')\n",
    "plt.plot('K', 'test', data = line_df, linewidth = 1, color = 'olive')\n",
    "plt.title('KD Tree KNN with TFIDF Word2Vec')\n",
    "plt.xlabel('Hyper Parameter (K)')\n",
    "plt.ylabel('AUC')\n",
    "plt.legend()\n",
    "plt.show()"
   ]
  },
  {
   "cell_type": "markdown",
   "metadata": {},
   "source": [
    "#### Observations:"
   ]
  },
  {
   "cell_type": "markdown",
   "metadata": {},
   "source": [
    "KD tree KNN model with TFIDFW2V has the best AUC (81%) at K =25"
   ]
  },
  {
   "cell_type": "code",
   "execution_count": 75,
   "metadata": {},
   "outputs": [],
   "source": [
    "Kdtree = KNeighborsClassifier(n_neighbors = 25,metric = 'minkowski', p=2, algorithm = 'kd_tree', weights = 'distance')\n",
    "Kdtree_tfidfW2V = Kdtree.fit(tr_std_tfidfW2V,score_tr)\n",
    "tr_pred_Kdtree_tfidfW2V = Kdtree_tfidfW2V.predict_proba(tr_std_tfidfW2V)[:,1]\n",
    "ts_pred_Kdtree_tfidfW2V = Kdtree_tfidfW2V.predict_proba(ts_std_tfidfW2V)[:,1]\n",
    "auc_Kdtree_tfidfW2V_ts = roc_auc_score(score_ts,ts_pred_Kdtree_tfidfW2V)"
   ]
  },
  {
   "cell_type": "code",
   "execution_count": 81,
   "metadata": {},
   "outputs": [
    {
     "data": {
      "image/png": "[encoded data removed]",
      "text/plain": [
       "<Figure size 1440x288 with 4 Axes>"
      ]
     },
     "metadata": {},
     "output_type": "display_data"
    }
   ],
   "source": [
    "ts_pred = Kdtree_tfidfW2V.predict(ts_std_tfidfW2V)\n",
    "cm_Kdtree_tdidfW2V = confusion_matrix(score_ts, ts_pred)\n",
    "plot_confusion_matrix(cm_Kdtree_tdidfW2V,['Negative','Positive'])"
   ]
  },
  {
   "cell_type": "code",
   "execution_count": 80,
   "metadata": {},
   "outputs": [
    {
     "data": {
      "image/png": "[encoded data removed]",
      "text/plain": [
       "<Figure size 432x288 with 1 Axes>"
      ]
     },
     "metadata": {},
     "output_type": "display_data"
    }
   ],
   "source": [
    "fpr, tpr, threshold = roc_curve(score_ts,ts_pred_Kdtree_tfidfW2V)\n",
    "plt.plot(fpr,tpr)\n",
    "plt.title('ROC Curve')\n",
    "plt.xlabel('False Positive Rate')\n",
    "plt.ylabel('True Positive Rate')\n",
    "plt.text(0.9,0.1,verticalalignment = 'center', horizontalalignment = 'center', s = 'AUC = 0.81', fontsize = 10)\n",
    "plt.show()"
   ]
  },
  {
   "cell_type": "markdown",
   "metadata": {},
   "source": [
    "# [6] Conclusions"
   ]
  },
  {
   "cell_type": "code",
   "execution_count": 12,
   "metadata": {},
   "outputs": [
    {
     "name": "stdout",
     "output_type": "stream",
     "text": [
      "+-----------------+------------------+-----------+----------+\n",
      "|    Algorithm    |  Featurization   | Optimal K | Test AUC |\n",
      "+-----------------+------------------+-----------+----------+\n",
      "| Brute Force KNN | Average Word2Vec |     25    |   84%    |\n",
      "| Brute Force KNN | TF-IDF Word2Vec  |     33    |   81%    |\n",
      "| Brute Force KNN |   Bag of Words   |    149    |   80%    |\n",
      "| Brute Force KNN |      TF-IDF      |    133    |   79%    |\n",
      "+-----------------+------------------+-----------+----------+\n",
      "+-------------+------------------+-----------+----------+\n",
      "|  Algorithm  |  Featurization   | Optimal K | Test AUC |\n",
      "+-------------+------------------+-----------+----------+\n",
      "| KD Tree KNN | Average Word2Vec |     25    |   84%    |\n",
      "| KD Tree KNN |      TF-IDF      |     81    |   82%    |\n",
      "| KD Tree KNN | TF-IDF Word2Vec  |     25    |   81%    |\n",
      "| KD Tree KNN |   Bag of Words   |     93    |   81%    |\n",
      "+-------------+------------------+-----------+----------+\n"
     ]
    }
   ],
   "source": [
    "# Refer to http://zetcode.com/python/prettytable/ for PrettyTable documentation\n",
    "x = PrettyTable()\n",
    "x.field_names = [\"Algorithm\",\"Featurization\",\"Optimal K\",\"Test AUC\"]\n",
    "x.add_row(['Brute Force KNN','Bag of Words',149,'80%'])\n",
    "x.add_row(['Brute Force KNN','TF-IDF','133','79%'])\n",
    "x.add_row(['Brute Force KNN','Average Word2Vec','25','84%'])\n",
    "x.add_row(['Brute Force KNN','TF-IDF Word2Vec','33','81%'])\n",
    "x.sortby = 'Test AUC'\n",
    "x.reversesort = True\n",
    "print(x)\n",
    "y = PrettyTable()\n",
    "y.field_names = [\"Algorithm\",\"Featurization\",\"Optimal K\",\"Test AUC\"]\n",
    "y.add_row(['KD Tree KNN','Bag of Words','93','81%'])\n",
    "y.add_row(['KD Tree KNN','TF-IDF','81','82%'])\n",
    "y.add_row(['KD Tree KNN','Average Word2Vec','25','84%'])\n",
    "y.add_row(['KD Tree KNN','TF-IDF Word2Vec','25','81%'])\n",
    "y.sortby = 'Test AUC'\n",
    "y.reversesort = True\n",
    "print(y)"
   ]
  },
  {
   "cell_type": "markdown",
   "metadata": {},
   "source": [
    "Average Word2Vec featurization based models seem to working well for the data. Both KD tree and Brute Force methods result in same AUC. But, if accuracy is taken into consideration, KD Tree approach seems the best of all."
   ]
  }
 ],
 "metadata": {
  "kernelspec": {
   "display_name": "Python 3",
   "language": "python",
   "name": "python3"
  },
  "language_info": {
   "codemirror_mode": {
    "name": "ipython",
    "version": 3
   },
   "file_extension": ".py",
   "mimetype": "text/x-python",
   "name": "python",
   "nbconvert_exporter": "python",
   "pygments_lexer": "ipython3",
   "version": "3.6.4"
  }
 },
 "nbformat": 4,
 "nbformat_minor": 2
}
