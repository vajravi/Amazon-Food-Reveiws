{
 "cells": [
  {
   "cell_type": "markdown",
   "metadata": {},
   "source": [
    "# Project Details: \n",
    "\n",
    "Build a Support Vector Machine Model on Amazon Fine Food Reviews data set. Amazon Fine Food Reviews data set consists of reviews of fine foods from Amazon. <br>\n",
    "\n",
    "Data source: https://www.kaggle.com/snap/amazon-fine-food-reviews \n",
    "\n",
    "#Reviews                   : 568,454 \n",
    "#Users                     : 256,059 \n",
    "#Products                  : 74,258 \n",
    " Time Span                 : Oct 1999 - Oct 2012\n",
    "#Attributes/Columns in set : 10\n",
    "\n",
    "Attribute Information:\n",
    "\n",
    "1. Id\n",
    "2. ProductId - unique identifier for the product\n",
    "3. UserId - unqiue identifier for the user\n",
    "4. ProfileName\n",
    "5. HelpfulnessNumerator - number of users who found the review helpful\n",
    "6. HelpfulnessDenominator - number of users who indicated whether they found the review helpful or not\n",
    "7. Score - rating between 1 and 5\n",
    "8. Time - timestamp for the review\n",
    "9. Summary - brief summary of the review\n",
    "10. Text - text of the review\n",
    "\n",
    "\n",
    "#### Objective:\n",
    "Given a review, determine whether the review is positive (Rating of 4 or 5) or negative (rating of 1 or 2). It is binary classification task. Ignore review rating  = 3.\n",
    "\n",
    "Note: The baseline model (Naive Bayes with Tf-idf) has achieved 80% AUC, target is to get better auc measure than this with SVM even better than Logistic Regression (we got 71% f1 score and 87% AUC)\n",
    "\n"
   ]
  },
  {
   "cell_type": "code",
   "execution_count": 1,
   "metadata": {},
   "outputs": [
    {
     "name": "stderr",
     "output_type": "stream",
     "text": [
      "C:\\Users\\vajrapra\\AppData\\Local\\Continuum\\anaconda3\\lib\\site-packages\\gensim\\utils.py:1197: UserWarning: detected Windows; aliasing chunkize to chunkize_serial\n",
      "  warnings.warn(\"detected Windows; aliasing chunkize to chunkize_serial\")\n"
     ]
    }
   ],
   "source": [
    "# ==================================================== Import Libraries ========================================================\n",
    "\n",
    "import numpy as np\n",
    "import pandas as pd\n",
    "import seaborn as sns\n",
    "import matplotlib.pyplot as plt\n",
    "%matplotlib inline\n",
    "import sqlite3 # for importing data from sqlite database\n",
    "import nltk #for Natural Language Processing\n",
    "from sklearn.feature_extraction.text import CountVectorizer #for bag of words\n",
    "from sklearn.feature_extraction.text import TfidfTransformer\n",
    "from sklearn.feature_extraction.text import TfidfVectorizer # for term frequency/inverse document frequency of words\n",
    " # Model Performance measures\n",
    "from sklearn.metrics import confusion_matrix , roc_curve, auc, accuracy_score, precision_recall_fscore_support\n",
    "import re # References for Regular Expressions: https://docs.python.org/3/howto/regex.html, https://regexr.com/2vhbb\n",
    "import warnings\n",
    "from nltk.corpus import stopwords\n",
    "from wordcloud import WordCloud\n",
    "from gensim.models import Word2Vec\n",
    "warnings.simplefilter('ignore')\n",
    "from sklearn.model_selection import TimeSeriesSplit \n",
    "from sklearn.svm import SVC\n",
    "from sklearn.model_selection import GridSearchCV\n",
    "from sklearn.model_selection import RandomizedSearchCV\n",
    "from tqdm import tqdm_notebook as tqdm\n",
    "import itertools\n",
    "from sklearn.linear_model import SGDClassifier\n",
    "from sklearn.preprocessing import StandardScaler"
   ]
  },
  {
   "cell_type": "markdown",
   "metadata": {},
   "source": [
    "The data that we are using is already pre-processed and is saved in a sqlite database. The pre-processing steps are as below:"
   ]
  },
  {
   "cell_type": "markdown",
   "metadata": {},
   "source": [
    "Text cannot be used as is, has to be converted into some numeric form (likes arrays or vectors of numbers) to be\n",
    "used as feature in the model. But before that there is a need to process the text. \n",
    "1. Removing html tags (if any), since the urls does not add any information to the data.\n",
    "2. Removing punctuations, non-alphanumeric characters. \n",
    "3. Need to lower/upper the cases so that 'Peanuts' & 'peanuts' are considered same.\n",
    "4. Removing Stop words like which, what, whether, articles etc.\n",
    "5. Removing text with <3 word length.\n",
    "6. Stemming of words to its root/base word so that run, running, runs all considered to be same. "
   ]
  },
  {
   "cell_type": "code",
   "execution_count": 2,
   "metadata": {},
   "outputs": [
    {
     "data": {
      "text/html": [
       "<div>\n",
       "<style scoped>\n",
       "    .dataframe tbody tr th:only-of-type {\n",
       "        vertical-align: middle;\n",
       "    }\n",
       "\n",
       "    .dataframe tbody tr th {\n",
       "        vertical-align: top;\n",
       "    }\n",
       "\n",
       "    .dataframe thead th {\n",
       "        text-align: right;\n",
       "    }\n",
       "</style>\n",
       "<table border=\"1\" class=\"dataframe\">\n",
       "  <thead>\n",
       "    <tr style=\"text-align: right;\">\n",
       "      <th></th>\n",
       "      <th>index</th>\n",
       "      <th>Id</th>\n",
       "      <th>ProductId</th>\n",
       "      <th>UserId</th>\n",
       "      <th>ProfileName</th>\n",
       "      <th>HelpfulnessNumerator</th>\n",
       "      <th>HelpfulnessDenominator</th>\n",
       "      <th>Score</th>\n",
       "      <th>Time</th>\n",
       "      <th>Summary</th>\n",
       "      <th>Text</th>\n",
       "      <th>em_words</th>\n",
       "      <th>cleaned_sent</th>\n",
       "      <th>cleaned_sent_w2v</th>\n",
       "    </tr>\n",
       "  </thead>\n",
       "  <tbody>\n",
       "    <tr>\n",
       "      <th>0</th>\n",
       "      <td>0</td>\n",
       "      <td>1</td>\n",
       "      <td>B001E4KFG0</td>\n",
       "      <td>A3SGXH7AUHU8GW</td>\n",
       "      <td>delmartian</td>\n",
       "      <td>1</td>\n",
       "      <td>1</td>\n",
       "      <td>Positive</td>\n",
       "      <td>1303862400</td>\n",
       "      <td>Good Quality Dog Food</td>\n",
       "      <td>I have bought several of the Vitality canned d...</td>\n",
       "      <td></td>\n",
       "      <td>have bought sever the vital can dog food produ...</td>\n",
       "      <td>have bought several the vitality canned dog fo...</td>\n",
       "    </tr>\n",
       "    <tr>\n",
       "      <th>1</th>\n",
       "      <td>1</td>\n",
       "      <td>2</td>\n",
       "      <td>B00813GRG4</td>\n",
       "      <td>A1D87F6ZCVE5NK</td>\n",
       "      <td>dll pa</td>\n",
       "      <td>0</td>\n",
       "      <td>0</td>\n",
       "      <td>Negative</td>\n",
       "      <td>1346976000</td>\n",
       "      <td>Not as Advertised</td>\n",
       "      <td>Product arrived labeled as Jumbo Salted Peanut...</td>\n",
       "      <td></td>\n",
       "      <td>product arriv label jumbo salt peanut the pean...</td>\n",
       "      <td>product arrived labeled jumbo salted peanuts t...</td>\n",
       "    </tr>\n",
       "    <tr>\n",
       "      <th>2</th>\n",
       "      <td>2</td>\n",
       "      <td>3</td>\n",
       "      <td>B000LQOCH0</td>\n",
       "      <td>ABXLMWJIXXAIN</td>\n",
       "      <td>Natalia Corres \"Natalia Corres\"</td>\n",
       "      <td>1</td>\n",
       "      <td>1</td>\n",
       "      <td>Positive</td>\n",
       "      <td>1219017600</td>\n",
       "      <td>\"Delight\" says it all</td>\n",
       "      <td>This is a confection that has been around a fe...</td>\n",
       "      <td></td>\n",
       "      <td>this confect that has been around few centuri ...</td>\n",
       "      <td>this confection that has been around few centu...</td>\n",
       "    </tr>\n",
       "    <tr>\n",
       "      <th>3</th>\n",
       "      <td>3</td>\n",
       "      <td>4</td>\n",
       "      <td>B000UA0QIQ</td>\n",
       "      <td>A395BORC6FGVXV</td>\n",
       "      <td>Karl</td>\n",
       "      <td>3</td>\n",
       "      <td>3</td>\n",
       "      <td>Negative</td>\n",
       "      <td>1307923200</td>\n",
       "      <td>Cough Medicine</td>\n",
       "      <td>If you are looking for the secret ingredient i...</td>\n",
       "      <td></td>\n",
       "      <td>you are look for the secret ingredi robitussin...</td>\n",
       "      <td>you are looking for the secret ingredient robi...</td>\n",
       "    </tr>\n",
       "    <tr>\n",
       "      <th>4</th>\n",
       "      <td>4</td>\n",
       "      <td>5</td>\n",
       "      <td>B006K2ZZ7K</td>\n",
       "      <td>A1UQRSCLF8GW1T</td>\n",
       "      <td>Michael D. Bigham \"M. Wassir\"</td>\n",
       "      <td>0</td>\n",
       "      <td>0</td>\n",
       "      <td>Positive</td>\n",
       "      <td>1350777600</td>\n",
       "      <td>Great taffy</td>\n",
       "      <td>Great taffy at a great price.  There was a wid...</td>\n",
       "      <td></td>\n",
       "      <td>great taffi great price there was wide assort ...</td>\n",
       "      <td>great taffy great price there was wide assortm...</td>\n",
       "    </tr>\n",
       "  </tbody>\n",
       "</table>\n",
       "</div>"
      ],
      "text/plain": [
       "   index  Id   ProductId          UserId                      ProfileName  \\\n",
       "0      0   1  B001E4KFG0  A3SGXH7AUHU8GW                       delmartian   \n",
       "1      1   2  B00813GRG4  A1D87F6ZCVE5NK                           dll pa   \n",
       "2      2   3  B000LQOCH0   ABXLMWJIXXAIN  Natalia Corres \"Natalia Corres\"   \n",
       "3      3   4  B000UA0QIQ  A395BORC6FGVXV                             Karl   \n",
       "4      4   5  B006K2ZZ7K  A1UQRSCLF8GW1T    Michael D. Bigham \"M. Wassir\"   \n",
       "\n",
       "   HelpfulnessNumerator  HelpfulnessDenominator     Score        Time  \\\n",
       "0                     1                       1  Positive  1303862400   \n",
       "1                     0                       0  Negative  1346976000   \n",
       "2                     1                       1  Positive  1219017600   \n",
       "3                     3                       3  Negative  1307923200   \n",
       "4                     0                       0  Positive  1350777600   \n",
       "\n",
       "                 Summary                                               Text  \\\n",
       "0  Good Quality Dog Food  I have bought several of the Vitality canned d...   \n",
       "1      Not as Advertised  Product arrived labeled as Jumbo Salted Peanut...   \n",
       "2  \"Delight\" says it all  This is a confection that has been around a fe...   \n",
       "3         Cough Medicine  If you are looking for the secret ingredient i...   \n",
       "4            Great taffy  Great taffy at a great price.  There was a wid...   \n",
       "\n",
       "  em_words                                       cleaned_sent  \\\n",
       "0           have bought sever the vital can dog food produ...   \n",
       "1           product arriv label jumbo salt peanut the pean...   \n",
       "2           this confect that has been around few centuri ...   \n",
       "3           you are look for the secret ingredi robitussin...   \n",
       "4           great taffi great price there was wide assort ...   \n",
       "\n",
       "                                    cleaned_sent_w2v  \n",
       "0  have bought several the vitality canned dog fo...  \n",
       "1  product arrived labeled jumbo salted peanuts t...  \n",
       "2  this confection that has been around few centu...  \n",
       "3  you are looking for the secret ingredient robi...  \n",
       "4  great taffy great price there was wide assortm...  "
      ]
     },
     "execution_count": 2,
     "metadata": {},
     "output_type": "execute_result"
    }
   ],
   "source": [
    "# =================================================== Importing Data ===========================================================\n",
    "conn = sqlite3.connect('final.sqlite')\n",
    "data = pd.read_sql_query('Select * from Reviews',conn) \n",
    "data.head()"
   ]
  },
  {
   "cell_type": "code",
   "execution_count": 3,
   "metadata": {},
   "outputs": [
    {
     "name": "stdout",
     "output_type": "stream",
     "text": [
      "(328769, 14)\n"
     ]
    }
   ],
   "source": [
    "# ============================================ Exploratory Data Analysis =====================================================\n",
    "print(data.shape)"
   ]
  },
  {
   "cell_type": "code",
   "execution_count": 4,
   "metadata": {},
   "outputs": [
    {
     "data": {
      "text/html": [
       "<div>\n",
       "<style scoped>\n",
       "    .dataframe tbody tr th:only-of-type {\n",
       "        vertical-align: middle;\n",
       "    }\n",
       "\n",
       "    .dataframe tbody tr th {\n",
       "        vertical-align: top;\n",
       "    }\n",
       "\n",
       "    .dataframe thead th {\n",
       "        text-align: right;\n",
       "    }\n",
       "</style>\n",
       "<table border=\"1\" class=\"dataframe\">\n",
       "  <thead>\n",
       "    <tr style=\"text-align: right;\">\n",
       "      <th></th>\n",
       "      <th>index</th>\n",
       "      <th>Id</th>\n",
       "      <th>ProductId</th>\n",
       "      <th>UserId</th>\n",
       "      <th>ProfileName</th>\n",
       "      <th>HelpfulnessNumerator</th>\n",
       "      <th>HelpfulnessDenominator</th>\n",
       "      <th>Score</th>\n",
       "      <th>Time</th>\n",
       "      <th>Summary</th>\n",
       "      <th>Text</th>\n",
       "      <th>em_words</th>\n",
       "      <th>cleaned_sent</th>\n",
       "      <th>cleaned_sent_w2v</th>\n",
       "    </tr>\n",
       "  </thead>\n",
       "  <tbody>\n",
       "    <tr>\n",
       "      <th>0</th>\n",
       "      <td>0</td>\n",
       "      <td>1</td>\n",
       "      <td>B001E4KFG0</td>\n",
       "      <td>A3SGXH7AUHU8GW</td>\n",
       "      <td>delmartian</td>\n",
       "      <td>1</td>\n",
       "      <td>1</td>\n",
       "      <td>Positive</td>\n",
       "      <td>1303862400</td>\n",
       "      <td>Good Quality Dog Food</td>\n",
       "      <td>I have bought several of the Vitality canned d...</td>\n",
       "      <td></td>\n",
       "      <td>have bought sever the vital can dog food produ...</td>\n",
       "      <td>have bought several the vitality canned dog fo...</td>\n",
       "    </tr>\n",
       "    <tr>\n",
       "      <th>1</th>\n",
       "      <td>1</td>\n",
       "      <td>2</td>\n",
       "      <td>B00813GRG4</td>\n",
       "      <td>A1D87F6ZCVE5NK</td>\n",
       "      <td>dll pa</td>\n",
       "      <td>0</td>\n",
       "      <td>0</td>\n",
       "      <td>Negative</td>\n",
       "      <td>1346976000</td>\n",
       "      <td>Not as Advertised</td>\n",
       "      <td>Product arrived labeled as Jumbo Salted Peanut...</td>\n",
       "      <td></td>\n",
       "      <td>product arriv label jumbo salt peanut the pean...</td>\n",
       "      <td>product arrived labeled jumbo salted peanuts t...</td>\n",
       "    </tr>\n",
       "    <tr>\n",
       "      <th>2</th>\n",
       "      <td>2</td>\n",
       "      <td>3</td>\n",
       "      <td>B000LQOCH0</td>\n",
       "      <td>ABXLMWJIXXAIN</td>\n",
       "      <td>Natalia Corres \"Natalia Corres\"</td>\n",
       "      <td>1</td>\n",
       "      <td>1</td>\n",
       "      <td>Positive</td>\n",
       "      <td>1219017600</td>\n",
       "      <td>\"Delight\" says it all</td>\n",
       "      <td>This is a confection that has been around a fe...</td>\n",
       "      <td></td>\n",
       "      <td>this confect that has been around few centuri ...</td>\n",
       "      <td>this confection that has been around few centu...</td>\n",
       "    </tr>\n",
       "    <tr>\n",
       "      <th>3</th>\n",
       "      <td>3</td>\n",
       "      <td>4</td>\n",
       "      <td>B000UA0QIQ</td>\n",
       "      <td>A395BORC6FGVXV</td>\n",
       "      <td>Karl</td>\n",
       "      <td>3</td>\n",
       "      <td>3</td>\n",
       "      <td>Negative</td>\n",
       "      <td>1307923200</td>\n",
       "      <td>Cough Medicine</td>\n",
       "      <td>If you are looking for the secret ingredient i...</td>\n",
       "      <td></td>\n",
       "      <td>you are look for the secret ingredi robitussin...</td>\n",
       "      <td>you are looking for the secret ingredient robi...</td>\n",
       "    </tr>\n",
       "    <tr>\n",
       "      <th>4</th>\n",
       "      <td>4</td>\n",
       "      <td>5</td>\n",
       "      <td>B006K2ZZ7K</td>\n",
       "      <td>A1UQRSCLF8GW1T</td>\n",
       "      <td>Michael D. Bigham \"M. Wassir\"</td>\n",
       "      <td>0</td>\n",
       "      <td>0</td>\n",
       "      <td>Positive</td>\n",
       "      <td>1350777600</td>\n",
       "      <td>Great taffy</td>\n",
       "      <td>Great taffy at a great price.  There was a wid...</td>\n",
       "      <td></td>\n",
       "      <td>great taffi great price there was wide assort ...</td>\n",
       "      <td>great taffy great price there was wide assortm...</td>\n",
       "    </tr>\n",
       "  </tbody>\n",
       "</table>\n",
       "</div>"
      ],
      "text/plain": [
       "   index  Id   ProductId          UserId                      ProfileName  \\\n",
       "0      0   1  B001E4KFG0  A3SGXH7AUHU8GW                       delmartian   \n",
       "1      1   2  B00813GRG4  A1D87F6ZCVE5NK                           dll pa   \n",
       "2      2   3  B000LQOCH0   ABXLMWJIXXAIN  Natalia Corres \"Natalia Corres\"   \n",
       "3      3   4  B000UA0QIQ  A395BORC6FGVXV                             Karl   \n",
       "4      4   5  B006K2ZZ7K  A1UQRSCLF8GW1T    Michael D. Bigham \"M. Wassir\"   \n",
       "\n",
       "   HelpfulnessNumerator  HelpfulnessDenominator     Score        Time  \\\n",
       "0                     1                       1  Positive  1303862400   \n",
       "1                     0                       0  Negative  1346976000   \n",
       "2                     1                       1  Positive  1219017600   \n",
       "3                     3                       3  Negative  1307923200   \n",
       "4                     0                       0  Positive  1350777600   \n",
       "\n",
       "                 Summary                                               Text  \\\n",
       "0  Good Quality Dog Food  I have bought several of the Vitality canned d...   \n",
       "1      Not as Advertised  Product arrived labeled as Jumbo Salted Peanut...   \n",
       "2  \"Delight\" says it all  This is a confection that has been around a fe...   \n",
       "3         Cough Medicine  If you are looking for the secret ingredient i...   \n",
       "4            Great taffy  Great taffy at a great price.  There was a wid...   \n",
       "\n",
       "  em_words                                       cleaned_sent  \\\n",
       "0           have bought sever the vital can dog food produ...   \n",
       "1           product arriv label jumbo salt peanut the pean...   \n",
       "2           this confect that has been around few centuri ...   \n",
       "3           you are look for the secret ingredi robitussin...   \n",
       "4           great taffi great price there was wide assort ...   \n",
       "\n",
       "                                    cleaned_sent_w2v  \n",
       "0  have bought several the vitality canned dog fo...  \n",
       "1  product arrived labeled jumbo salted peanuts t...  \n",
       "2  this confection that has been around few centu...  \n",
       "3  you are looking for the secret ingredient robi...  \n",
       "4  great taffy great price there was wide assortm...  "
      ]
     },
     "execution_count": 4,
     "metadata": {},
     "output_type": "execute_result"
    }
   ],
   "source": [
    "data.head()"
   ]
  },
  {
   "cell_type": "markdown",
   "metadata": {},
   "source": [
    "Since, we have time in the data, we can make time based splitting of data into train and test."
   ]
  },
  {
   "cell_type": "code",
   "execution_count": 5,
   "metadata": {},
   "outputs": [
    {
     "name": "stdout",
     "output_type": "stream",
     "text": [
      "(328769, 14)\n",
      "(230138, 14)\n",
      "(98631, 14)\n"
     ]
    }
   ],
   "source": [
    "## Time based Train, Test data\n",
    "df = data.sort_values(by='Time')\n",
    "\n",
    "train = df[:round(0.7*data.shape[0])]\n",
    "test = df[round(0.7*data.shape[0]):]\n",
    "#x_train,x_test,y_train,y_test = train_test_split(tr_tfidfw2v_features,train['label'], random_state = 3, test_size = 0.2)\n",
    "print(df.shape)\n",
    "print(train.shape)\n",
    "print(test.shape)"
   ]
  },
  {
   "cell_type": "code",
   "execution_count": 6,
   "metadata": {},
   "outputs": [
    {
     "data": {
      "text/plain": [
       "(230138, 57250)"
      ]
     },
     "execution_count": 6,
     "metadata": {},
     "output_type": "execute_result"
    }
   ],
   "source": [
    "## BOW: Bag of Words\n",
    "count_vec = CountVectorizer(stop_words='english')\n",
    "bow_words = count_vec.fit_transform(train['cleaned_sent'].values)\n",
    "bow_words.shape"
   ]
  },
  {
   "cell_type": "code",
   "execution_count": 7,
   "metadata": {},
   "outputs": [
    {
     "data": {
      "text/plain": [
       "False"
      ]
     },
     "execution_count": 7,
     "metadata": {},
     "output_type": "execute_result"
    }
   ],
   "source": [
    "np.isnan(bow_words.data).any()"
   ]
  },
  {
   "cell_type": "code",
   "execution_count": 8,
   "metadata": {},
   "outputs": [
    {
     "data": {
      "text/plain": [
       "(230138, 723876)"
      ]
     },
     "execution_count": 8,
     "metadata": {},
     "output_type": "execute_result"
    }
   ],
   "source": [
    "## TF-IDF: Term Frequency-Inverse Document Frequency\n",
    "tfidf_vec = TfidfVectorizer(stop_words = 'english',ngram_range=(1,2), max_df= 500, min_df = 2)\n",
    "tfidf_words = tfidf_vec.fit_transform(train['cleaned_sent'])\n",
    "tfidf_words.shape"
   ]
  },
  {
   "cell_type": "code",
   "execution_count": 9,
   "metadata": {},
   "outputs": [],
   "source": [
    "## Building Word2Vec model with train data\n",
    "list_of_sent = [text.split() for text in train['cleaned_sent_w2v']]\n",
    "w2v_model = Word2Vec(list_of_sent)"
   ]
  },
  {
   "cell_type": "code",
   "execution_count": 10,
   "metadata": {},
   "outputs": [
    {
     "data": {
      "text/plain": [
       "array([-1.4986039 , -0.25275734,  1.4846607 ,  3.029274  ,  2.5874174 ,\n",
       "       -1.5854452 , -0.23923545, -0.3077701 ,  0.35964996,  0.8096133 ,\n",
       "        3.450702  ,  0.4969116 ,  0.1374459 , -0.15564778, -0.4191808 ,\n",
       "       -0.21047653, -0.5570611 , -2.066181  ,  1.3347604 , -2.631255  ,\n",
       "       -0.02345878,  2.5330822 , -1.5220336 ,  0.41171837,  1.5853289 ,\n",
       "        1.1618936 ,  0.7730905 , -2.9568462 ,  1.440942  , -2.099383  ,\n",
       "       -1.2460945 , -0.43496892, -0.22011127,  1.3338948 , -2.7755833 ,\n",
       "        1.6546797 , -0.07566851, -2.1922746 ,  1.8369675 ,  1.0539224 ,\n",
       "        0.25319272, -1.3061155 ,  1.4806204 ,  1.0259925 , -0.56525475,\n",
       "       -0.36015263, -0.56539744,  0.30521366,  1.1657944 ,  2.519826  ,\n",
       "       -0.16550195,  0.47418863, -1.5021592 , -3.2697568 , -0.6804236 ,\n",
       "        3.3315475 , -1.8994344 , -1.1490804 ,  0.84933114,  0.84215945,\n",
       "       -2.222849  ,  0.92762154, -0.99305487, -0.74245346, -3.6835916 ,\n",
       "       -2.852508  ,  3.0358624 ,  0.1904907 , -1.0128307 ,  0.10716147,\n",
       "        2.1015806 , -0.38412791,  0.4959071 ,  0.02817601,  2.9472408 ,\n",
       "        1.312192  , -2.127775  , -1.8635424 , -3.0289958 ,  0.61145324,\n",
       "        1.8015614 , -1.8230299 , -2.1132815 ,  0.6148293 ,  1.2625546 ,\n",
       "       -1.4668965 ,  0.05472483, -1.2383504 , -0.44923016, -0.6435218 ,\n",
       "        0.4931717 , -1.8564005 ,  2.306148  ,  0.9069799 ,  0.9629322 ,\n",
       "        0.12344988, -1.5529343 , -0.16336307,  0.4351529 , -2.2043939 ],\n",
       "      dtype=float32)"
      ]
     },
     "execution_count": 10,
     "metadata": {},
     "output_type": "execute_result"
    }
   ],
   "source": [
    "w2v_model.wv['great']"
   ]
  },
  {
   "cell_type": "code",
   "execution_count": 11,
   "metadata": {},
   "outputs": [
    {
     "data": {
      "application/vnd.jupyter.widget-view+json": {
       "model_id": "0167edf81f0143519182b0211c033c07",
       "version_major": 2,
       "version_minor": 0
      },
      "text/html": [
       "<p>Failed to display Jupyter Widget of type <code>HBox</code>.</p>\n",
       "<p>\n",
       "  If you're reading this message in the Jupyter Notebook or JupyterLab Notebook, it may mean\n",
       "  that the widgets JavaScript is still loading. If this message persists, it\n",
       "  likely means that the widgets JavaScript library is either not installed or\n",
       "  not enabled. See the <a href=\"https://ipywidgets.readthedocs.io/en/stable/user_install.html\">Jupyter\n",
       "  Widgets Documentation</a> for setup instructions.\n",
       "</p>\n",
       "<p>\n",
       "  If you're reading this message in another frontend (for example, a static\n",
       "  rendering on GitHub or <a href=\"https://nbviewer.jupyter.org/\">NBViewer</a>),\n",
       "  it may mean that your frontend doesn't currently support widgets.\n",
       "</p>\n"
      ],
      "text/plain": [
       "HBox(children=(IntProgress(value=0, max=328769), HTML(value='')))"
      ]
     },
     "metadata": {},
     "output_type": "display_data"
    },
    {
     "name": "stdout",
     "output_type": "stream",
     "text": [
      "\n",
      "#of words not present in word2vec model built on train set is: 134445\n"
     ]
    }
   ],
   "source": [
    "## Avg W2V - Average Word2Vec based features\n",
    "sent_vectors = []\n",
    "count = 0\n",
    "for text in tqdm(df['cleaned_sent_w2v'].values):\n",
    "    counter = 0\n",
    "    sent_vec = np.zeros(100)\n",
    "    for word in text.split():\n",
    "        try:\n",
    "            word_vec = w2v_model.wv[word]\n",
    "            sent_vec += word_vec\n",
    "            counter +=1\n",
    "        except:\n",
    "            count +=1\n",
    "            pass\n",
    "    sent_vec /= counter\n",
    "    sent_vectors.append(sent_vec)\n",
    "print('#of words not present in word2vec model built on train set is:', count)"
   ]
  },
  {
   "cell_type": "code",
   "execution_count": 22,
   "metadata": {},
   "outputs": [],
   "source": [
    "sent_vect = np.array(sent_vectors)\n",
    "sent_vect = np.where(np.isnan(sent_vect), 0, sent_vect)"
   ]
  },
  {
   "cell_type": "code",
   "execution_count": 13,
   "metadata": {},
   "outputs": [
    {
     "data": {
      "application/vnd.jupyter.widget-view+json": {
       "model_id": "a11078f040a445edb6663add4f640927",
       "version_major": 2,
       "version_minor": 0
      },
      "text/html": [
       "<p>Failed to display Jupyter Widget of type <code>HBox</code>.</p>\n",
       "<p>\n",
       "  If you're reading this message in the Jupyter Notebook or JupyterLab Notebook, it may mean\n",
       "  that the widgets JavaScript is still loading. If this message persists, it\n",
       "  likely means that the widgets JavaScript library is either not installed or\n",
       "  not enabled. See the <a href=\"https://ipywidgets.readthedocs.io/en/stable/user_install.html\">Jupyter\n",
       "  Widgets Documentation</a> for setup instructions.\n",
       "</p>\n",
       "<p>\n",
       "  If you're reading this message in another frontend (for example, a static\n",
       "  rendering on GitHub or <a href=\"https://nbviewer.jupyter.org/\">NBViewer</a>),\n",
       "  it may mean that your frontend doesn't currently support widgets.\n",
       "</p>\n"
      ],
      "text/plain": [
       "HBox(children=(IntProgress(value=0, max=328769), HTML(value='')))"
      ]
     },
     "metadata": {},
     "output_type": "display_data"
    },
    {
     "name": "stdout",
     "output_type": "stream",
     "text": [
      "\n"
     ]
    }
   ],
   "source": [
    "## TF-IDF W2V - Weighed average of word2vec based on tf-idf (weight) of the word\n",
    "tfidfvec = TfidfVectorizer()\n",
    "# give a matrix of all words, each cell represented by word has the tf-idf value\n",
    "tfidfwords = tfidfvec.fit_transform(train['cleaned_sent_w2v']) \n",
    "dictionary = dict(zip(tfidfvec.get_feature_names(),list(tfidfvec.idf_))) # dict mapping of feature name as key and idf as value\n",
    "\n",
    "list_of_sent = []\n",
    "for sent in df['cleaned_sent_w2v'].values:\n",
    "    list_of_sent.append(sent.split())\n",
    "\n",
    "i = 0 # text row_id\n",
    "tfidf_sent_vectors = []\n",
    "for text in tqdm(list_of_sent):\n",
    "    counter = 0\n",
    "    sent_vec = np.zeros(100)\n",
    "    tfidf_sent =0\n",
    "    for word in text:\n",
    "        try:\n",
    "            word_vec = w2v_model.wv[word]\n",
    "            tfidf_word = dictionary[word]*(text.count(word)/len(text))  # idf*tf\n",
    "            sent_vec += word_vec*tfidf_word\n",
    "            tfidf_sent += tfidf_word\n",
    "        except:\n",
    "            pass\n",
    "    sent_vec /= tfidf_sent \n",
    "    tfidf_sent_vectors.append(sent_vec)\n",
    "    i+=1"
   ]
  },
  {
   "cell_type": "code",
   "execution_count": 23,
   "metadata": {},
   "outputs": [],
   "source": [
    "tfidf_sent_vect = np.array(tfidf_sent_vectors)\n",
    "tfidf_sent_vect = np.where(np.isnan(tfidf_sent_vect), 0, tfidf_sent_vect)"
   ]
  },
  {
   "cell_type": "code",
   "execution_count": 15,
   "metadata": {},
   "outputs": [
    {
     "name": "stdout",
     "output_type": "stream",
     "text": [
      "0.8387439205034538\n"
     ]
    }
   ],
   "source": [
    "# Check for balance of classes\n",
    "print(sum(df['Score']=='Positive')/df.shape[0])"
   ]
  },
  {
   "cell_type": "code",
   "execution_count": 16,
   "metadata": {},
   "outputs": [],
   "source": [
    "# UDF for Confusion Matrix\n",
    "def plot_confusion_matrix(cm, classes,\n",
    "                          cmap=plt.cm.Blues):\n",
    "    \n",
    "    title = 'Confusion matrix, without normalization'\n",
    "    plt.figure(figsize=(20, 4))\n",
    "    plt.subplot(1,2,1)\n",
    "    plt.ylabel('True label')\n",
    "    plt.xlabel('Predicted label')\n",
    "    \n",
    "    plt.imshow(cm, interpolation='nearest', cmap=cmap)\n",
    "    plt.title(title)\n",
    "    plt.colorbar()\n",
    "    tick_marks = np.arange(len(classes))\n",
    "    plt.xticks(tick_marks, classes, rotation=0)\n",
    "    plt.yticks(tick_marks, classes)\n",
    "    fmt = 'd'\n",
    "    thresh = cm.max() / 2.\n",
    "    for i, j in itertools.product(range(cm.shape[0]), range(cm.shape[1])):\n",
    "        plt.text(j, i, format(cm[i, j], fmt),\n",
    "                 horizontalalignment=\"center\",\n",
    "                 color=\"white\" if cm[i, j] > thresh else \"black\")\n",
    "     \n",
    "    title = \"Normalized confusion matrix\"\n",
    "    plt.subplot(1,2,2)\n",
    "    plt.ylabel('True label')\n",
    "    plt.xlabel('Predicted label')\n",
    "    cm = cm.astype('float') / cm.sum(axis=1)[:, np.newaxis]\n",
    "    plt.imshow(cm, interpolation='nearest', cmap=cmap)\n",
    "    plt.title(title)\n",
    "    plt.colorbar()\n",
    "    tick_marks = np.arange(len(classes))\n",
    "    plt.xticks(tick_marks, classes, rotation=0)\n",
    "    plt.yticks(tick_marks, classes)\n",
    "    fmt = '.2f'\n",
    "    thresh = cm.max() / 2.\n",
    "    for i, j in itertools.product(range(cm.shape[0]), range(cm.shape[1])):\n",
    "        plt.text(j, i, format(cm[i, j], fmt),\n",
    "                 horizontalalignment=\"center\",\n",
    "                 color=\"white\" if cm[i, j] > thresh else \"black\")\n",
    "    \n",
    "    plt.tight_layout()   \n",
    "    \n",
    "def print_top10(vectorizer, clf, n):\n",
    "    feature_names = vectorizer.get_feature_names()\n",
    "    coefs_with_fns = sorted(zip(clf.coef_[0], feature_names))\n",
    "    top = zip(coefs_with_fns[:n], coefs_with_fns[:-(n + 1):-1])\n",
    "    for (coef_1, fn_1), (coef_2, fn_2) in top:\n",
    "        print (\"\\t%.4f\\t%-15s\\t\\t%.4f\\t%-15s\" % (coef_1, fn_1, coef_2, fn_2))  "
   ]
  },
  {
   "cell_type": "markdown",
   "metadata": {},
   "source": [
    "The dataset seems to be highly biased (4 times) towards Positive reviews, and hence is an imbalanced dataset. Data needs to be\n",
    "balanced to train a model. Or we can penalise the error on Negative review 4 times than error on Positive review to make model\n",
    "learning unbiased.\n"
   ]
  },
  {
   "attachments": {
    "time%20based%20CV.JPG": {
     "image/jpeg": "[encoded data removed]"
    }
   },
   "cell_type": "markdown",
   "metadata": {},
   "source": [
    "Support Vector Classification Model: It is a supervised, deterministic based model which finds a hyperplane or a decision surface with an objective of margin maximization for a minimal generalisation error. We will be training the data using RBF Kernel in SVM to get the support vectors and hence, the predictions. So, we have 2 hyper parameters to tune. One is the parameter C (balances the weight between objective function and regularization term) and other is the paramater Gamma which tunes the model to select the neighbor data points to generate support vectors, essentially controls the learning rate of the model. Higher the value of tuning parameter, higher the bias, underfitting is the model and viceversa. This can be achieved using Cross-Validation technique with different values of tuning parameters. And, pick the best of all.\n",
    "\n",
    "\n",
    "And since this is a time based cross validation, the constraint on Validation set is to be always future in nature, with reference to the training subset of the model. So, in a K-fold time based validation, in kth split, first k folds are taken as train data and (k+1)th data set is taken as validation data. Essentially, every successive training sets are supersets of those that come before them.\n",
    "\n",
    "\n",
    "Note: Read 'Test' as Validation set of the data.\n",
    "\n",
    "![time%20based%20CV.JPG](attachment:time%20based%20CV.JPG)\n",
    "\n"
   ]
  },
  {
   "cell_type": "markdown",
   "metadata": {},
   "source": [
    "## ===================== SVM with Bag of Words features ========================="
   ]
  },
  {
   "cell_type": "markdown",
   "metadata": {},
   "source": [
    "## SVM without Kernel with Grid Search Cross Validation"
   ]
  },
  {
   "cell_type": "code",
   "execution_count": 18,
   "metadata": {},
   "outputs": [
    {
     "name": "stdout",
     "output_type": "stream",
     "text": [
      "SGDClassifier(alpha=1, average=False, class_weight='balanced', epsilon=0.1,\n",
      "       eta0=0.0, fit_intercept=True, l1_ratio=0.15,\n",
      "       learning_rate='optimal', loss='hinge', max_iter=None, n_iter=None,\n",
      "       n_jobs=1, penalty='l2', power_t=0.5, random_state=100, shuffle=True,\n",
      "       tol=None, verbose=0, warm_start=False)\n"
     ]
    }
   ],
   "source": [
    "# 10 fold - Time based Cross Validation \n",
    "tscv = TimeSeriesSplit(max_train_size= None, n_splits= 10)\n",
    "X = bow_words\n",
    "X = StandardScaler(with_mean = False).fit_transform(X)\n",
    "Y = np.array(train['Score'].apply(lambda x: 1 if x =='Negative' else 0)) # Target Variable preparation\n",
    "param = {'alpha': [10 ** x for x in range(-4, 5)]}\n",
    "gs_lin_bow_model = GridSearchCV(estimator = SGDClassifier(loss = 'hinge',class_weight= 'balanced', random_state= 100)\\\n",
    "                                                    ,param_grid = param,cv = tscv)\n",
    "gs_lin_bow_model.fit(X,Y)\n",
    "\n",
    "print(gs_lin_bow_model.best_estimator_)"
   ]
  },
  {
   "cell_type": "markdown",
   "metadata": {},
   "source": [
    "To check the best tuning parameter, comparing the train and validation scores in a bias variance plot"
   ]
  },
  {
   "cell_type": "code",
   "execution_count": 26,
   "metadata": {
    "scrolled": false
   },
   "outputs": [
    {
     "data": {
      "image/png": "[encoded data removed]",
      "text/plain": [
       "<matplotlib.figure.Figure at 0xd7823400>"
      ]
     },
     "metadata": {},
     "output_type": "display_data"
    }
   ],
   "source": [
    "tscv_scores = gs_lin_bow_model.cv_results_.get('mean_test_score')\n",
    "trcv_scores = gs_lin_bow_model.cv_results_.get('mean_train_score')\n",
    "# Bias-Variance plot\n",
    "x = [1,2,3,4,5,6,7,8,9]\n",
    "ts_error = [100 - x*100 for x in tscv_scores]\n",
    "tr_error = [100 - x*100 for x in trcv_scores]\n",
    "plt.plot(x, ts_error, color='g', label ='CV-error')\n",
    "plt.plot(x, tr_error, color='orange', label = 'Train-error')\n",
    "plt.xlabel('Model Complexity')\n",
    "plt.ylabel('Error in percentage')\n",
    "plt.title('Train-Test Plot')\n",
    "plt.plot(np.repeat(5,9),[3,9,15,28,38,48,58,68,88] , linestyle='--',label = 'Best model')\n",
    "plt.legend()\n",
    "plt.show()"
   ]
  },
  {
   "cell_type": "markdown",
   "metadata": {},
   "source": [
    "Low Cross Validation error and low training error is observed at alpha = 1. So, picking up the best bag of words model with alpha = 1"
   ]
  },
  {
   "cell_type": "code",
   "execution_count": 27,
   "metadata": {},
   "outputs": [
    {
     "name": "stdout",
     "output_type": "stream",
     "text": [
      "Test Accuracy for Linear SVM model with bag of words: 88.71855704595917 %\n",
      "Test Precision for Linear SVM model with bag of words for Negative label reviews: 0.6463893249607535\n",
      "Test Recall for Linear SVM model with bag of words for Negative label reviews: 0.8308390785269884\n",
      "Test fscore for Linear SVM model with bag of words for Negative label reviews: 0.7270988153925392\n",
      "Test AUC for  Linear SVM model with bag of words: 0.8652338727206051\n"
     ]
    }
   ],
   "source": [
    "# ====================================== Model Performance measures on Test Data ===============================================\n",
    "# Checking accuracy of the model on test data\n",
    "X_scaler = StandardScaler(with_mean = False)\n",
    "train_X = X_scaler.fit_transform(bow_words)\n",
    "bow_words_tst1 = count_vec.transform(test['cleaned_sent'].values)\n",
    "bow_words_tst = X_scaler.transform(bow_words_tst1)\n",
    "classifier_name = SGDClassifier(loss = 'hinge',class_weight= 'balanced', random_state= 100,alpha = 1)\n",
    "train_y = np.array(train['Score'].apply(lambda x: 1 if x =='Negative' else 0))\n",
    "test_y = np.array(test['Score'].apply(lambda x: 1 if x =='Negative' else 0))\n",
    "# Positive = 0 ; Negative = 1\n",
    "model_gs_lin_bow = classifier_name.fit(train_X,train_y)\n",
    "predtest_y_gs_lin_bow = model_gs_lin_bow.predict(bow_words_tst)\n",
    "\n",
    "# Accuracy score\n",
    "gs_lin_acc_bow = accuracy_score(test_y, predtest_y_gs_lin_bow, normalize=True)*100\n",
    "print(\"Test Accuracy for Linear SVM model with bag of words:\",gs_lin_acc_bow,'%')\n",
    "# Precision-Recall, f-score\n",
    "gs_lin_bow_pre, gs_lin_bow_recall, gs_lin_bow_fscore, gs_lin_bow_suprt = \\\n",
    "                precision_recall_fscore_support(test_y,predtest_y_gs_lin_bow,pos_label = 1, average = 'binary')\n",
    "print(\"Test Precision for Linear SVM model with bag of words for Negative label reviews:\",gs_lin_bow_pre)\n",
    "print(\"Test Recall for Linear SVM model with bag of words for Negative label reviews:\",gs_lin_bow_recall)\n",
    "print(\"Test fscore for Linear SVM model with bag of words for Negative label reviews:\",gs_lin_bow_fscore)\n",
    "# ROC, AUC\n",
    "fpr, tpr, thresholds = roc_curve(test_y,predtest_y_gs_lin_bow, pos_label = 1)\n",
    "gs_lin_bow_auc_score = auc(fpr,tpr)\n",
    "print(\"Test AUC for  Linear SVM model with bag of words:\",gs_lin_bow_auc_score)\n",
    "# Confusion matrix\n",
    "gs_lin_bow_cm = confusion_matrix(test_y, predtest_y_gs_lin_bow)"
   ]
  },
  {
   "cell_type": "code",
   "execution_count": 29,
   "metadata": {},
   "outputs": [
    {
     "data": {
      "image/png": "[encoded data removed]",
      "text/plain": [
       "<matplotlib.figure.Figure at 0xd77401d0>"
      ]
     },
     "metadata": {},
     "output_type": "display_data"
    }
   ],
   "source": [
    "plot_confusion_matrix(gs_lin_bow_cm, ['Positive','Negative'])"
   ]
  },
  {
   "cell_type": "markdown",
   "metadata": {},
   "source": [
    "#### Observations :"
   ]
  },
  {
   "cell_type": "markdown",
   "metadata": {},
   "source": [
    "1. Linear SVM model with BOW seems to be a very good model compared to the best Logistic Regression model that we got in previous assignment.\n",
    "2. AUC of 87% is achieved with f1 score of 72% and we have identified 83% of Negative reviews successfully though with 65% accuracy."
   ]
  },
  {
   "cell_type": "markdown",
   "metadata": {},
   "source": [
    "#### Top 5 features of BOW - Linear SVM Model"
   ]
  },
  {
   "cell_type": "code",
   "execution_count": 42,
   "metadata": {},
   "outputs": [
    {
     "name": "stdout",
     "output_type": "stream",
     "text": [
      "Top 5 features of Linear SVM model for positive and negative classes respectively:\n",
      "\t-0.1077\tgreat          \t\t0.0893\tdisappoint     \n",
      "\t-0.0891\tlove           \t\t0.0475\tworst          \n",
      "\t-0.0769\tbest           \t\t0.0460\tbad            \n",
      "\t-0.0613\tdelici         \t\t0.0447\taw             \n",
      "\t-0.0538\tgood           \t\t0.0445\tterribl        \n"
     ]
    }
   ],
   "source": [
    "print(\"Top 5 features of Linear SVM model for positive and negative classes respectively:\")\n",
    "print_top10(count_vec,model_gs_lin_bow,5)"
   ]
  },
  {
   "cell_type": "markdown",
   "metadata": {},
   "source": [
    "## SVM without Kernel with Random Search Cross Validation"
   ]
  },
  {
   "cell_type": "code",
   "execution_count": 37,
   "metadata": {},
   "outputs": [
    {
     "name": "stdout",
     "output_type": "stream",
     "text": [
      "SGDClassifier(alpha=11.57532616370065, average=False, class_weight='balanced',\n",
      "       epsilon=0.1, eta0=0.0, fit_intercept=True, l1_ratio=0.15,\n",
      "       learning_rate='optimal', loss='hinge', max_iter=None, n_iter=None,\n",
      "       n_jobs=1, penalty='l2', power_t=0.5, random_state=100, shuffle=True,\n",
      "       tol=None, verbose=0, warm_start=False)\n"
     ]
    }
   ],
   "source": [
    "# 10 fold - Time based Cross Validation \n",
    "tscv = TimeSeriesSplit(max_train_size= None, n_splits= 10)\n",
    "X = bow_words\n",
    "X = StandardScaler(with_mean = False).fit_transform(X)\n",
    "Y = np.array(train['Score'].apply(lambda x: 1 if x =='Negative' else 0)) # Target Variable preparation\n",
    "param = {'alpha': np.random.uniform(10**-2,10**2,10)}\n",
    "rs_lin_bow_model = RandomizedSearchCV(estimator = SGDClassifier(loss = 'hinge',class_weight= 'balanced', random_state= 100)\\\n",
    "                                                    ,param_distributions = param,cv = tscv)\n",
    "rs_lin_bow_model.fit(X,Y)\n",
    "\n",
    "print(rs_lin_bow_model.best_estimator_)"
   ]
  },
  {
   "cell_type": "code",
   "execution_count": 41,
   "metadata": {},
   "outputs": [
    {
     "data": {
      "image/png": "[encoded data removed]",
      "text/plain": [
       "<matplotlib.figure.Figure at 0xd85c3320>"
      ]
     },
     "metadata": {},
     "output_type": "display_data"
    }
   ],
   "source": [
    "tscv_scores = rs_lin_bow_model.cv_results_.get('mean_test_score')\n",
    "trcv_scores = rs_lin_bow_model.cv_results_.get('mean_train_score')\n",
    "# Bias-Variance plot\n",
    "x = [1,2,3,4,5,6,7,8,9,10]\n",
    "ts_error = [100 - x*100 for x in tscv_scores]\n",
    "tr_error = [100 - x*100 for x in trcv_scores]\n",
    "plt.plot(x, ts_error, color='g', label ='CV-error')\n",
    "plt.plot(x, tr_error, color='orange', label = 'Train-error')\n",
    "plt.xlabel('Model Complexity')\n",
    "plt.ylabel('Error in percentage')\n",
    "plt.title('Train-Test Plot')\n",
    "plt.plot(np.repeat(6,10),[3,9,15,28,38,48,58,68,88,90] , linestyle='--',label = 'Best model')\n",
    "plt.legend()\n",
    "plt.show()"
   ]
  },
  {
   "cell_type": "markdown",
   "metadata": {},
   "source": [
    "Low Cross Validation error and low training error is observed at alpha = 11.57532616370065. So, picking up the best bag of words model with alpha = 11.57532616370065"
   ]
  },
  {
   "cell_type": "code",
   "execution_count": 43,
   "metadata": {},
   "outputs": [
    {
     "name": "stdout",
     "output_type": "stream",
     "text": [
      "Test Accuracy for Linear SVM model with bag of words: 80.53654530522859 %\n",
      "Test Precision for Linear SVM model with bag of words for Negative label reviews: 0.4800294550810015\n",
      "Test Recall for Linear SVM model with bag of words for Negative label reviews: 0.9134577658203016\n",
      "Test fscore for Linear SVM model with bag of words for Negative label reviews: 0.6293371435191443\n",
      "Test AUC for  Linear SVM model with bag of words: 0.847476500189517\n"
     ]
    }
   ],
   "source": [
    "# ====================================== Model Performance measures on Test Data ===============================================\n",
    "# Checking accuracy of the model on test data\n",
    "X_scaler = StandardScaler(with_mean = False)\n",
    "train_X = X_scaler.fit_transform(bow_words)\n",
    "bow_words_tst1 = count_vec.transform(test['cleaned_sent'].values)\n",
    "bow_words_tst = X_scaler.transform(bow_words_tst1)\n",
    "classifier_name = SGDClassifier(loss = 'hinge',class_weight= 'balanced', random_state= 100,alpha = 11.57532616370065)\n",
    "train_y = np.array(train['Score'].apply(lambda x: 1 if x =='Negative' else 0))\n",
    "test_y = np.array(test['Score'].apply(lambda x: 1 if x =='Negative' else 0))\n",
    "# Positive = 0 ; Negative = 1\n",
    "model_rs_lin_bow = classifier_name.fit(train_X,train_y)\n",
    "predtest_y_rs_lin_bow = model_rs_lin_bow.predict(bow_words_tst)\n",
    "\n",
    "# Accuracy score\n",
    "rs_lin_acc_bow = accuracy_score(test_y, predtest_y_rs_lin_bow, normalize=True)*100\n",
    "print(\"Test Accuracy for Linear SVM model with bag of words:\",rs_lin_acc_bow,'%')\n",
    "# Precision-Recall, f-score\n",
    "rs_lin_bow_pre, rs_lin_bow_recall, rs_lin_bow_fscore, rs_lin_bow_suprt = \\\n",
    "                precision_recall_fscore_support(test_y,predtest_y_rs_lin_bow,pos_label = 1, average = 'binary')\n",
    "print(\"Test Precision for Linear SVM model with bag of words for Negative label reviews:\",rs_lin_bow_pre)\n",
    "print(\"Test Recall for Linear SVM model with bag of words for Negative label reviews:\",rs_lin_bow_recall)\n",
    "print(\"Test fscore for Linear SVM model with bag of words for Negative label reviews:\",rs_lin_bow_fscore)\n",
    "# ROC, AUC\n",
    "fpr, tpr, thresholds = roc_curve(test_y,predtest_y_rs_lin_bow, pos_label = 1)\n",
    "rs_lin_bow_auc_score = auc(fpr,tpr)\n",
    "print(\"Test AUC for  Linear SVM model with bag of words:\",rs_lin_bow_auc_score)\n",
    "# Confusion matrix\n",
    "rs_lin_bow_cm = confusion_matrix(test_y, predtest_y_rs_lin_bow)"
   ]
  },
  {
   "cell_type": "code",
   "execution_count": 44,
   "metadata": {},
   "outputs": [
    {
     "data": {
      "image/png": "[encoded data removed]",
      "text/plain": [
       "<matplotlib.figure.Figure at 0xd834dfd0>"
      ]
     },
     "metadata": {},
     "output_type": "display_data"
    }
   ],
   "source": [
    "plot_confusion_matrix(rs_lin_bow_cm, ['Positive','Negative'])"
   ]
  },
  {
   "cell_type": "markdown",
   "metadata": {},
   "source": [
    "#### Observations:"
   ]
  },
  {
   "cell_type": "markdown",
   "metadata": {},
   "source": [
    "1. Linear SVM model with BOW seems to be a very good model compared to the best Logistic Regression model that we got in previous assignment.\n",
    "2. AUC of 85% is achieved with f1 score of 63% and we have identified 91% of Negative reviews successfully though with very less 48% accuracy.\n",
    "3. Linear SVM Model with BOW featurisation parameters searched with Grid Search CV seems to better of the above models."
   ]
  },
  {
   "cell_type": "markdown",
   "metadata": {},
   "source": [
    "#### Top 5 features of BOW - Linear SVM Model"
   ]
  },
  {
   "cell_type": "code",
   "execution_count": 45,
   "metadata": {},
   "outputs": [
    {
     "name": "stdout",
     "output_type": "stream",
     "text": [
      "Top 5 features of Linear SVM model for positive and negative classes respectively:\n",
      "\t-0.0172\tgreat          \t\t0.0214\tdisappoint     \n",
      "\t-0.0145\tlove           \t\t0.0147\tworst          \n",
      "\t-0.0121\tbest           \t\t0.0145\twast           \n",
      "\t-0.0107\tdelici         \t\t0.0143\treturn         \n",
      "\t-0.0097\tperfect        \t\t0.0140\tmoney          \n"
     ]
    }
   ],
   "source": [
    "print(\"Top 5 features of Linear SVM model for positive and negative classes respectively:\")\n",
    "print_top10(count_vec,model_rs_lin_bow,5)"
   ]
  },
  {
   "cell_type": "markdown",
   "metadata": {},
   "source": [
    "## ===================== SVM with TFIDF features ========================="
   ]
  },
  {
   "cell_type": "markdown",
   "metadata": {},
   "source": [
    "## SVM without Kernel with Grid Search Cross Validation"
   ]
  },
  {
   "cell_type": "code",
   "execution_count": 17,
   "metadata": {},
   "outputs": [
    {
     "name": "stdout",
     "output_type": "stream",
     "text": [
      "SGDClassifier(alpha=10, average=False, class_weight='balanced', epsilon=0.1,\n",
      "       eta0=0.0, fit_intercept=True, l1_ratio=0.15,\n",
      "       learning_rate='optimal', loss='hinge', max_iter=None, n_iter=None,\n",
      "       n_jobs=1, penalty='l2', power_t=0.5, random_state=100, shuffle=True,\n",
      "       tol=None, verbose=0, warm_start=False)\n"
     ]
    }
   ],
   "source": [
    "# 10 fold - Time based Cross Validation \n",
    "tscv = TimeSeriesSplit(max_train_size= None, n_splits= 10)\n",
    "X = tfidf_words\n",
    "X = StandardScaler(with_mean = False).fit_transform(X)\n",
    "Y = np.array(train['Score'].apply(lambda x: 1 if x =='Negative' else 0)) # Target Variable preparation\n",
    "param = {'alpha': [10 ** x for x in range(-4, 5)]}\n",
    "gs_lin_tfidf_model = GridSearchCV(estimator = SGDClassifier(loss = 'hinge',class_weight= 'balanced', random_state= 100)\\\n",
    "                                                    ,param_grid = param,cv = tscv)\n",
    "gs_lin_tfidf_model.fit(X,Y)\n",
    "\n",
    "print(gs_lin_tfidf_model.best_estimator_)"
   ]
  },
  {
   "cell_type": "code",
   "execution_count": 21,
   "metadata": {},
   "outputs": [
    {
     "data": {
      "image/png": "[encoded data removed]",
      "text/plain": [
       "<matplotlib.figure.Figure at 0xd768d278>"
      ]
     },
     "metadata": {},
     "output_type": "display_data"
    }
   ],
   "source": [
    "tscv_scores = gs_lin_tfidf_model.cv_results_.get('mean_test_score')\n",
    "trcv_scores = gs_lin_tfidf_model.cv_results_.get('mean_train_score')\n",
    "# Bias-Variance plot\n",
    "x = [1,2,3,4,5,6,7,8,9]\n",
    "ts_error = [100 - x*100 for x in tscv_scores]\n",
    "tr_error = [100 - x*100 for x in trcv_scores]\n",
    "plt.plot(x, ts_error, color='g', label ='CV-error')\n",
    "plt.plot(x, tr_error, color='orange', label = 'Train-error')\n",
    "plt.xlabel('Model Complexity')\n",
    "plt.ylabel('Error in percentage')\n",
    "plt.title('Train-Test Plot')\n",
    "plt.plot(np.repeat(6,9),[0,9,15,18,38,48,49,50,58] , linestyle='--',label = 'Best model')\n",
    "plt.legend()\n",
    "plt.show()"
   ]
  },
  {
   "cell_type": "markdown",
   "metadata": {},
   "source": [
    "Low Cross Validation error and low training error is observed at alpha = 10. So, picking up the best TFIDF model with alpha = 10"
   ]
  },
  {
   "cell_type": "code",
   "execution_count": 25,
   "metadata": {},
   "outputs": [
    {
     "name": "stdout",
     "output_type": "stream",
     "text": [
      "Test Accuracy for Linear SVM model with TF-IDF: 88.42351796088451 %\n",
      "Test Precision for Linear SVM model with TF-IDF for Negative label reviews: 0.6574341879503898\n",
      "Test Recall for Linear SVM model with TF-IDF for Negative label reviews: 0.7516955327616165\n",
      "Test fscore for Linear SVM model with TF-IDF for Negative label reviews: 0.7014121338912135\n",
      "Test AUC for  Linear SVM model with TF-IDF: 0.8325998396572039\n"
     ]
    }
   ],
   "source": [
    "# ====================================== Model Performance measures on Test Data ===============================================\n",
    "# Checking accuracy of the model on test data\n",
    "X_scaler = StandardScaler(with_mean = False)\n",
    "train_X = X_scaler.fit_transform(tfidf_words)\n",
    "tfidf_words_tst1 = tfidf_vec.transform(test['cleaned_sent'].values) \n",
    "tfidf_words_tst = X_scaler.transform(tfidf_words_tst1)\n",
    "classifier_name = SGDClassifier(loss = 'hinge',class_weight= 'balanced', random_state= 100,alpha = 10)\n",
    "train_y = np.array(train['Score'].apply(lambda x: 1 if x =='Negative' else 0))\n",
    "test_y = np.array(test['Score'].apply(lambda x: 1 if x =='Negative' else 0))\n",
    "# Positive = 0 ; Negative = 1\n",
    "model_gs_lin_tfidf = classifier_name.fit(train_X,train_y)\n",
    "predtest_y_gs_lin_tfidf = model_gs_lin_tfidf.predict(tfidf_words_tst)\n",
    "\n",
    "# Accuracy score\n",
    "gs_lin_acc_tfidf = accuracy_score(test_y, predtest_y_gs_lin_tfidf, normalize=True)*100\n",
    "print(\"Test Accuracy for Linear SVM model with TF-IDF:\",gs_lin_acc_tfidf,'%')\n",
    "# Precision-Recall, f-score\n",
    "gs_lin_tfidf_pre, gs_lin_tfidf_recall, gs_lin_tfidf_fscore, gs_lin_tfidf_suprt = \\\n",
    "                precision_recall_fscore_support(test_y,predtest_y_gs_lin_tfidf,pos_label = 1, average = 'binary')\n",
    "print(\"Test Precision for Linear SVM model with TF-IDF for Negative label reviews:\",gs_lin_tfidf_pre)\n",
    "print(\"Test Recall for Linear SVM model with TF-IDF for Negative label reviews:\",gs_lin_tfidf_recall)\n",
    "print(\"Test fscore for Linear SVM model with TF-IDF for Negative label reviews:\",gs_lin_tfidf_fscore)\n",
    "# ROC, AUC\n",
    "fpr, tpr, thresholds = roc_curve(test_y,predtest_y_gs_lin_tfidf, pos_label = 1)\n",
    "gs_lin_tfidf_auc_score = auc(fpr,tpr)\n",
    "print(\"Test AUC for  Linear SVM model with TF-IDF:\",gs_lin_tfidf_auc_score)\n",
    "# Confusion matrix\n",
    "gs_lin_tfidf_cm = confusion_matrix(test_y, predtest_y_gs_lin_tfidf)"
   ]
  },
  {
   "cell_type": "code",
   "execution_count": 26,
   "metadata": {},
   "outputs": [
    {
     "data": {
      "image/png": "[encoded data removed]",
      "text/plain": [
       "<matplotlib.figure.Figure at 0xd7761860>"
      ]
     },
     "metadata": {},
     "output_type": "display_data"
    }
   ],
   "source": [
    "plot_confusion_matrix(gs_lin_tfidf_cm, ['Positive','Negative'])"
   ]
  },
  {
   "cell_type": "markdown",
   "metadata": {},
   "source": [
    "#### Observations:"
   ]
  },
  {
   "cell_type": "markdown",
   "metadata": {},
   "source": [
    "1. Linear SVM model with BOW seems to be a very good model compared to the best Logistic Regression model that we got in previous assignment.\n",
    "2. AUC of 83% is achieved with f1 score of 70% and we have identified 75% of Negative reviews successfully though with high 66% accuracy.\n",
    "3. Linear SVM Model with BOW featurisation parameters searched with Grid Search CV seems to better of the above models."
   ]
  },
  {
   "cell_type": "markdown",
   "metadata": {},
   "source": [
    "#### Top 5 features of TFIDF - Linear SVM Model"
   ]
  },
  {
   "cell_type": "code",
   "execution_count": 28,
   "metadata": {},
   "outputs": [
    {
     "name": "stdout",
     "output_type": "stream",
     "text": [
      "Top 5 features of Linear SVM model for positive and negative classes respectively:\n",
      "\t-0.0022\tabsolutuley    \t\t0.0042\tprefrozen      \n",
      "\t-0.0020\tswimmer        \t\t0.0039\tpodravka       \n",
      "\t-0.0019\talci           \t\t0.0032\torganza        \n",
      "\t-0.0019\ttrusti         \t\t0.0025\tonezip         \n",
      "\t-0.0018\tadder          \t\t0.0022\talberti        \n"
     ]
    }
   ],
   "source": [
    "print(\"Top 5 features of Linear SVM model for positive and negative classes respectively:\")\n",
    "print_top10(count_vec,model_gs_lin_tfidf,5)"
   ]
  },
  {
   "cell_type": "markdown",
   "metadata": {},
   "source": [
    "## SVM without Kernel with Random Search Cross Validation"
   ]
  },
  {
   "cell_type": "code",
   "execution_count": 29,
   "metadata": {},
   "outputs": [
    {
     "name": "stdout",
     "output_type": "stream",
     "text": [
      "SGDClassifier(alpha=9.801410947227854, average=False, class_weight='balanced',\n",
      "       epsilon=0.1, eta0=0.0, fit_intercept=True, l1_ratio=0.15,\n",
      "       learning_rate='optimal', loss='hinge', max_iter=None, n_iter=None,\n",
      "       n_jobs=1, penalty='l2', power_t=0.5, random_state=100, shuffle=True,\n",
      "       tol=None, verbose=0, warm_start=False)\n"
     ]
    }
   ],
   "source": [
    "# 10 fold - Time based Cross Validation \n",
    "tscv = TimeSeriesSplit(max_train_size= None, n_splits= 10)\n",
    "X = tfidf_words\n",
    "X = StandardScaler(with_mean = False).fit_transform(X)\n",
    "Y = np.array(train['Score'].apply(lambda x: 1 if x =='Negative' else 0)) # Target Variable preparation\n",
    "param = {'alpha': np.random.uniform(10**-2,10**2,10)}\n",
    "rs_lin_tfidf_model = RandomizedSearchCV(estimator = SGDClassifier(loss = 'hinge',class_weight= 'balanced', random_state= 100)\\\n",
    "                                                    ,param_distributions = param,cv = tscv)\n",
    "rs_lin_tfidf_model.fit(X,Y)\n",
    "\n",
    "print(rs_lin_tfidf_model.best_estimator_)"
   ]
  },
  {
   "cell_type": "code",
   "execution_count": 32,
   "metadata": {},
   "outputs": [
    {
     "data": {
      "image/png": "[encoded data removed]",
      "text/plain": [
       "<matplotlib.figure.Figure at 0xd8718780>"
      ]
     },
     "metadata": {},
     "output_type": "display_data"
    }
   ],
   "source": [
    "tscv_scores = rs_lin_tfidf_model.cv_results_.get('mean_test_score')\n",
    "trcv_scores = rs_lin_tfidf_model.cv_results_.get('mean_train_score')\n",
    "# Bias-Variance plot\n",
    "x = [1,2,3,4,5,6,7,8,9,10]\n",
    "ts_error = [100 - x*100 for x in tscv_scores]\n",
    "tr_error = [100 - x*100 for x in trcv_scores]\n",
    "plt.plot(x, ts_error, color='g', label ='CV-error')\n",
    "plt.plot(x, tr_error, color='orange', label = 'Train-error')\n",
    "plt.xlabel('Model Complexity')\n",
    "plt.ylabel('Error in percentage')\n",
    "plt.title('Train-Test Plot')\n",
    "plt.plot(np.repeat(5,10),[0,9,15,28,38,48,58,68,88,90] , linestyle='--',label = 'Best model')\n",
    "plt.legend()\n",
    "plt.show()"
   ]
  },
  {
   "cell_type": "markdown",
   "metadata": {},
   "source": [
    "Low Cross Validation error and low training error is observed at alpha = 9.801410947227854. So, picking up the best TFIDF model with alpha = 9.801410947227854"
   ]
  },
  {
   "cell_type": "code",
   "execution_count": 34,
   "metadata": {},
   "outputs": [
    {
     "name": "stdout",
     "output_type": "stream",
     "text": [
      "Test Accuracy for Linear SVM model with TF-IDF: 88.5096977623668 %\n",
      "Test Precision for Linear SVM model with TF-IDF for Negative label reviews: 0.6608820330267972\n",
      "Test Recall for Linear SVM model with TF-IDF for Negative label reviews: 0.7492293032901743\n",
      "Test fscore for Linear SVM model with TF-IDF for Negative label reviews: 0.7022880710326529\n",
      "Test AUC for  Linear SVM model with TF-IDF: 0.8321650910559054\n"
     ]
    }
   ],
   "source": [
    "# ====================================== Model Performance measures on Test Data ===============================================\n",
    "# Checking accuracy of the model on test data\n",
    "X_scaler = StandardScaler(with_mean = False)\n",
    "train_X = X_scaler.fit_transform(tfidf_words)\n",
    "tfidf_words_tst1 = tfidf_vec.transform(test['cleaned_sent'].values) \n",
    "tfidf_words_tst = X_scaler.transform(tfidf_words_tst1)\n",
    "classifier_name = SGDClassifier(loss = 'hinge',class_weight= 'balanced', random_state= 100,alpha = 9.801410947227854)\n",
    "train_y = np.array(train['Score'].apply(lambda x: 1 if x =='Negative' else 0))\n",
    "test_y = np.array(test['Score'].apply(lambda x: 1 if x =='Negative' else 0))\n",
    "# Positive = 0 ; Negative = 1\n",
    "model_rs_lin_tfidf = classifier_name.fit(train_X,train_y)\n",
    "predtest_y_rs_lin_tfidf = model_rs_lin_tfidf.predict(tfidf_words_tst)\n",
    "\n",
    "# Accuracy score\n",
    "rs_lin_acc_tfidf = accuracy_score(test_y, predtest_y_rs_lin_tfidf, normalize=True)*100\n",
    "print(\"Test Accuracy for Linear SVM model with TF-IDF:\",rs_lin_acc_tfidf,'%')\n",
    "# Precision-Recall, f-score\n",
    "rs_lin_tfidf_pre, rs_lin_tfidf_recall, rs_lin_tfidf_fscore, rs_lin_tfidf_suprt = \\\n",
    "                precision_recall_fscore_support(test_y,predtest_y_rs_lin_tfidf,pos_label = 1, average = 'binary')\n",
    "print(\"Test Precision for Linear SVM model with TF-IDF for Negative label reviews:\",rs_lin_tfidf_pre)\n",
    "print(\"Test Recall for Linear SVM model with TF-IDF for Negative label reviews:\",rs_lin_tfidf_recall)\n",
    "print(\"Test fscore for Linear SVM model with TF-IDF for Negative label reviews:\",rs_lin_tfidf_fscore)\n",
    "# ROC, AUC\n",
    "fpr, tpr, thresholds = roc_curve(test_y,predtest_y_rs_lin_tfidf, pos_label = 1)\n",
    "rs_lin_tfidf_auc_score = auc(fpr,tpr)\n",
    "print(\"Test AUC for  Linear SVM model with TF-IDF:\",rs_lin_tfidf_auc_score)\n",
    "# Confusion matrix\n",
    "rs_lin_tfidf_cm = confusion_matrix(test_y, predtest_y_rs_lin_tfidf)"
   ]
  },
  {
   "cell_type": "code",
   "execution_count": 35,
   "metadata": {},
   "outputs": [
    {
     "data": {
      "image/png": "[encoded data removed]",
      "text/plain": [
       "<matplotlib.figure.Figure at 0xd9991fd0>"
      ]
     },
     "metadata": {},
     "output_type": "display_data"
    }
   ],
   "source": [
    "plot_confusion_matrix(rs_lin_tfidf_cm, ['Positive','Negative'])"
   ]
  },
  {
   "cell_type": "markdown",
   "metadata": {},
   "source": [
    "#### Observations: "
   ]
  },
  {
   "cell_type": "markdown",
   "metadata": {},
   "source": [
    "1. AUC of 83% is achieved with f1 score of 70% and we have identified 75% of Negative reviews successfully though with high 66% accuracy. Similar to Grid Search results\n",
    "2. Linear SVM Model with BOW featurisation parameters searched with Grid Search CV seems to better of the above models."
   ]
  },
  {
   "cell_type": "markdown",
   "metadata": {},
   "source": [
    "#### Top 5 features of TFIDF - Linear SVM Model"
   ]
  },
  {
   "cell_type": "code",
   "execution_count": 37,
   "metadata": {},
   "outputs": [
    {
     "name": "stdout",
     "output_type": "stream",
     "text": [
      "Top 5 features of Linear SVM model for positive and negative classes respectively:\n",
      "\t-0.0022\tabsolutuley    \t\t0.0043\tprefrozen      \n",
      "\t-0.0020\tswimmer        \t\t0.0039\tpodravka       \n",
      "\t-0.0020\talci           \t\t0.0033\torganza        \n",
      "\t-0.0019\ttrusti         \t\t0.0025\tonezip         \n",
      "\t-0.0019\tadder          \t\t0.0022\tvecchia        \n"
     ]
    }
   ],
   "source": [
    "print(\"Top 5 features of Linear SVM model for positive and negative classes respectively:\")\n",
    "print_top10(count_vec,model_rs_lin_tfidf,5)"
   ]
  },
  {
   "cell_type": "markdown",
   "metadata": {},
   "source": [
    "## ===================== SVM with AvgW2V features ========================="
   ]
  },
  {
   "cell_type": "markdown",
   "metadata": {},
   "source": [
    "## SVM without Kernel with Grid Search Cross Validation"
   ]
  },
  {
   "cell_type": "code",
   "execution_count": 24,
   "metadata": {},
   "outputs": [
    {
     "name": "stdout",
     "output_type": "stream",
     "text": [
      "SGDClassifier(alpha=0.01, average=False, class_weight='balanced', epsilon=0.1,\n",
      "       eta0=0.0, fit_intercept=True, l1_ratio=0.15,\n",
      "       learning_rate='optimal', loss='hinge', max_iter=None, n_iter=None,\n",
      "       n_jobs=1, penalty='l2', power_t=0.5, random_state=100, shuffle=True,\n",
      "       tol=None, verbose=0, warm_start=False)\n"
     ]
    }
   ],
   "source": [
    "# 10 fold - Time based Cross Validation \n",
    "tscv = TimeSeriesSplit(max_train_size= None, n_splits= 10)\n",
    "X = sent_vect[:train.shape[0]] \n",
    "X = StandardScaler(with_mean = True).fit_transform(X)\n",
    "Y = np.array(train['Score'].apply(lambda x: 1 if x =='Negative' else 0)) # Target Variable preparation\n",
    "param = {'alpha': [10 ** x for x in range(-4, 5)]}\n",
    "gs_lin_avgw2v_model = GridSearchCV(estimator = SGDClassifier(loss = 'hinge',class_weight= 'balanced', random_state= 100)\\\n",
    "                                                    ,param_grid = param,cv = tscv)\n",
    "gs_lin_avgw2v_model.fit(X,Y)\n",
    "\n",
    "print(gs_lin_avgw2v_model.best_estimator_)"
   ]
  },
  {
   "cell_type": "code",
   "execution_count": 28,
   "metadata": {},
   "outputs": [
    {
     "data": {
      "image/png": "[encoded data removed]",
      "text/plain": [
       "<matplotlib.figure.Figure at 0xd384eda0>"
      ]
     },
     "metadata": {},
     "output_type": "display_data"
    }
   ],
   "source": [
    "tscv_scores = gs_lin_avgw2v_model.cv_results_.get('mean_test_score')\n",
    "trcv_scores = gs_lin_avgw2v_model.cv_results_.get('mean_train_score')\n",
    "# Bias-Variance plot\n",
    "x = [1,2,3,4,5,6,7,8,9]\n",
    "ts_error = [100 - x*100 for x in tscv_scores]\n",
    "tr_error = [100 - x*100 for x in trcv_scores]\n",
    "plt.plot(x, ts_error, color='g', label ='CV-error')\n",
    "plt.plot(x, tr_error, color='orange', label = 'Train-error')\n",
    "plt.xlabel('Model Complexity')\n",
    "plt.ylabel('Error in percentage')\n",
    "plt.title('Train-Test Plot')\n",
    "plt.plot(np.repeat(4,9),[0,9,15,18,38,48,49,50,58] , linestyle='--',label = 'Best model')\n",
    "plt.legend()\n",
    "plt.show()"
   ]
  },
  {
   "cell_type": "code",
   "execution_count": 26,
   "metadata": {},
   "outputs": [
    {
     "name": "stdout",
     "output_type": "stream",
     "text": [
      "Test Accuracy for Linear SVM model with Avg. Word2Vec: 82.5419999797224 %\n",
      "Test Precision for Linear SVM model with Avg. Word2Vec for Negative label reviews: 0.5101787000065457\n",
      "Test Recall for Linear SVM model with Avg. Word2Vec for Negative label reviews: 0.873717840928199\n",
      "Test fscore for Linear SVM model with Avg. Word2Vec for Negative label reviews: 0.6441987808657919\n",
      "Test AUC for  Linear SVM model with Avg. Word2Vec: 0.8442360711015546\n"
     ]
    }
   ],
   "source": [
    "# ====================================== Model Performance measures on Test Data ===============================================\n",
    "# Checking accuracy of the model on test data\n",
    "X_scaler = StandardScaler(with_mean = True)\n",
    "train_X = X_scaler.fit_transform(sent_vect[:train.shape[0]] )\n",
    "avgw2v_tst = X_scaler.transform(sent_vect[train.shape[0]:])\n",
    "classifier_name = SGDClassifier(loss = 'hinge',class_weight= 'balanced', random_state= 100,alpha = 0.01)\n",
    "train_y = np.array(train['Score'].apply(lambda x: 1 if x =='Negative' else 0))\n",
    "test_y = np.array(test['Score'].apply(lambda x: 1 if x =='Negative' else 0))\n",
    "# Positive = 0 ; Negative = 1\n",
    "model_gs_lin_avgw2v = classifier_name.fit(train_X,train_y)\n",
    "predtest_y_gs_lin_avgw2v = model_gs_lin_avgw2v.predict(avgw2v_tst)\n",
    "\n",
    "# Accuracy score\n",
    "gs_lin_acc_avgw2v = accuracy_score(test_y, predtest_y_gs_lin_avgw2v, normalize=True)*100\n",
    "print(\"Test Accuracy for Linear SVM model with Avg. Word2Vec:\",gs_lin_acc_avgw2v,'%')\n",
    "# Precision-Recall, f-score\n",
    "gs_lin_avgw2v_pre, gs_lin_avgw2v_recall, gs_lin_avgw2v_fscore, gs_lin_avgw2v_suprt = \\\n",
    "                precision_recall_fscore_support(test_y,predtest_y_gs_lin_avgw2v,pos_label = 1, average = 'binary')\n",
    "print(\"Test Precision for Linear SVM model with Avg. Word2Vec for Negative label reviews:\",gs_lin_avgw2v_pre)\n",
    "print(\"Test Recall for Linear SVM model with Avg. Word2Vec for Negative label reviews:\",gs_lin_avgw2v_recall)\n",
    "print(\"Test fscore for Linear SVM model with Avg. Word2Vec for Negative label reviews:\",gs_lin_avgw2v_fscore)\n",
    "# ROC, AUC\n",
    "fpr, tpr, thresholds = roc_curve(test_y,predtest_y_gs_lin_avgw2v, pos_label = 1)\n",
    "gs_lin_avgw2v_auc_score = auc(fpr,tpr)\n",
    "print(\"Test AUC for  Linear SVM model with Avg. Word2Vec:\",gs_lin_avgw2v_auc_score)\n",
    "# Confusion matrix\n",
    "gs_lin_avgw2v_cm = confusion_matrix(test_y, predtest_y_gs_lin_avgw2v)"
   ]
  },
  {
   "cell_type": "code",
   "execution_count": 27,
   "metadata": {},
   "outputs": [
    {
     "data": {
      "image/png": "[encoded data removed]",
      "text/plain": [
       "<matplotlib.figure.Figure at 0xd25f0a90>"
      ]
     },
     "metadata": {},
     "output_type": "display_data"
    }
   ],
   "source": [
    "plot_confusion_matrix(gs_lin_avgw2v_cm, ['Positive','Negative'])"
   ]
  },
  {
   "cell_type": "markdown",
   "metadata": {},
   "source": [
    "#### Observations: "
   ]
  },
  {
   "cell_type": "markdown",
   "metadata": {},
   "source": [
    "1. AUC of 84% is achieved with f1 score of 64% and we have identified 87% of Negative reviews successfully though with 51% accuracy.\n",
    "2. Linear SVM Model with BOW featurisation parameters searched with Grid Search CV seems to better of the above models."
   ]
  },
  {
   "cell_type": "markdown",
   "metadata": {},
   "source": [
    "## SVM without Kernel with Random Search Cross Validation"
   ]
  },
  {
   "cell_type": "code",
   "execution_count": 34,
   "metadata": {},
   "outputs": [
    {
     "name": "stdout",
     "output_type": "stream",
     "text": [
      "SGDClassifier(alpha=19.946786409205625, average=False,\n",
      "       class_weight='balanced', epsilon=0.1, eta0=0.0, fit_intercept=True,\n",
      "       l1_ratio=0.15, learning_rate='optimal', loss='hinge', max_iter=None,\n",
      "       n_iter=None, n_jobs=1, penalty='l2', power_t=0.5, random_state=100,\n",
      "       shuffle=True, tol=None, verbose=0, warm_start=False)\n"
     ]
    }
   ],
   "source": [
    "# 10 fold - Time based Cross Validation \n",
    "tscv = TimeSeriesSplit(max_train_size= None, n_splits= 10)\n",
    "X = sent_vect[:train.shape[0]] \n",
    "X = StandardScaler(with_mean = True).fit_transform(X)\n",
    "Y = np.array(train['Score'].apply(lambda x: 1 if x =='Negative' else 0)) # Target Variable preparation\n",
    "param = {'alpha': np.random.uniform(10**-2,10**2,10)}\n",
    "rs_lin_avgw2v_model = RandomizedSearchCV(estimator = SGDClassifier(loss = 'hinge',class_weight= 'balanced', random_state= 100)\\\n",
    "                                                    ,param_distributions = param,cv = tscv)\n",
    "rs_lin_avgw2v_model.fit(X,Y)\n",
    "\n",
    "print(rs_lin_avgw2v_model.best_estimator_)"
   ]
  },
  {
   "cell_type": "code",
   "execution_count": 38,
   "metadata": {},
   "outputs": [
    {
     "data": {
      "image/png": "[encoded data removed]",
      "text/plain": [
       "<matplotlib.figure.Figure at 0xd2a22cf8>"
      ]
     },
     "metadata": {},
     "output_type": "display_data"
    }
   ],
   "source": [
    "tscv_scores = rs_lin_avgw2v_model.cv_results_.get('mean_test_score')\n",
    "trcv_scores = rs_lin_avgw2v_model.cv_results_.get('mean_train_score')\n",
    "# Bias-Variance plot\n",
    "x = [1,2,3,4,5,6,7,8,9,10]\n",
    "ts_error = [100 - x*100 for x in tscv_scores]\n",
    "tr_error = [100 - x*100 for x in trcv_scores]\n",
    "plt.plot(x, ts_error, color='g', label ='CV-error')\n",
    "plt.plot(x, tr_error, color='orange', label = 'Train-error')\n",
    "plt.xlabel('Model Complexity')\n",
    "plt.ylabel('Error in percentage')\n",
    "plt.title('Train-Test Plot')\n",
    "plt.plot(np.repeat(8,10),[0,9,15,28,38,48,58,68,88,90] , linestyle='--',label = 'Best model')\n",
    "plt.legend()\n",
    "plt.show()"
   ]
  },
  {
   "cell_type": "code",
   "execution_count": 37,
   "metadata": {},
   "outputs": [
    {
     "name": "stdout",
     "output_type": "stream",
     "text": [
      "Test Accuracy for Linear SVM model with Avg. Word2Vec: 83.53864403686467 %\n",
      "Test Precision for Linear SVM model with Avg. Word2Vec for Negative label reviews: 0.7977736549165121\n",
      "Test Recall for Linear SVM model with Avg. Word2Vec for Negative label reviews: 0.12050894008183398\n",
      "Test fscore for Linear SVM model with Avg. Word2Vec for Negative label reviews: 0.20938839111803662\n",
      "Test AUC for  Linear SVM model with Avg. Word2Vec: 0.5568815278451007\n"
     ]
    }
   ],
   "source": [
    "# ====================================== Model Performance measures on Test Data ===============================================\n",
    "# Checking accuracy of the model on test data\n",
    "X_scaler = StandardScaler(with_mean = True)\n",
    "train_X = X_scaler.fit_transform(sent_vect[:train.shape[0]] )\n",
    "avgw2v_tst = X_scaler.transform(sent_vect[train.shape[0]:])\n",
    "classifier_name = SGDClassifier(loss = 'hinge',class_weight= 'balanced', random_state= 100,alpha = 19.946786409205625)\n",
    "train_y = np.array(train['Score'].apply(lambda x: 1 if x =='Negative' else 0))\n",
    "test_y = np.array(test['Score'].apply(lambda x: 1 if x =='Negative' else 0))\n",
    "# Positive = 0 ; Negative = 1\n",
    "model_rs_lin_avgw2v = classifier_name.fit(train_X,train_y)\n",
    "predtest_y_rs_lin_avgw2v = model_rs_lin_avgw2v.predict(avgw2v_tst)\n",
    "\n",
    "# Accuracy score\n",
    "rs_lin_acc_avgw2v = accuracy_score(test_y, predtest_y_rs_lin_avgw2v, normalize=True)*100\n",
    "print(\"Test Accuracy for Linear SVM model with Avg. Word2Vec:\",rs_lin_acc_avgw2v,'%')\n",
    "# Precision-Recall, f-score\n",
    "rs_lin_avgw2v_pre, rs_lin_avgw2v_recall, rs_lin_avgw2v_fscore, rs_lin_avgw2v_suprt = \\\n",
    "                precision_recall_fscore_support(test_y,predtest_y_rs_lin_avgw2v,pos_label = 1, average = 'binary')\n",
    "print(\"Test Precision for Linear SVM model with Avg. Word2Vec for Negative label reviews:\",rs_lin_avgw2v_pre)\n",
    "print(\"Test Recall for Linear SVM model with Avg. Word2Vec for Negative label reviews:\",rs_lin_avgw2v_recall)\n",
    "print(\"Test fscore for Linear SVM model with Avg. Word2Vec for Negative label reviews:\",rs_lin_avgw2v_fscore)\n",
    "# ROC, AUC\n",
    "fpr, tpr, thresholds = roc_curve(test_y,predtest_y_rs_lin_avgw2v, pos_label = 1)\n",
    "rs_lin_avgw2v_auc_score = auc(fpr,tpr)\n",
    "print(\"Test AUC for  Linear SVM model with Avg. Word2Vec:\",rs_lin_avgw2v_auc_score)\n",
    "# Confusion matrix\n",
    "rs_lin_avgw2v_cm = confusion_matrix(test_y, predtest_y_rs_lin_avgw2v)"
   ]
  },
  {
   "cell_type": "code",
   "execution_count": 39,
   "metadata": {},
   "outputs": [
    {
     "data": {
      "image/png": "[encoded data removed]",
      "text/plain": [
       "<matplotlib.figure.Figure at 0xd29b0978>"
      ]
     },
     "metadata": {},
     "output_type": "display_data"
    }
   ],
   "source": [
    "plot_confusion_matrix(rs_lin_avgw2v_cm, ['Positive','Negative'])"
   ]
  },
  {
   "cell_type": "markdown",
   "metadata": {},
   "source": [
    "#### Observations: "
   ]
  },
  {
   "cell_type": "markdown",
   "metadata": {},
   "source": [
    "1. This seems to be a very bad model, got results worse than the baseline model.\n",
    "2. Linear SVM Model with BOW featurisation parameters searched with Grid Search CV seems to better of the above models."
   ]
  },
  {
   "cell_type": "markdown",
   "metadata": {},
   "source": [
    "## ===================== SVM with TF-IDFW2V features ========================="
   ]
  },
  {
   "cell_type": "code",
   "execution_count": null,
   "metadata": {},
   "outputs": [],
   "source": []
  },
  {
   "cell_type": "code",
   "execution_count": null,
   "metadata": {},
   "outputs": [],
   "source": []
  },
  {
   "cell_type": "markdown",
   "metadata": {},
   "source": [
    "## SVM with RBF Kernel with Grid Search Cross Validation"
   ]
  },
  {
   "cell_type": "code",
   "execution_count": null,
   "metadata": {},
   "outputs": [],
   "source": [
    "# 10 fold - Time based Cross Validation \n",
    "tscv = TimeSeriesSplit(max_train_size= None, n_splits= 10)\n",
    "X = bow_words\n",
    "X = StandardScaler(with_mean = False).fit_transform(X)\n",
    "Y = np.array(train['Score'].apply(lambda x: 1 if x =='Negative' else 0)) # Target Variable preparation\n",
    "param = {'C': np.logspace(-3,4,6),'gamma': np.logspace(-3,4,6)}\n",
    "gs_rbf_bow_model = GridSearchCV(estimator = SVC(kernel = 'rbf',class_weight= 'balanced', random_state= 100)\\\n",
    "                                                    ,param_grid = param,cv = tscv)\n",
    "gs_rbf_bow_model.fit(X,Y)\n",
    "\n",
    "print(gs_rbf_bow_model.best_estimator_)"
   ]
  },
  {
   "cell_type": "code",
   "execution_count": null,
   "metadata": {},
   "outputs": [],
   "source": [
    "tscv_scores = gs_rbf_bow_model.cv_results_.get('mean_test_score')\n",
    "trcv_scores = gs_rbf_bow_model.cv_results_.get('mean_train_score')\n",
    "# Bias-Variance plot\n",
    "x = [1,2,3,4,5,6]\n",
    "ts_error = [100 - x*100 for x in tscv_scores]\n",
    "tr_error = [100 - x*100 for x in trcv_scores]\n",
    "plt.plot(x, ts_error, color='g', label ='CV-error')\n",
    "plt.plot(x, tr_error, color='orange', label = 'Train-error')\n",
    "plt.xlabel('Model Complexity')\n",
    "plt.ylabel('Error in percentage')\n",
    "plt.title('Train-Test Plot')\n",
    "plt.plot(np.repeat(3,6),[3,9,15,28,38,48] , linestyle='--',label = 'Best model')\n",
    "plt.legend()\n",
    "plt.show()"
   ]
  },
  {
   "cell_type": "code",
   "execution_count": null,
   "metadata": {},
   "outputs": [],
   "source": []
  },
  {
   "cell_type": "code",
   "execution_count": null,
   "metadata": {},
   "outputs": [],
   "source": []
  },
  {
   "cell_type": "code",
   "execution_count": null,
   "metadata": {},
   "outputs": [],
   "source": []
  },
  {
   "cell_type": "code",
   "execution_count": null,
   "metadata": {},
   "outputs": [],
   "source": []
  },
  {
   "cell_type": "code",
   "execution_count": null,
   "metadata": {},
   "outputs": [],
   "source": []
  },
  {
   "cell_type": "markdown",
   "metadata": {},
   "source": [
    "# TF-IDF Naive Bayes Model"
   ]
  },
  {
   "cell_type": "code",
   "execution_count": 105,
   "metadata": {},
   "outputs": [],
   "source": [
    "# 10 fold - Time based Cross Validation \n",
    "tscv = TimeSeriesSplit(max_train_size= None, n_splits= 10)\n",
    "X = tfidf_words\n",
    "Y = np.array(train['Score'].apply(lambda x: 1 if x =='Negative' else 0)) # Target Variable preparation\n",
    "alpha = [0.0001,0.001,0.01,0.1,0,10,100,1000,10000]\n",
    "trcv_scores = []\n",
    "tscv_scores = []\n",
    "for i in alpha:\n",
    "    classifier_name = MultinomialNB(alpha=i,fit_prior=False,class_prior=[0.5,0.5])\n",
    "    for train_index, test_index in tscv.split(X):\n",
    "        tsscore = []\n",
    "        trscore = []\n",
    "        train_x, test_x = X[train_index], X[test_index]\n",
    "        train_y, test_y = Y[train_index], Y[test_index]\n",
    "        modelNB = classifier_name.fit(train_x,train_y) \n",
    "        test_ypred = modelNB.predict(test_x)\n",
    "        train_ypred = modelNB.predict(train_x)\n",
    "        tsscore.append(accuracy_score(test_y,test_ypred,normalize = True)*100)\n",
    "        trscore.append(accuracy_score(train_y,train_ypred,normalize = True)*100)\n",
    "    trcv_scores.append(np.array(trscore).mean())\n",
    "    tscv_scores.append(np.array(tsscore).mean())\n",
    "        \n",
    "best_alpha = alpha[tscv_scores.index(max(tscv_scores))]"
   ]
  },
  {
   "cell_type": "code",
   "execution_count": 107,
   "metadata": {},
   "outputs": [
    {
     "data": {
      "image/png": "[encoded data removed]",
      "text/plain": [
       "<matplotlib.figure.Figure at 0xd7e49dd8>"
      ]
     },
     "metadata": {},
     "output_type": "display_data"
    }
   ],
   "source": [
    "# Bias-Variance plot\n",
    "x = [1,2,3,4,5,6,7,8,9]\n",
    "ts_error = [100 - x for x in tscv_scores]\n",
    "tr_error = [100 - x for x in trcv_scores]\n",
    "plt.plot(x, ts_error, color='g', label ='CV-error')\n",
    "plt.plot(x, tr_error, color='orange', label = 'Train-error')\n",
    "plt.xlabel('Model Complexity')\n",
    "plt.ylabel('Error in percentage')\n",
    "plt.title('Train-Test Plot')\n",
    "plt.plot(np.repeat(3,9),[0,3,5,8,10,12,16,17,20] , linestyle='--',label = 'Best model')\n",
    "plt.legend()\n",
    "plt.show()"
   ]
  },
  {
   "cell_type": "markdown",
   "metadata": {},
   "source": [
    "Low Cross Validation error and low training error is observed at alpha = 0.01. So, picking up the model with \n",
    "laplace smooting coefficient = 0.01."
   ]
  },
  {
   "cell_type": "code",
   "execution_count": 113,
   "metadata": {},
   "outputs": [
    {
     "name": "stdout",
     "output_type": "stream",
     "text": [
      "Test Accuracy for NB model with TF-IDF: 89.36237085703279 %\n",
      "Test Precision for NB model with TF-IDF for Positive label reviews: 0.7258867646154792\n",
      "Test Recall for NB model with TF-IDF for Positive label reviews: 0.6618463090633933\n",
      "Test fscore for NB model with TF-IDF for Positive label reviews: 0.6923888823736367\n",
      "Test AUC for NB model with TF-IDF: 0.8033269173736325\n"
     ]
    }
   ],
   "source": [
    "# Checking accuracy of the model on test data\n",
    "tfidf_words_tst = tfidf_vec.transform(test['cleaned_sent'].values)\n",
    "classifier_name = MultinomialNB(alpha = 0.01,fit_prior=False,class_prior=[0.5,0.5])\n",
    "train_y = np.array(train['Score'].apply(lambda x: 1 if x =='Negative' else 0))\n",
    "test_y = np.array(test['Score'].apply(lambda x: 1 if x =='Negative' else 0))\n",
    "modelNB_tfidf = classifier_name.fit(tfidf_words,train_y)\n",
    "predtest_y_tfidf = modelNB_tfidf.predict(tfidf_words_tst)\n",
    "\n",
    "# Accuracy score\n",
    "tfidf_acc = accuracy_score(test_y, predtest_y_tfidf, normalize=True)*100\n",
    "print(\"Test Accuracy for NB model with TF-IDF:\",tfidf_acc,'%')\n",
    "# Precision-Recall, f-score\n",
    "tfidf_pre, tfidf_recall, tfidf_fscore, tfidf_suprt = precision_recall_fscore_support(test_y,predtest_y_tfidf\\\n",
    "                                                                                     ,pos_label = 1, average = 'binary')\n",
    "print(\"Test Precision for NB model with TF-IDF for Positive label reviews:\",tfidf_pre)\n",
    "print(\"Test Recall for NB model with TF-IDF for Positive label reviews:\",tfidf_recall)\n",
    "print(\"Test fscore for NB model with TF-IDF for Positive label reviews:\",tfidf_fscore)\n",
    "# ROC, AUC\n",
    "tfidf_fpr, tfidf_tpr, tfidf_thresholds = roc_curve(test_y,predtest_y_tfidf, pos_label = 1)\n",
    "tfidf_auc_score = auc(tfidf_fpr,tfidf_tpr)\n",
    "print(\"Test AUC for NB model with TF-IDF:\",tfidf_auc_score)\n",
    "# Confusion matrix\n",
    "tfidf_cm = confusion_matrix(test_y, predtest_y_tfidf)"
   ]
  },
  {
   "cell_type": "code",
   "execution_count": 114,
   "metadata": {},
   "outputs": [
    {
     "data": {
      "image/png": "[encoded data removed]",
      "text/plain": [
       "<matplotlib.figure.Figure at 0xd6f76748>"
      ]
     },
     "metadata": {},
     "output_type": "display_data"
    }
   ],
   "source": [
    "plot_confusion_matrix(tfidf_cm, ['Positive','Negative'])"
   ]
  },
  {
   "cell_type": "markdown",
   "metadata": {},
   "source": [
    "#### Observations:\n",
    "\n",
    "1. Precision has come down from 84% to 72% but the recall rate has improved a lot with the TFIDF based NB model.\n",
    "2. AUC is good for the model (80%)"
   ]
  },
  {
   "cell_type": "code",
   "execution_count": 110,
   "metadata": {},
   "outputs": [
    {
     "name": "stdout",
     "output_type": "stream",
     "text": [
      "\t-8.3894\tprefrozen      \n",
      "\t-8.4159\tpodravka       \n",
      "\t-9.0251\torganza        \n",
      "\t-9.0329\tincisor        \n",
      "\t-9.1617\tvecchia        \n",
      "\t-9.1624\tmicroorgan     \n",
      "\t-9.1844\tuncrush        \n",
      "\t-9.2316\tvapid          \n",
      "\t-9.2773\tsimplehuman    \n",
      "\t-9.4081\tlalabar        \n"
     ]
    }
   ],
   "source": [
    "# Top 10 features with Naive Bayes Model\n",
    "print_top10(count_vec,modelNB_tfidf,n=10)"
   ]
  },
  {
   "cell_type": "markdown",
   "metadata": {},
   "source": [
    "## Conclusion:"
   ]
  },
  {
   "cell_type": "code",
   "execution_count": 145,
   "metadata": {},
   "outputs": [
    {
     "data": {
      "text/html": [
       "<div>\n",
       "<style scoped>\n",
       "    .dataframe tbody tr th:only-of-type {\n",
       "        vertical-align: middle;\n",
       "    }\n",
       "\n",
       "    .dataframe tbody tr th {\n",
       "        vertical-align: top;\n",
       "    }\n",
       "\n",
       "    .dataframe thead th {\n",
       "        text-align: right;\n",
       "    }\n",
       "</style>\n",
       "<table border=\"1\" class=\"dataframe\">\n",
       "  <thead>\n",
       "    <tr style=\"text-align: right;\">\n",
       "      <th></th>\n",
       "      <th>Model</th>\n",
       "      <th>Accuracy</th>\n",
       "      <th>Precision</th>\n",
       "      <th>Recall</th>\n",
       "      <th>f-score</th>\n",
       "      <th>AUC</th>\n",
       "    </tr>\n",
       "  </thead>\n",
       "  <tbody>\n",
       "    <tr>\n",
       "      <th>0</th>\n",
       "      <td>Bag Of Words</td>\n",
       "      <td>87.678316</td>\n",
       "      <td>0.847762</td>\n",
       "      <td>0.388599</td>\n",
       "      <td>0.532918</td>\n",
       "      <td>0.686594</td>\n",
       "    </tr>\n",
       "    <tr>\n",
       "      <th>1</th>\n",
       "      <td>TF-IDF</td>\n",
       "      <td>89.362371</td>\n",
       "      <td>0.725887</td>\n",
       "      <td>0.661846</td>\n",
       "      <td>0.692389</td>\n",
       "      <td>0.803327</td>\n",
       "    </tr>\n",
       "  </tbody>\n",
       "</table>\n",
       "</div>"
      ],
      "text/plain": [
       "          Model   Accuracy  Precision    Recall   f-score       AUC\n",
       "0  Bag Of Words  87.678316   0.847762  0.388599  0.532918  0.686594\n",
       "1        TF-IDF  89.362371   0.725887  0.661846  0.692389  0.803327"
      ]
     },
     "execution_count": 145,
     "metadata": {},
     "output_type": "execute_result"
    }
   ],
   "source": [
    "table = [[\"Bag Of Words\", bow_acc, bow_pre,bow_recall, bow_fscore,bow_auc_score],\n",
    "         [\"TF-IDF\", tfidf_acc, tfidf_pre,tfidf_recall,tfidf_fscore,tfidf_auc_score]]\n",
    "pd.DataFrame(table, columns = [\"Model\",\"Accuracy\", \"Precision\", \"Recall\",\"f-score\",\"AUC\"])"
   ]
  },
  {
   "cell_type": "markdown",
   "metadata": {},
   "source": [
    "Naive Bayes Model is a simple yet powerful model which takes a naive assumption that all the features are independent or \n",
    "or uncorelated to each other. The best accuracy that we could get using Naive Bayes is 89%. The Naive Bayes Model built with Term Frequency- Inverse Document Frequency vectors seems to be the best of all with an AUC of 80%. We can keep this as baseline measure for other algorithms."
   ]
  }
 ],
 "metadata": {
  "kernelspec": {
   "display_name": "Python 3",
   "language": "python",
   "name": "python3"
  },
  "language_info": {
   "codemirror_mode": {
    "name": "ipython",
    "version": 3
   },
   "file_extension": ".py",
   "mimetype": "text/x-python",
   "name": "python",
   "nbconvert_exporter": "python",
   "pygments_lexer": "ipython3",
   "version": "3.6.4"
  }
 },
 "nbformat": 4,
 "nbformat_minor": 2
}
